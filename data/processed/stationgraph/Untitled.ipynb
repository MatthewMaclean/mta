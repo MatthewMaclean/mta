{
 "cells": [
  {
   "cell_type": "code",
   "execution_count": 1,
   "metadata": {},
   "outputs": [
    {
     "name": "stderr",
     "output_type": "stream",
     "text": [
      "\n",
      "Attaching package: ‘igraph’\n",
      "\n",
      "\n",
      "The following objects are masked from ‘package:stats’:\n",
      "\n",
      "    decompose, spectrum\n",
      "\n",
      "\n",
      "The following object is masked from ‘package:base’:\n",
      "\n",
      "    union\n",
      "\n",
      "\n",
      "\n",
      "Attaching package: ‘dplyr’\n",
      "\n",
      "\n",
      "The following objects are masked from ‘package:igraph’:\n",
      "\n",
      "    as_data_frame, groups, union\n",
      "\n",
      "\n",
      "The following objects are masked from ‘package:stats’:\n",
      "\n",
      "    filter, lag\n",
      "\n",
      "\n",
      "The following objects are masked from ‘package:base’:\n",
      "\n",
      "    intersect, setdiff, setequal, union\n",
      "\n",
      "\n"
     ]
    }
   ],
   "source": [
    "library(igraph)\n",
    "library(dplyr)"
   ]
  },
  {
   "cell_type": "code",
   "execution_count": 125,
   "metadata": {},
   "outputs": [],
   "source": [
    "h <- read.graph('mta-elevators-w-station-connections.graphml',format = 'graphml')\n",
    "\n",
    "V(h)$clean_name <- V(h)$name\n",
    "V(h)$name <- V(h)$id\n",
    "\n",
    "h_el <- igraph::as_data_frame(h)\n",
    "h_el$line <- NA\n",
    "\n",
    "vertex_attributes <- data.frame(name=V(h)$id,clean_name=V(h)$clean_name,label=V(h)$label,node_type=V(h)$node_type,station=V(h)$station,color=V(h)$color,stringsAsFactors = F)\n",
    "\n",
    "ss <- read.csv('station_to_station.csv',stringsAsFactors = F)\n",
    "p_gtfs <- read.csv('../../crosswalk/platform_id_to_GTFS_mapping.csv',stringsAsFactors = F)\n",
    "\n",
    "station_connections <- ss %>% dplyr::select(from,to,line) %>% \n",
    "        left_join(p_gtfs[,c('platform_id','stop_id','line')], by=c(\"from\" = \"stop_id\", \"line\" = \"line\")) %>% \n",
    "        left_join(p_gtfs[,c('platform_id','stop_id','line')], by=c(\"to\" = \"stop_id\", \"line\" = \"line\"))\n",
    "colnames(station_connections)[4:5] <- c('from_pid','to_pid')\n",
    "station_connections <- station_connections[!is.na(station_connections$from_pid) & !is.na(station_connections$to_pid),]\n",
    "\n",
    "addl_edges <- station_connections[!duplicated(station_connections),c('from_pid','to_pid','line')]\n",
    "colnames(addl_edges) <- c(\"from\",\"to\",'line')\n",
    "\n",
    "addl_edges <- addl_edges %>% left_join(vertex_attributes[,c('name','clean_name')],by=c(\"from\"='clean_name')) %>% left_join(vertex_attributes[,c('name','clean_name')],by=c(\"to\"='clean_name'))\n",
    "addl_edges <- addl_edges[,c('name.x','name.y','line')]\n",
    "colnames(addl_edges) <- c(\"from\",\"to\",\"line\")\n",
    "\n",
    "full_edgelist <- rbind(h_el,addl_edges)\n",
    "h_new <- graph_from_data_frame(full_edgelist,directed = F)\n",
    "\n",
    "df <- igraph::as_data_frame(h_new,'both')\n",
    "\n",
    "df$vertices <- df$vertices %>% \n",
    "  left_join(vertex_attributes, by='name')\n",
    "\n",
    "updated_graph <- graph_from_data_frame(df$edges,\n",
    "                                   directed = F,\n",
    "                                   vertices = df$vertices)\n",
    "\n",
    "names(vertex_attr(updated_graph))[which(names(vertex_attr(updated_graph)) == \"name\")] <- \"id\"\n",
    "names(vertex_attr(updated_graph))[which(names(vertex_attr(updated_graph)) == \"clean_name\")] <- \"name\""
   ]
  },
  {
   "cell_type": "code",
   "execution_count": 124,
   "metadata": {},
   "outputs": [
    {
     "data": {
      "text/html": [
       "<table>\n",
       "<caption>A data.frame: 6 × 5</caption>\n",
       "<thead>\n",
       "\t<tr><th scope=col>from</th><th scope=col>to</th><th scope=col>line</th><th scope=col>from_pid</th><th scope=col>to_pid</th></tr>\n",
       "\t<tr><th scope=col>&lt;chr&gt;</th><th scope=col>&lt;chr&gt;</th><th scope=col>&lt;chr&gt;</th><th scope=col>&lt;chr&gt;</th><th scope=col>&lt;chr&gt;</th></tr>\n",
       "</thead>\n",
       "<tbody>\n",
       "\t<tr><td>101S</td><td>103S</td><td>1</td><td>NA    </td><td>NA    </td></tr>\n",
       "\t<tr><td>103N</td><td>101N</td><td>1</td><td>NA    </td><td>NA    </td></tr>\n",
       "\t<tr><td>103S</td><td>104S</td><td>1</td><td>NA    </td><td>pid_24</td></tr>\n",
       "\t<tr><td>104N</td><td>103N</td><td>1</td><td>pid_24</td><td>NA    </td></tr>\n",
       "\t<tr><td>104S</td><td>106S</td><td>1</td><td>pid_24</td><td>NA    </td></tr>\n",
       "\t<tr><td>106N</td><td>104N</td><td>1</td><td>NA    </td><td>pid_24</td></tr>\n",
       "</tbody>\n",
       "</table>\n"
      ],
      "text/latex": [
       "A data.frame: 6 × 5\n",
       "\\begin{tabular}{r|lllll}\n",
       " from & to & line & from\\_pid & to\\_pid\\\\\n",
       " <chr> & <chr> & <chr> & <chr> & <chr>\\\\\n",
       "\\hline\n",
       "\t 101S & 103S & 1 & NA     & NA    \\\\\n",
       "\t 103N & 101N & 1 & NA     & NA    \\\\\n",
       "\t 103S & 104S & 1 & NA     & pid\\_24\\\\\n",
       "\t 104N & 103N & 1 & pid\\_24 & NA    \\\\\n",
       "\t 104S & 106S & 1 & pid\\_24 & NA    \\\\\n",
       "\t 106N & 104N & 1 & NA     & pid\\_24\\\\\n",
       "\\end{tabular}\n"
      ],
      "text/markdown": [
       "\n",
       "A data.frame: 6 × 5\n",
       "\n",
       "| from &lt;chr&gt; | to &lt;chr&gt; | line &lt;chr&gt; | from_pid &lt;chr&gt; | to_pid &lt;chr&gt; |\n",
       "|---|---|---|---|---|\n",
       "| 101S | 103S | 1 | NA     | NA     |\n",
       "| 103N | 101N | 1 | NA     | NA     |\n",
       "| 103S | 104S | 1 | NA     | pid_24 |\n",
       "| 104N | 103N | 1 | pid_24 | NA     |\n",
       "| 104S | 106S | 1 | pid_24 | NA     |\n",
       "| 106N | 104N | 1 | NA     | pid_24 |\n",
       "\n"
      ],
      "text/plain": [
       "  from to   line from_pid to_pid\n",
       "1 101S 103S 1    NA       NA    \n",
       "2 103N 101N 1    NA       NA    \n",
       "3 103S 104S 1    NA       pid_24\n",
       "4 104N 103N 1    pid_24   NA    \n",
       "5 104S 106S 1    pid_24   NA    \n",
       "6 106N 104N 1    NA       pid_24"
      ]
     },
     "metadata": {},
     "output_type": "display_data"
    }
   ],
   "source": [
    "ss <- read.csv('station_to_station.csv',stringsAsFactors = F)\n",
    "p_gtfs <- read.csv('../../crosswalk/platform_id_to_GTFS_mapping.csv',stringsAsFactors = F)\n",
    "\n",
    "station_connections <- ss %>% dplyr::select(from,to,line) %>% \n",
    "        left_join(p_gtfs[,c('platform_id','stop_id','line')], by=c(\"from\" = \"stop_id\", \"line\" = \"line\")) %>% \n",
    "        left_join(p_gtfs[,c('platform_id','stop_id','line')], by=c(\"to\" = \"stop_id\", \"line\" = \"line\"))\n",
    "colnames(station_connections)[4:5] <- c('from_pid','to_pid')\n",
    "head(station_connections)"
   ]
  },
  {
   "cell_type": "code",
   "execution_count": 39,
   "metadata": {},
   "outputs": [],
   "source": [
    "h <- read.graph('mta-elevators-w-station-connections.graphml',format = 'graphml')"
   ]
  },
  {
   "cell_type": "code",
   "execution_count": 126,
   "metadata": {},
   "outputs": [],
   "source": [
    "sub <- induced_subgraph(updated_graph,vids = V(updated_graph)$name[grepl('pid_',V(updated_graph)$name)])"
   ]
  },
  {
   "cell_type": "code",
   "execution_count": 128,
   "metadata": {},
   "outputs": [
    {
     "data": {
      "image/png": "[encoded data removed]",
      "text/plain": [
       "Plot with title “”"
      ]
     },
     "metadata": {
      "image/png": {
       "height": 420,
       "width": 420
      },
      "text/plain": {
       "height": 420,
       "width": 420
      }
     },
     "output_type": "display_data"
    }
   ],
   "source": [
    "plot(updated_graph,vertex.size=2,vertex.label.cex=0.1,vertex.color=V(updated_graph)$color,edge.width=2)"
   ]
  },
  {
   "cell_type": "code",
   "execution_count": 129,
   "metadata": {},
   "outputs": [
    {
     "data": {
      "image/png": "[encoded data removed]",
      "text/plain": [
       "Plot with title “”"
      ]
     },
     "metadata": {
      "image/png": {
       "height": 420,
       "width": 420
      },
      "text/plain": {
       "height": 420,
       "width": 420
      }
     },
     "output_type": "display_data"
    }
   ],
   "source": [
    "plot(h_new,vertex.size=2,vertex.label.cex=0.01)"
   ]
  },
  {
   "cell_type": "code",
   "execution_count": 133,
   "metadata": {},
   "outputs": [],
   "source": [
    "p_gtfs <- p_gtfs[,c('platform_id','stop_id','line')]\n",
    "p_gtfs <- p_gtfs[!duplicated(p_gtfs),]"
   ]
  },
  {
   "cell_type": "code",
   "execution_count": 137,
   "metadata": {},
   "outputs": [
    {
     "data": {
      "text/html": [
       "<table>\n",
       "<caption>A data.frame: 0 × 3</caption>\n",
       "<thead>\n",
       "\t<tr><th scope=col>platform_id</th><th scope=col>stop_id</th><th scope=col>line</th></tr>\n",
       "\t<tr><th scope=col>&lt;chr&gt;</th><th scope=col>&lt;chr&gt;</th><th scope=col>&lt;chr&gt;</th></tr>\n",
       "</thead>\n",
       "<tbody>\n",
       "</tbody>\n",
       "</table>\n"
      ],
      "text/latex": [
       "A data.frame: 0 × 3\n",
       "\\begin{tabular}{r|lll}\n",
       " platform\\_id & stop\\_id & line\\\\\n",
       " <chr> & <chr> & <chr>\\\\\n",
       "\\hline\n",
       "\\end{tabular}\n"
      ],
      "text/markdown": [
       "\n",
       "A data.frame: 0 × 3\n",
       "\n",
       "| platform_id &lt;chr&gt; | stop_id &lt;chr&gt; | line &lt;chr&gt; |\n",
       "|---|---|---|\n",
       "\n"
      ],
      "text/plain": [
       "     platform_id stop_id line"
      ]
     },
     "metadata": {},
     "output_type": "display_data"
    }
   ],
   "source": [
    "p_gtfs[p_gtfs$stop_id =='101S',]"
   ]
  },
  {
   "cell_type": "code",
   "execution_count": 140,
   "metadata": {},
   "outputs": [
    {
     "data": {
      "text/html": [
       "<table>\n",
       "<caption>A data.frame: 103 × 3</caption>\n",
       "<thead>\n",
       "\t<tr><th></th><th scope=col>from</th><th scope=col>to</th><th scope=col>line</th></tr>\n",
       "\t<tr><th></th><th scope=col>&lt;chr&gt;</th><th scope=col>&lt;chr&gt;</th><th scope=col>&lt;chr&gt;</th></tr>\n",
       "</thead>\n",
       "<tbody>\n",
       "\t<tr><th scope=row>41</th><td>123S</td><td>124S</td><td>1</td></tr>\n",
       "\t<tr><th scope=row>42</th><td>124N</td><td>123N</td><td>1</td></tr>\n",
       "\t<tr><th scope=row>49</th><td>127S</td><td>128S</td><td>1</td></tr>\n",
       "\t<tr><th scope=row>50</th><td>128N</td><td>127N</td><td>1</td></tr>\n",
       "\t<tr><th scope=row>69</th><td>137S</td><td>138S</td><td>1</td></tr>\n",
       "\t<tr><th scope=row>70</th><td>138N</td><td>137N</td><td>1</td></tr>\n",
       "\t<tr><th scope=row>76</th><td>120S</td><td>123S</td><td>2</td></tr>\n",
       "\t<tr><th scope=row>77</th><td>123N</td><td>120N</td><td>2</td></tr>\n",
       "\t<tr><th scope=row>78</th><td>123S</td><td>127S</td><td>2</td></tr>\n",
       "\t<tr><th scope=row>79</th><td>127N</td><td>123N</td><td>2</td></tr>\n",
       "\t<tr><th scope=row>80</th><td>127S</td><td>128S</td><td>2</td></tr>\n",
       "\t<tr><th scope=row>81</th><td>128N</td><td>127N</td><td>2</td></tr>\n",
       "\t<tr><th scope=row>172</th><td>120S</td><td>123S</td><td>3</td></tr>\n",
       "\t<tr><th scope=row>173</th><td>123N</td><td>120N</td><td>3</td></tr>\n",
       "\t<tr><th scope=row>174</th><td>123S</td><td>127S</td><td>3</td></tr>\n",
       "\t<tr><th scope=row>175</th><td>127N</td><td>123N</td><td>3</td></tr>\n",
       "\t<tr><th scope=row>176</th><td>127S</td><td>128S</td><td>3</td></tr>\n",
       "\t<tr><th scope=row>177</th><td>128N</td><td>127N</td><td>3</td></tr>\n",
       "\t<tr><th scope=row>273</th><td>418N</td><td>640N</td><td>4</td></tr>\n",
       "\t<tr><th scope=row>284</th><td>626N</td><td>621N</td><td>4</td></tr>\n",
       "\t<tr><th scope=row>293</th><td>640S</td><td>418S</td><td>4</td></tr>\n",
       "\t<tr><th scope=row>305</th><td>213S</td><td>221S</td><td>5</td></tr>\n",
       "\t<tr><th scope=row>320</th><td>221N</td><td>213N</td><td>5</td></tr>\n",
       "\t<tr><th scope=row>348</th><td>418N</td><td>640N</td><td>5</td></tr>\n",
       "\t<tr><th scope=row>367</th><td>626N</td><td>621N</td><td>5</td></tr>\n",
       "\t<tr><th scope=row>376</th><td>640S</td><td>418S</td><td>5</td></tr>\n",
       "\t<tr><th scope=row>441</th><td>633S</td><td>634S</td><td>6</td></tr>\n",
       "\t<tr><th scope=row>453</th><td>639S</td><td>640S</td><td>6</td></tr>\n",
       "\t<tr><th scope=row>454</th><td>640N</td><td>639N</td><td>6</td></tr>\n",
       "\t<tr><th scope=row>466</th><td>707S</td><td>712S</td><td>7</td></tr>\n",
       "\t<tr><th scope=row>⋮</th><td>⋮</td><td>⋮</td><td>⋮</td></tr>\n",
       "\t<tr><th scope=row>848</th><td>B04N</td><td>G14N</td><td>F</td></tr>\n",
       "\t<tr><th scope=row>849</th><td>B04S</td><td>B06S</td><td>F</td></tr>\n",
       "\t<tr><th scope=row>850</th><td>B06N</td><td>B04N</td><td>F</td></tr>\n",
       "\t<tr><th scope=row>851</th><td>B06S</td><td>B08S</td><td>F</td></tr>\n",
       "\t<tr><th scope=row>852</th><td>B08N</td><td>B06N</td><td>F</td></tr>\n",
       "\t<tr><th scope=row>931</th><td>G08S</td><td>G14S</td><td>F</td></tr>\n",
       "\t<tr><th scope=row>932</th><td>G14N</td><td>G08N</td><td>F</td></tr>\n",
       "\t<tr><th scope=row>933</th><td>G14S</td><td>B04S</td><td>F</td></tr>\n",
       "\t<tr><th scope=row>982</th><td>G05S</td><td>G06S</td><td>J</td></tr>\n",
       "\t<tr><th scope=row>983</th><td>G06N</td><td>G05N</td><td>J</td></tr>\n",
       "\t<tr><th scope=row>1200</th><td>R16N</td><td>R15N</td><td>N</td></tr>\n",
       "\t<tr><th scope=row>1201</th><td>R16S</td><td>R17S</td><td>N</td></tr>\n",
       "\t<tr><th scope=row>1202</th><td>R17N</td><td>R16N</td><td>N</td></tr>\n",
       "\t<tr><th scope=row>1204</th><td>R17S</td><td>R20S</td><td>N</td></tr>\n",
       "\t<tr><th scope=row>1209</th><td>R20N</td><td>R17N</td><td>N</td></tr>\n",
       "\t<tr><th scope=row>1232</th><td>B08N</td><td>Q03N</td><td>Q</td></tr>\n",
       "\t<tr><th scope=row>1234</th><td>D24N</td><td>R30N</td><td>Q</td></tr>\n",
       "\t<tr><th scope=row>1274</th><td>Q03S</td><td>B08S</td><td>Q</td></tr>\n",
       "\t<tr><th scope=row>1281</th><td>R16S</td><td>R17S</td><td>Q</td></tr>\n",
       "\t<tr><th scope=row>1282</th><td>R17N</td><td>R16N</td><td>Q</td></tr>\n",
       "\t<tr><th scope=row>1283</th><td>R17S</td><td>R20S</td><td>Q</td></tr>\n",
       "\t<tr><th scope=row>1284</th><td>R20N</td><td>R17N</td><td>Q</td></tr>\n",
       "\t<tr><th scope=row>1287</th><td>R30S</td><td>D24S</td><td>Q</td></tr>\n",
       "\t<tr><th scope=row>1321</th><td>R16N</td><td>R15N</td><td>R</td></tr>\n",
       "\t<tr><th scope=row>1322</th><td>R16S</td><td>R17S</td><td>R</td></tr>\n",
       "\t<tr><th scope=row>1323</th><td>R17N</td><td>R16N</td><td>R</td></tr>\n",
       "\t<tr><th scope=row>1348</th><td>R29S</td><td>R30S</td><td>R</td></tr>\n",
       "\t<tr><th scope=row>1349</th><td>R30N</td><td>R29N</td><td>R</td></tr>\n",
       "\t<tr><th scope=row>1350</th><td>R30S</td><td>R31S</td><td>R</td></tr>\n",
       "\t<tr><th scope=row>1351</th><td>R31N</td><td>R30N</td><td>R</td></tr>\n",
       "</tbody>\n",
       "</table>\n"
      ],
      "text/latex": [
       "A data.frame: 103 × 3\n",
       "\\begin{tabular}{r|lll}\n",
       "  & from & to & line\\\\\n",
       "  & <chr> & <chr> & <chr>\\\\\n",
       "\\hline\n",
       "\t41 & 123S & 124S & 1\\\\\n",
       "\t42 & 124N & 123N & 1\\\\\n",
       "\t49 & 127S & 128S & 1\\\\\n",
       "\t50 & 128N & 127N & 1\\\\\n",
       "\t69 & 137S & 138S & 1\\\\\n",
       "\t70 & 138N & 137N & 1\\\\\n",
       "\t76 & 120S & 123S & 2\\\\\n",
       "\t77 & 123N & 120N & 2\\\\\n",
       "\t78 & 123S & 127S & 2\\\\\n",
       "\t79 & 127N & 123N & 2\\\\\n",
       "\t80 & 127S & 128S & 2\\\\\n",
       "\t81 & 128N & 127N & 2\\\\\n",
       "\t172 & 120S & 123S & 3\\\\\n",
       "\t173 & 123N & 120N & 3\\\\\n",
       "\t174 & 123S & 127S & 3\\\\\n",
       "\t175 & 127N & 123N & 3\\\\\n",
       "\t176 & 127S & 128S & 3\\\\\n",
       "\t177 & 128N & 127N & 3\\\\\n",
       "\t273 & 418N & 640N & 4\\\\\n",
       "\t284 & 626N & 621N & 4\\\\\n",
       "\t293 & 640S & 418S & 4\\\\\n",
       "\t305 & 213S & 221S & 5\\\\\n",
       "\t320 & 221N & 213N & 5\\\\\n",
       "\t348 & 418N & 640N & 5\\\\\n",
       "\t367 & 626N & 621N & 5\\\\\n",
       "\t376 & 640S & 418S & 5\\\\\n",
       "\t441 & 633S & 634S & 6\\\\\n",
       "\t453 & 639S & 640S & 6\\\\\n",
       "\t454 & 640N & 639N & 6\\\\\n",
       "\t466 & 707S & 712S & 7\\\\\n",
       "\t⋮ & ⋮ & ⋮ & ⋮\\\\\n",
       "\t848 & B04N & G14N & F\\\\\n",
       "\t849 & B04S & B06S & F\\\\\n",
       "\t850 & B06N & B04N & F\\\\\n",
       "\t851 & B06S & B08S & F\\\\\n",
       "\t852 & B08N & B06N & F\\\\\n",
       "\t931 & G08S & G14S & F\\\\\n",
       "\t932 & G14N & G08N & F\\\\\n",
       "\t933 & G14S & B04S & F\\\\\n",
       "\t982 & G05S & G06S & J\\\\\n",
       "\t983 & G06N & G05N & J\\\\\n",
       "\t1200 & R16N & R15N & N\\\\\n",
       "\t1201 & R16S & R17S & N\\\\\n",
       "\t1202 & R17N & R16N & N\\\\\n",
       "\t1204 & R17S & R20S & N\\\\\n",
       "\t1209 & R20N & R17N & N\\\\\n",
       "\t1232 & B08N & Q03N & Q\\\\\n",
       "\t1234 & D24N & R30N & Q\\\\\n",
       "\t1274 & Q03S & B08S & Q\\\\\n",
       "\t1281 & R16S & R17S & Q\\\\\n",
       "\t1282 & R17N & R16N & Q\\\\\n",
       "\t1283 & R17S & R20S & Q\\\\\n",
       "\t1284 & R20N & R17N & Q\\\\\n",
       "\t1287 & R30S & D24S & Q\\\\\n",
       "\t1321 & R16N & R15N & R\\\\\n",
       "\t1322 & R16S & R17S & R\\\\\n",
       "\t1323 & R17N & R16N & R\\\\\n",
       "\t1348 & R29S & R30S & R\\\\\n",
       "\t1349 & R30N & R29N & R\\\\\n",
       "\t1350 & R30S & R31S & R\\\\\n",
       "\t1351 & R31N & R30N & R\\\\\n",
       "\\end{tabular}\n"
      ],
      "text/markdown": [
       "\n",
       "A data.frame: 103 × 3\n",
       "\n",
       "| <!--/--> | from &lt;chr&gt; | to &lt;chr&gt; | line &lt;chr&gt; |\n",
       "|---|---|---|---|\n",
       "| 41 | 123S | 124S | 1 |\n",
       "| 42 | 124N | 123N | 1 |\n",
       "| 49 | 127S | 128S | 1 |\n",
       "| 50 | 128N | 127N | 1 |\n",
       "| 69 | 137S | 138S | 1 |\n",
       "| 70 | 138N | 137N | 1 |\n",
       "| 76 | 120S | 123S | 2 |\n",
       "| 77 | 123N | 120N | 2 |\n",
       "| 78 | 123S | 127S | 2 |\n",
       "| 79 | 127N | 123N | 2 |\n",
       "| 80 | 127S | 128S | 2 |\n",
       "| 81 | 128N | 127N | 2 |\n",
       "| 172 | 120S | 123S | 3 |\n",
       "| 173 | 123N | 120N | 3 |\n",
       "| 174 | 123S | 127S | 3 |\n",
       "| 175 | 127N | 123N | 3 |\n",
       "| 176 | 127S | 128S | 3 |\n",
       "| 177 | 128N | 127N | 3 |\n",
       "| 273 | 418N | 640N | 4 |\n",
       "| 284 | 626N | 621N | 4 |\n",
       "| 293 | 640S | 418S | 4 |\n",
       "| 305 | 213S | 221S | 5 |\n",
       "| 320 | 221N | 213N | 5 |\n",
       "| 348 | 418N | 640N | 5 |\n",
       "| 367 | 626N | 621N | 5 |\n",
       "| 376 | 640S | 418S | 5 |\n",
       "| 441 | 633S | 634S | 6 |\n",
       "| 453 | 639S | 640S | 6 |\n",
       "| 454 | 640N | 639N | 6 |\n",
       "| 466 | 707S | 712S | 7 |\n",
       "| ⋮ | ⋮ | ⋮ | ⋮ |\n",
       "| 848 | B04N | G14N | F |\n",
       "| 849 | B04S | B06S | F |\n",
       "| 850 | B06N | B04N | F |\n",
       "| 851 | B06S | B08S | F |\n",
       "| 852 | B08N | B06N | F |\n",
       "| 931 | G08S | G14S | F |\n",
       "| 932 | G14N | G08N | F |\n",
       "| 933 | G14S | B04S | F |\n",
       "| 982 | G05S | G06S | J |\n",
       "| 983 | G06N | G05N | J |\n",
       "| 1200 | R16N | R15N | N |\n",
       "| 1201 | R16S | R17S | N |\n",
       "| 1202 | R17N | R16N | N |\n",
       "| 1204 | R17S | R20S | N |\n",
       "| 1209 | R20N | R17N | N |\n",
       "| 1232 | B08N | Q03N | Q |\n",
       "| 1234 | D24N | R30N | Q |\n",
       "| 1274 | Q03S | B08S | Q |\n",
       "| 1281 | R16S | R17S | Q |\n",
       "| 1282 | R17N | R16N | Q |\n",
       "| 1283 | R17S | R20S | Q |\n",
       "| 1284 | R20N | R17N | Q |\n",
       "| 1287 | R30S | D24S | Q |\n",
       "| 1321 | R16N | R15N | R |\n",
       "| 1322 | R16S | R17S | R |\n",
       "| 1323 | R17N | R16N | R |\n",
       "| 1348 | R29S | R30S | R |\n",
       "| 1349 | R30N | R29N | R |\n",
       "| 1350 | R30S | R31S | R |\n",
       "| 1351 | R31N | R30N | R |\n",
       "\n"
      ],
      "text/plain": [
       "     from to   line\n",
       "41   123S 124S 1   \n",
       "42   124N 123N 1   \n",
       "49   127S 128S 1   \n",
       "50   128N 127N 1   \n",
       "69   137S 138S 1   \n",
       "70   138N 137N 1   \n",
       "76   120S 123S 2   \n",
       "77   123N 120N 2   \n",
       "78   123S 127S 2   \n",
       "79   127N 123N 2   \n",
       "80   127S 128S 2   \n",
       "81   128N 127N 2   \n",
       "172  120S 123S 3   \n",
       "173  123N 120N 3   \n",
       "174  123S 127S 3   \n",
       "175  127N 123N 3   \n",
       "176  127S 128S 3   \n",
       "177  128N 127N 3   \n",
       "273  418N 640N 4   \n",
       "284  626N 621N 4   \n",
       "293  640S 418S 4   \n",
       "305  213S 221S 5   \n",
       "320  221N 213N 5   \n",
       "348  418N 640N 5   \n",
       "367  626N 621N 5   \n",
       "376  640S 418S 5   \n",
       "441  633S 634S 6   \n",
       "453  639S 640S 6   \n",
       "454  640N 639N 6   \n",
       "466  707S 712S 7   \n",
       "⋮    ⋮    ⋮    ⋮   \n",
       "848  B04N G14N F   \n",
       "849  B04S B06S F   \n",
       "850  B06N B04N F   \n",
       "851  B06S B08S F   \n",
       "852  B08N B06N F   \n",
       "931  G08S G14S F   \n",
       "932  G14N G08N F   \n",
       "933  G14S B04S F   \n",
       "982  G05S G06S J   \n",
       "983  G06N G05N J   \n",
       "1200 R16N R15N N   \n",
       "1201 R16S R17S N   \n",
       "1202 R17N R16N N   \n",
       "1204 R17S R20S N   \n",
       "1209 R20N R17N N   \n",
       "1232 B08N Q03N Q   \n",
       "1234 D24N R30N Q   \n",
       "1274 Q03S B08S Q   \n",
       "1281 R16S R17S Q   \n",
       "1282 R17N R16N Q   \n",
       "1283 R17S R20S Q   \n",
       "1284 R20N R17N Q   \n",
       "1287 R30S D24S Q   \n",
       "1321 R16N R15N R   \n",
       "1322 R16S R17S R   \n",
       "1323 R17N R16N R   \n",
       "1348 R29S R30S R   \n",
       "1349 R30N R29N R   \n",
       "1350 R30S R31S R   \n",
       "1351 R31N R30N R   "
      ]
     },
     "metadata": {},
     "output_type": "display_data"
    }
   ],
   "source": [
    "ss[ss$from %in% p_gtfs$stop_id & ss$to %in% p_gtfs$stop_id,]"
   ]
  },
  {
   "cell_type": "code",
   "execution_count": 134,
   "metadata": {},
   "outputs": [],
   "source": [
    "e <- ss %>% dplyr::select(from,to,line) %>% \n",
    "        left_join(p_gtfs[,c('platform_id','stop_id','line')], by=c(\"from\" = \"stop_id\", \"line\" = \"line\")) %>% \n",
    "        left_join(p_gtfs[,c('platform_id','stop_id','line')], by=c(\"to\" = \"stop_id\", \"line\" = \"line\"))"
   ]
  },
  {
   "cell_type": "code",
   "execution_count": 136,
   "metadata": {},
   "outputs": [
    {
     "data": {
      "text/html": [
       "<table>\n",
       "<caption>A data.frame: 6 × 3</caption>\n",
       "<thead>\n",
       "\t<tr><th scope=col>from</th><th scope=col>to</th><th scope=col>line</th></tr>\n",
       "\t<tr><th scope=col>&lt;chr&gt;</th><th scope=col>&lt;chr&gt;</th><th scope=col>&lt;chr&gt;</th></tr>\n",
       "</thead>\n",
       "<tbody>\n",
       "\t<tr><td>101S</td><td>103S</td><td>1</td></tr>\n",
       "\t<tr><td>103N</td><td>101N</td><td>1</td></tr>\n",
       "\t<tr><td>103S</td><td>104S</td><td>1</td></tr>\n",
       "\t<tr><td>104N</td><td>103N</td><td>1</td></tr>\n",
       "\t<tr><td>104S</td><td>106S</td><td>1</td></tr>\n",
       "\t<tr><td>106N</td><td>104N</td><td>1</td></tr>\n",
       "</tbody>\n",
       "</table>\n"
      ],
      "text/latex": [
       "A data.frame: 6 × 3\n",
       "\\begin{tabular}{r|lll}\n",
       " from & to & line\\\\\n",
       " <chr> & <chr> & <chr>\\\\\n",
       "\\hline\n",
       "\t 101S & 103S & 1\\\\\n",
       "\t 103N & 101N & 1\\\\\n",
       "\t 103S & 104S & 1\\\\\n",
       "\t 104N & 103N & 1\\\\\n",
       "\t 104S & 106S & 1\\\\\n",
       "\t 106N & 104N & 1\\\\\n",
       "\\end{tabular}\n"
      ],
      "text/markdown": [
       "\n",
       "A data.frame: 6 × 3\n",
       "\n",
       "| from &lt;chr&gt; | to &lt;chr&gt; | line &lt;chr&gt; |\n",
       "|---|---|---|\n",
       "| 101S | 103S | 1 |\n",
       "| 103N | 101N | 1 |\n",
       "| 103S | 104S | 1 |\n",
       "| 104N | 103N | 1 |\n",
       "| 104S | 106S | 1 |\n",
       "| 106N | 104N | 1 |\n",
       "\n"
      ],
      "text/plain": [
       "  from to   line\n",
       "1 101S 103S 1   \n",
       "2 103N 101N 1   \n",
       "3 103S 104S 1   \n",
       "4 104N 103N 1   \n",
       "5 104S 106S 1   \n",
       "6 106N 104N 1   "
      ]
     },
     "metadata": {},
     "output_type": "display_data"
    }
   ],
   "source": [
    "head(ss)"
   ]
  },
  {
   "cell_type": "code",
   "execution_count": 135,
   "metadata": {},
   "outputs": [
    {
     "data": {
      "text/html": [
       "<ol class=list-inline>\n",
       "\t<li>1697</li>\n",
       "\t<li>5</li>\n",
       "</ol>\n"
      ],
      "text/latex": [
       "\\begin{enumerate*}\n",
       "\\item 1697\n",
       "\\item 5\n",
       "\\end{enumerate*}\n"
      ],
      "text/markdown": [
       "1. 1697\n",
       "2. 5\n",
       "\n",
       "\n"
      ],
      "text/plain": [
       "[1] 1697    5"
      ]
     },
     "metadata": {},
     "output_type": "display_data"
    }
   ],
   "source": [
    "dim(e)"
   ]
  },
  {
   "cell_type": "code",
   "execution_count": 95,
   "metadata": {},
   "outputs": [],
   "source": [
    "colnames(e)[4:5] <- c('pid_from','pid_to')"
   ]
  },
  {
   "cell_type": "code",
   "execution_count": 99,
   "metadata": {},
   "outputs": [],
   "source": [
    "e <- e[!is.na(e$pid_from) & !is.na(e$pid_to),]"
   ]
  },
  {
   "cell_type": "code",
   "execution_count": 115,
   "metadata": {},
   "outputs": [
    {
     "data": {
      "text/html": [
       "82"
      ],
      "text/latex": [
       "82"
      ],
      "text/markdown": [
       "82"
      ],
      "text/plain": [
       "[1] 82"
      ]
     },
     "metadata": {},
     "output_type": "display_data"
    }
   ],
   "source": [
    "length(unique(c(e$pid_from,e$pid_to)))"
   ]
  },
  {
   "cell_type": "code",
   "execution_count": 116,
   "metadata": {},
   "outputs": [
    {
     "data": {
      "text/html": [
       "90"
      ],
      "text/latex": [
       "90"
      ],
      "text/markdown": [
       "90"
      ],
      "text/plain": [
       "[1] 90"
      ]
     },
     "metadata": {},
     "output_type": "display_data"
    }
   ],
   "source": [
    "length(unique(c(e$from,e$to)))"
   ]
  },
  {
   "cell_type": "code",
   "execution_count": 101,
   "metadata": {},
   "outputs": [
    {
     "data": {
      "text/html": [
       "170"
      ],
      "text/latex": [
       "170"
      ],
      "text/markdown": [
       "170"
      ],
      "text/plain": [
       "[1] 170"
      ]
     },
     "metadata": {},
     "output_type": "display_data"
    }
   ],
   "source": [
    "length(unique(p_gtfs$platform_id))"
   ]
  },
  {
   "cell_type": "code",
   "execution_count": 104,
   "metadata": {},
   "outputs": [
    {
     "data": {
      "text/html": [
       "173"
      ],
      "text/latex": [
       "173"
      ],
      "text/markdown": [
       "173"
      ],
      "text/plain": [
       "[1] 173"
      ]
     },
     "metadata": {},
     "output_type": "display_data"
    }
   ],
   "source": [
    "length(unique(V(h)$name[V(h)$node_type == 'Platform']))"
   ]
  },
  {
   "cell_type": "code",
   "execution_count": 112,
   "metadata": {},
   "outputs": [
    {
     "data": {
      "text/html": [
       "192"
      ],
      "text/latex": [
       "192"
      ],
      "text/markdown": [
       "192"
      ],
      "text/plain": [
       "[1] 192"
      ]
     },
     "metadata": {},
     "output_type": "display_data"
    }
   ],
   "source": [
    "sum(unique(ss$from) %in% unique(p_gtfs$stop_id))"
   ]
  },
  {
   "cell_type": "code",
   "execution_count": 109,
   "metadata": {},
   "outputs": [
    {
     "data": {
      "text/html": [
       "202"
      ],
      "text/latex": [
       "202"
      ],
      "text/markdown": [
       "202"
      ],
      "text/plain": [
       "[1] 202"
      ]
     },
     "metadata": {},
     "output_type": "display_data"
    }
   ],
   "source": [
    "length(unique(p_gtfs$stop_id))"
   ]
  },
  {
   "cell_type": "code",
   "execution_count": 114,
   "metadata": {},
   "outputs": [
    {
     "data": {
      "text/html": [
       "<table>\n",
       "<caption>A data.frame: 156 × 5</caption>\n",
       "<thead>\n",
       "\t<tr><th></th><th scope=col>from</th><th scope=col>to</th><th scope=col>line</th><th scope=col>pid_from</th><th scope=col>pid_to</th></tr>\n",
       "\t<tr><th></th><th scope=col>&lt;chr&gt;</th><th scope=col>&lt;chr&gt;</th><th scope=col>&lt;chr&gt;</th><th scope=col>&lt;chr&gt;</th><th scope=col>&lt;chr&gt;</th></tr>\n",
       "</thead>\n",
       "<tbody>\n",
       "\t<tr><th scope=row>41</th><td>123S</td><td>124S</td><td>1</td><td>pid_47 </td><td>pid_46 </td></tr>\n",
       "\t<tr><th scope=row>42</th><td>124N</td><td>123N</td><td>1</td><td>pid_45 </td><td>pid_48 </td></tr>\n",
       "\t<tr><th scope=row>51</th><td>127S</td><td>128S</td><td>1</td><td>pid_125</td><td>pid_136</td></tr>\n",
       "\t<tr><th scope=row>52</th><td>127S</td><td>128S</td><td>1</td><td>pid_145</td><td>pid_136</td></tr>\n",
       "\t<tr><th scope=row>53</th><td>128N</td><td>127N</td><td>1</td><td>pid_138</td><td>pid_125</td></tr>\n",
       "\t<tr><th scope=row>54</th><td>128N</td><td>127N</td><td>1</td><td>pid_138</td><td>pid_146</td></tr>\n",
       "\t<tr><th scope=row>73</th><td>137S</td><td>138S</td><td>1</td><td>pid_66 </td><td>pid_153</td></tr>\n",
       "\t<tr><th scope=row>74</th><td>138N</td><td>137N</td><td>1</td><td>pid_154</td><td>pid_65 </td></tr>\n",
       "\t<tr><th scope=row>80</th><td>120S</td><td>123S</td><td>2</td><td>pid_55 </td><td>pid_47 </td></tr>\n",
       "\t<tr><th scope=row>81</th><td>123N</td><td>120N</td><td>2</td><td>pid_48 </td><td>pid_54 </td></tr>\n",
       "\t<tr><th scope=row>82</th><td>123S</td><td>127S</td><td>2</td><td>pid_47 </td><td>pid_125</td></tr>\n",
       "\t<tr><th scope=row>83</th><td>123S</td><td>127S</td><td>2</td><td>pid_47 </td><td>pid_145</td></tr>\n",
       "\t<tr><th scope=row>84</th><td>127N</td><td>123N</td><td>2</td><td>pid_125</td><td>pid_48 </td></tr>\n",
       "\t<tr><th scope=row>85</th><td>127N</td><td>123N</td><td>2</td><td>pid_146</td><td>pid_48 </td></tr>\n",
       "\t<tr><th scope=row>86</th><td>127S</td><td>128S</td><td>2</td><td>pid_125</td><td>pid_137</td></tr>\n",
       "\t<tr><th scope=row>87</th><td>127S</td><td>128S</td><td>2</td><td>pid_145</td><td>pid_137</td></tr>\n",
       "\t<tr><th scope=row>88</th><td>128N</td><td>127N</td><td>2</td><td>pid_137</td><td>pid_125</td></tr>\n",
       "\t<tr><th scope=row>89</th><td>128N</td><td>127N</td><td>2</td><td>pid_137</td><td>pid_146</td></tr>\n",
       "\t<tr><th scope=row>208</th><td>120S</td><td>123S</td><td>3</td><td>pid_55 </td><td>pid_47 </td></tr>\n",
       "\t<tr><th scope=row>209</th><td>123N</td><td>120N</td><td>3</td><td>pid_48 </td><td>pid_54 </td></tr>\n",
       "\t<tr><th scope=row>210</th><td>123S</td><td>127S</td><td>3</td><td>pid_47 </td><td>pid_125</td></tr>\n",
       "\t<tr><th scope=row>211</th><td>123S</td><td>127S</td><td>3</td><td>pid_47 </td><td>pid_145</td></tr>\n",
       "\t<tr><th scope=row>212</th><td>127N</td><td>123N</td><td>3</td><td>pid_125</td><td>pid_48 </td></tr>\n",
       "\t<tr><th scope=row>213</th><td>127N</td><td>123N</td><td>3</td><td>pid_146</td><td>pid_48 </td></tr>\n",
       "\t<tr><th scope=row>214</th><td>127S</td><td>128S</td><td>3</td><td>pid_125</td><td>pid_137</td></tr>\n",
       "\t<tr><th scope=row>215</th><td>127S</td><td>128S</td><td>3</td><td>pid_145</td><td>pid_137</td></tr>\n",
       "\t<tr><th scope=row>216</th><td>128N</td><td>127N</td><td>3</td><td>pid_137</td><td>pid_125</td></tr>\n",
       "\t<tr><th scope=row>217</th><td>128N</td><td>127N</td><td>3</td><td>pid_137</td><td>pid_146</td></tr>\n",
       "\t<tr><th scope=row>321</th><td>418N</td><td>640N</td><td>4</td><td>pid_169</td><td>pid_62 </td></tr>\n",
       "\t<tr><th scope=row>341</th><td>640S</td><td>418S</td><td>4</td><td>pid_61 </td><td>pid_168</td></tr>\n",
       "\t<tr><th scope=row>⋮</th><td>⋮</td><td>⋮</td><td>⋮</td><td>⋮</td><td>⋮</td></tr>\n",
       "\t<tr><th scope=row>1445</th><td>R16S</td><td>R17S</td><td>N</td><td>pid_125</td><td>pid_29 </td></tr>\n",
       "\t<tr><th scope=row>1446</th><td>R16S</td><td>R17S</td><td>N</td><td>pid_147</td><td>pid_29 </td></tr>\n",
       "\t<tr><th scope=row>1447</th><td>R17N</td><td>R16N</td><td>N</td><td>pid_31 </td><td>pid_125</td></tr>\n",
       "\t<tr><th scope=row>1448</th><td>R17N</td><td>R16N</td><td>N</td><td>pid_31 </td><td>pid_148</td></tr>\n",
       "\t<tr><th scope=row>1450</th><td>R17S</td><td>R20S</td><td>N</td><td>pid_29 </td><td>pid_8  </td></tr>\n",
       "\t<tr><th scope=row>1451</th><td>R17S</td><td>R20S</td><td>N</td><td>pid_29 </td><td>pid_9  </td></tr>\n",
       "\t<tr><th scope=row>1457</th><td>R20N</td><td>R17N</td><td>N</td><td>pid_9  </td><td>pid_31 </td></tr>\n",
       "\t<tr><th scope=row>1458</th><td>R20N</td><td>R17N</td><td>N</td><td>pid_10 </td><td>pid_31 </td></tr>\n",
       "\t<tr><th scope=row>1485</th><td>B08N</td><td>Q03N</td><td>Q</td><td>pid_139</td><td>pid_49 </td></tr>\n",
       "\t<tr><th scope=row>1534</th><td>Q03S</td><td>B08S</td><td>Q</td><td>pid_49 </td><td>pid_139</td></tr>\n",
       "\t<tr><th scope=row>1543</th><td>R16S</td><td>R17S</td><td>Q</td><td>pid_125</td><td>pid_29 </td></tr>\n",
       "\t<tr><th scope=row>1544</th><td>R16S</td><td>R17S</td><td>Q</td><td>pid_147</td><td>pid_29 </td></tr>\n",
       "\t<tr><th scope=row>1545</th><td>R17N</td><td>R16N</td><td>Q</td><td>pid_31 </td><td>pid_125</td></tr>\n",
       "\t<tr><th scope=row>1546</th><td>R17N</td><td>R16N</td><td>Q</td><td>pid_31 </td><td>pid_148</td></tr>\n",
       "\t<tr><th scope=row>1547</th><td>R17S</td><td>R20S</td><td>Q</td><td>pid_29 </td><td>pid_8  </td></tr>\n",
       "\t<tr><th scope=row>1548</th><td>R17S</td><td>R20S</td><td>Q</td><td>pid_29 </td><td>pid_9  </td></tr>\n",
       "\t<tr><th scope=row>1549</th><td>R20N</td><td>R17N</td><td>Q</td><td>pid_9  </td><td>pid_31 </td></tr>\n",
       "\t<tr><th scope=row>1550</th><td>R20N</td><td>R17N</td><td>Q</td><td>pid_10 </td><td>pid_31 </td></tr>\n",
       "\t<tr><th scope=row>1593</th><td>R16N</td><td>R15N</td><td>R</td><td>pid_125</td><td>pid_37 </td></tr>\n",
       "\t<tr><th scope=row>1594</th><td>R16N</td><td>R15N</td><td>R</td><td>pid_148</td><td>pid_37 </td></tr>\n",
       "\t<tr><th scope=row>1595</th><td>R16S</td><td>R17S</td><td>R</td><td>pid_125</td><td>pid_29 </td></tr>\n",
       "\t<tr><th scope=row>1596</th><td>R16S</td><td>R17S</td><td>R</td><td>pid_147</td><td>pid_29 </td></tr>\n",
       "\t<tr><th scope=row>1597</th><td>R17N</td><td>R16N</td><td>R</td><td>pid_31 </td><td>pid_125</td></tr>\n",
       "\t<tr><th scope=row>1598</th><td>R17N</td><td>R16N</td><td>R</td><td>pid_31 </td><td>pid_148</td></tr>\n",
       "\t<tr><th scope=row>1629</th><td>R29S</td><td>R30S</td><td>R</td><td>pid_96 </td><td>pid_162</td></tr>\n",
       "\t<tr><th scope=row>1630</th><td>R29S</td><td>R30S</td><td>R</td><td>pid_98 </td><td>pid_162</td></tr>\n",
       "\t<tr><th scope=row>1631</th><td>R30N</td><td>R29N</td><td>R</td><td>pid_163</td><td>pid_96 </td></tr>\n",
       "\t<tr><th scope=row>1632</th><td>R30N</td><td>R29N</td><td>R</td><td>pid_163</td><td>pid_98 </td></tr>\n",
       "\t<tr><th scope=row>1633</th><td>R30S</td><td>R31S</td><td>R</td><td>pid_162</td><td>pid_157</td></tr>\n",
       "\t<tr><th scope=row>1634</th><td>R31N</td><td>R30N</td><td>R</td><td>pid_158</td><td>pid_163</td></tr>\n",
       "</tbody>\n",
       "</table>\n"
      ],
      "text/latex": [
       "A data.frame: 156 × 5\n",
       "\\begin{tabular}{r|lllll}\n",
       "  & from & to & line & pid\\_from & pid\\_to\\\\\n",
       "  & <chr> & <chr> & <chr> & <chr> & <chr>\\\\\n",
       "\\hline\n",
       "\t41 & 123S & 124S & 1 & pid\\_47  & pid\\_46 \\\\\n",
       "\t42 & 124N & 123N & 1 & pid\\_45  & pid\\_48 \\\\\n",
       "\t51 & 127S & 128S & 1 & pid\\_125 & pid\\_136\\\\\n",
       "\t52 & 127S & 128S & 1 & pid\\_145 & pid\\_136\\\\\n",
       "\t53 & 128N & 127N & 1 & pid\\_138 & pid\\_125\\\\\n",
       "\t54 & 128N & 127N & 1 & pid\\_138 & pid\\_146\\\\\n",
       "\t73 & 137S & 138S & 1 & pid\\_66  & pid\\_153\\\\\n",
       "\t74 & 138N & 137N & 1 & pid\\_154 & pid\\_65 \\\\\n",
       "\t80 & 120S & 123S & 2 & pid\\_55  & pid\\_47 \\\\\n",
       "\t81 & 123N & 120N & 2 & pid\\_48  & pid\\_54 \\\\\n",
       "\t82 & 123S & 127S & 2 & pid\\_47  & pid\\_125\\\\\n",
       "\t83 & 123S & 127S & 2 & pid\\_47  & pid\\_145\\\\\n",
       "\t84 & 127N & 123N & 2 & pid\\_125 & pid\\_48 \\\\\n",
       "\t85 & 127N & 123N & 2 & pid\\_146 & pid\\_48 \\\\\n",
       "\t86 & 127S & 128S & 2 & pid\\_125 & pid\\_137\\\\\n",
       "\t87 & 127S & 128S & 2 & pid\\_145 & pid\\_137\\\\\n",
       "\t88 & 128N & 127N & 2 & pid\\_137 & pid\\_125\\\\\n",
       "\t89 & 128N & 127N & 2 & pid\\_137 & pid\\_146\\\\\n",
       "\t208 & 120S & 123S & 3 & pid\\_55  & pid\\_47 \\\\\n",
       "\t209 & 123N & 120N & 3 & pid\\_48  & pid\\_54 \\\\\n",
       "\t210 & 123S & 127S & 3 & pid\\_47  & pid\\_125\\\\\n",
       "\t211 & 123S & 127S & 3 & pid\\_47  & pid\\_145\\\\\n",
       "\t212 & 127N & 123N & 3 & pid\\_125 & pid\\_48 \\\\\n",
       "\t213 & 127N & 123N & 3 & pid\\_146 & pid\\_48 \\\\\n",
       "\t214 & 127S & 128S & 3 & pid\\_125 & pid\\_137\\\\\n",
       "\t215 & 127S & 128S & 3 & pid\\_145 & pid\\_137\\\\\n",
       "\t216 & 128N & 127N & 3 & pid\\_137 & pid\\_125\\\\\n",
       "\t217 & 128N & 127N & 3 & pid\\_137 & pid\\_146\\\\\n",
       "\t321 & 418N & 640N & 4 & pid\\_169 & pid\\_62 \\\\\n",
       "\t341 & 640S & 418S & 4 & pid\\_61  & pid\\_168\\\\\n",
       "\t⋮ & ⋮ & ⋮ & ⋮ & ⋮ & ⋮\\\\\n",
       "\t1445 & R16S & R17S & N & pid\\_125 & pid\\_29 \\\\\n",
       "\t1446 & R16S & R17S & N & pid\\_147 & pid\\_29 \\\\\n",
       "\t1447 & R17N & R16N & N & pid\\_31  & pid\\_125\\\\\n",
       "\t1448 & R17N & R16N & N & pid\\_31  & pid\\_148\\\\\n",
       "\t1450 & R17S & R20S & N & pid\\_29  & pid\\_8  \\\\\n",
       "\t1451 & R17S & R20S & N & pid\\_29  & pid\\_9  \\\\\n",
       "\t1457 & R20N & R17N & N & pid\\_9   & pid\\_31 \\\\\n",
       "\t1458 & R20N & R17N & N & pid\\_10  & pid\\_31 \\\\\n",
       "\t1485 & B08N & Q03N & Q & pid\\_139 & pid\\_49 \\\\\n",
       "\t1534 & Q03S & B08S & Q & pid\\_49  & pid\\_139\\\\\n",
       "\t1543 & R16S & R17S & Q & pid\\_125 & pid\\_29 \\\\\n",
       "\t1544 & R16S & R17S & Q & pid\\_147 & pid\\_29 \\\\\n",
       "\t1545 & R17N & R16N & Q & pid\\_31  & pid\\_125\\\\\n",
       "\t1546 & R17N & R16N & Q & pid\\_31  & pid\\_148\\\\\n",
       "\t1547 & R17S & R20S & Q & pid\\_29  & pid\\_8  \\\\\n",
       "\t1548 & R17S & R20S & Q & pid\\_29  & pid\\_9  \\\\\n",
       "\t1549 & R20N & R17N & Q & pid\\_9   & pid\\_31 \\\\\n",
       "\t1550 & R20N & R17N & Q & pid\\_10  & pid\\_31 \\\\\n",
       "\t1593 & R16N & R15N & R & pid\\_125 & pid\\_37 \\\\\n",
       "\t1594 & R16N & R15N & R & pid\\_148 & pid\\_37 \\\\\n",
       "\t1595 & R16S & R17S & R & pid\\_125 & pid\\_29 \\\\\n",
       "\t1596 & R16S & R17S & R & pid\\_147 & pid\\_29 \\\\\n",
       "\t1597 & R17N & R16N & R & pid\\_31  & pid\\_125\\\\\n",
       "\t1598 & R17N & R16N & R & pid\\_31  & pid\\_148\\\\\n",
       "\t1629 & R29S & R30S & R & pid\\_96  & pid\\_162\\\\\n",
       "\t1630 & R29S & R30S & R & pid\\_98  & pid\\_162\\\\\n",
       "\t1631 & R30N & R29N & R & pid\\_163 & pid\\_96 \\\\\n",
       "\t1632 & R30N & R29N & R & pid\\_163 & pid\\_98 \\\\\n",
       "\t1633 & R30S & R31S & R & pid\\_162 & pid\\_157\\\\\n",
       "\t1634 & R31N & R30N & R & pid\\_158 & pid\\_163\\\\\n",
       "\\end{tabular}\n"
      ],
      "text/markdown": [
       "\n",
       "A data.frame: 156 × 5\n",
       "\n",
       "| <!--/--> | from &lt;chr&gt; | to &lt;chr&gt; | line &lt;chr&gt; | pid_from &lt;chr&gt; | pid_to &lt;chr&gt; |\n",
       "|---|---|---|---|---|---|\n",
       "| 41 | 123S | 124S | 1 | pid_47  | pid_46  |\n",
       "| 42 | 124N | 123N | 1 | pid_45  | pid_48  |\n",
       "| 51 | 127S | 128S | 1 | pid_125 | pid_136 |\n",
       "| 52 | 127S | 128S | 1 | pid_145 | pid_136 |\n",
       "| 53 | 128N | 127N | 1 | pid_138 | pid_125 |\n",
       "| 54 | 128N | 127N | 1 | pid_138 | pid_146 |\n",
       "| 73 | 137S | 138S | 1 | pid_66  | pid_153 |\n",
       "| 74 | 138N | 137N | 1 | pid_154 | pid_65  |\n",
       "| 80 | 120S | 123S | 2 | pid_55  | pid_47  |\n",
       "| 81 | 123N | 120N | 2 | pid_48  | pid_54  |\n",
       "| 82 | 123S | 127S | 2 | pid_47  | pid_125 |\n",
       "| 83 | 123S | 127S | 2 | pid_47  | pid_145 |\n",
       "| 84 | 127N | 123N | 2 | pid_125 | pid_48  |\n",
       "| 85 | 127N | 123N | 2 | pid_146 | pid_48  |\n",
       "| 86 | 127S | 128S | 2 | pid_125 | pid_137 |\n",
       "| 87 | 127S | 128S | 2 | pid_145 | pid_137 |\n",
       "| 88 | 128N | 127N | 2 | pid_137 | pid_125 |\n",
       "| 89 | 128N | 127N | 2 | pid_137 | pid_146 |\n",
       "| 208 | 120S | 123S | 3 | pid_55  | pid_47  |\n",
       "| 209 | 123N | 120N | 3 | pid_48  | pid_54  |\n",
       "| 210 | 123S | 127S | 3 | pid_47  | pid_125 |\n",
       "| 211 | 123S | 127S | 3 | pid_47  | pid_145 |\n",
       "| 212 | 127N | 123N | 3 | pid_125 | pid_48  |\n",
       "| 213 | 127N | 123N | 3 | pid_146 | pid_48  |\n",
       "| 214 | 127S | 128S | 3 | pid_125 | pid_137 |\n",
       "| 215 | 127S | 128S | 3 | pid_145 | pid_137 |\n",
       "| 216 | 128N | 127N | 3 | pid_137 | pid_125 |\n",
       "| 217 | 128N | 127N | 3 | pid_137 | pid_146 |\n",
       "| 321 | 418N | 640N | 4 | pid_169 | pid_62  |\n",
       "| 341 | 640S | 418S | 4 | pid_61  | pid_168 |\n",
       "| ⋮ | ⋮ | ⋮ | ⋮ | ⋮ | ⋮ |\n",
       "| 1445 | R16S | R17S | N | pid_125 | pid_29  |\n",
       "| 1446 | R16S | R17S | N | pid_147 | pid_29  |\n",
       "| 1447 | R17N | R16N | N | pid_31  | pid_125 |\n",
       "| 1448 | R17N | R16N | N | pid_31  | pid_148 |\n",
       "| 1450 | R17S | R20S | N | pid_29  | pid_8   |\n",
       "| 1451 | R17S | R20S | N | pid_29  | pid_9   |\n",
       "| 1457 | R20N | R17N | N | pid_9   | pid_31  |\n",
       "| 1458 | R20N | R17N | N | pid_10  | pid_31  |\n",
       "| 1485 | B08N | Q03N | Q | pid_139 | pid_49  |\n",
       "| 1534 | Q03S | B08S | Q | pid_49  | pid_139 |\n",
       "| 1543 | R16S | R17S | Q | pid_125 | pid_29  |\n",
       "| 1544 | R16S | R17S | Q | pid_147 | pid_29  |\n",
       "| 1545 | R17N | R16N | Q | pid_31  | pid_125 |\n",
       "| 1546 | R17N | R16N | Q | pid_31  | pid_148 |\n",
       "| 1547 | R17S | R20S | Q | pid_29  | pid_8   |\n",
       "| 1548 | R17S | R20S | Q | pid_29  | pid_9   |\n",
       "| 1549 | R20N | R17N | Q | pid_9   | pid_31  |\n",
       "| 1550 | R20N | R17N | Q | pid_10  | pid_31  |\n",
       "| 1593 | R16N | R15N | R | pid_125 | pid_37  |\n",
       "| 1594 | R16N | R15N | R | pid_148 | pid_37  |\n",
       "| 1595 | R16S | R17S | R | pid_125 | pid_29  |\n",
       "| 1596 | R16S | R17S | R | pid_147 | pid_29  |\n",
       "| 1597 | R17N | R16N | R | pid_31  | pid_125 |\n",
       "| 1598 | R17N | R16N | R | pid_31  | pid_148 |\n",
       "| 1629 | R29S | R30S | R | pid_96  | pid_162 |\n",
       "| 1630 | R29S | R30S | R | pid_98  | pid_162 |\n",
       "| 1631 | R30N | R29N | R | pid_163 | pid_96  |\n",
       "| 1632 | R30N | R29N | R | pid_163 | pid_98  |\n",
       "| 1633 | R30S | R31S | R | pid_162 | pid_157 |\n",
       "| 1634 | R31N | R30N | R | pid_158 | pid_163 |\n",
       "\n"
      ],
      "text/plain": [
       "     from to   line pid_from pid_to \n",
       "41   123S 124S 1    pid_47   pid_46 \n",
       "42   124N 123N 1    pid_45   pid_48 \n",
       "51   127S 128S 1    pid_125  pid_136\n",
       "52   127S 128S 1    pid_145  pid_136\n",
       "53   128N 127N 1    pid_138  pid_125\n",
       "54   128N 127N 1    pid_138  pid_146\n",
       "73   137S 138S 1    pid_66   pid_153\n",
       "74   138N 137N 1    pid_154  pid_65 \n",
       "80   120S 123S 2    pid_55   pid_47 \n",
       "81   123N 120N 2    pid_48   pid_54 \n",
       "82   123S 127S 2    pid_47   pid_125\n",
       "83   123S 127S 2    pid_47   pid_145\n",
       "84   127N 123N 2    pid_125  pid_48 \n",
       "85   127N 123N 2    pid_146  pid_48 \n",
       "86   127S 128S 2    pid_125  pid_137\n",
       "87   127S 128S 2    pid_145  pid_137\n",
       "88   128N 127N 2    pid_137  pid_125\n",
       "89   128N 127N 2    pid_137  pid_146\n",
       "208  120S 123S 3    pid_55   pid_47 \n",
       "209  123N 120N 3    pid_48   pid_54 \n",
       "210  123S 127S 3    pid_47   pid_125\n",
       "211  123S 127S 3    pid_47   pid_145\n",
       "212  127N 123N 3    pid_125  pid_48 \n",
       "213  127N 123N 3    pid_146  pid_48 \n",
       "214  127S 128S 3    pid_125  pid_137\n",
       "215  127S 128S 3    pid_145  pid_137\n",
       "216  128N 127N 3    pid_137  pid_125\n",
       "217  128N 127N 3    pid_137  pid_146\n",
       "321  418N 640N 4    pid_169  pid_62 \n",
       "341  640S 418S 4    pid_61   pid_168\n",
       "⋮    ⋮    ⋮    ⋮    ⋮        ⋮      \n",
       "1445 R16S R17S N    pid_125  pid_29 \n",
       "1446 R16S R17S N    pid_147  pid_29 \n",
       "1447 R17N R16N N    pid_31   pid_125\n",
       "1448 R17N R16N N    pid_31   pid_148\n",
       "1450 R17S R20S N    pid_29   pid_8  \n",
       "1451 R17S R20S N    pid_29   pid_9  \n",
       "1457 R20N R17N N    pid_9    pid_31 \n",
       "1458 R20N R17N N    pid_10   pid_31 \n",
       "1485 B08N Q03N Q    pid_139  pid_49 \n",
       "1534 Q03S B08S Q    pid_49   pid_139\n",
       "1543 R16S R17S Q    pid_125  pid_29 \n",
       "1544 R16S R17S Q    pid_147  pid_29 \n",
       "1545 R17N R16N Q    pid_31   pid_125\n",
       "1546 R17N R16N Q    pid_31   pid_148\n",
       "1547 R17S R20S Q    pid_29   pid_8  \n",
       "1548 R17S R20S Q    pid_29   pid_9  \n",
       "1549 R20N R17N Q    pid_9    pid_31 \n",
       "1550 R20N R17N Q    pid_10   pid_31 \n",
       "1593 R16N R15N R    pid_125  pid_37 \n",
       "1594 R16N R15N R    pid_148  pid_37 \n",
       "1595 R16S R17S R    pid_125  pid_29 \n",
       "1596 R16S R17S R    pid_147  pid_29 \n",
       "1597 R17N R16N R    pid_31   pid_125\n",
       "1598 R17N R16N R    pid_31   pid_148\n",
       "1629 R29S R30S R    pid_96   pid_162\n",
       "1630 R29S R30S R    pid_98   pid_162\n",
       "1631 R30N R29N R    pid_163  pid_96 \n",
       "1632 R30N R29N R    pid_163  pid_98 \n",
       "1633 R30S R31S R    pid_162  pid_157\n",
       "1634 R31N R30N R    pid_158  pid_163"
      ]
     },
     "metadata": {},
     "output_type": "display_data"
    }
   ],
   "source": [
    "e"
   ]
  },
  {
   "cell_type": "code",
   "execution_count": null,
   "metadata": {},
   "outputs": [],
   "source": []
  }
 ],
 "metadata": {
  "alphastudio": {
   "as_jupyter_image_name": "gcr.io/ts-quantsource/as-jupyter-v6",
   "as_jupyter_image_tag": "d5a24e10cdf2"
  },
  "kernelspec": {
   "display_name": "R",
   "language": "R",
   "name": "ir"
  },
  "language_info": {
   "codemirror_mode": "r",
   "file_extension": ".r",
   "mimetype": "text/x-r-source",
   "name": "R",
   "pygments_lexer": "r",
   "version": "3.6.1"
  }
 },
 "nbformat": 4,
 "nbformat_minor": 2
}
