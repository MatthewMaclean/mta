{
 "cells": [
  {
   "cell_type": "markdown",
   "metadata": {},
   "source": [
    "## Attempt to get Tripifier working"
   ]
  },
  {
   "cell_type": "code",
   "execution_count": 63,
   "metadata": {},
   "outputs": [],
   "source": [
    "%load_ext autoreload\n",
    "%autoreload 2\n",
    "\n",
    "from typing import List, Dict\n",
    "from google.transit import gtfs_realtime_pb2 as gtfs_rt\n",
    "from protobuf_to_dict import protobuf_to_dict\n",
    "import pandas as pd\n",
    "import numpy as np\n",
    "from os import listdir\n",
    "from os.path import isfile, join\n",
    "import re\n",
    "from datetime import datetime\n",
    "\n",
    "from pandas.io.json import json_normalize\n",
    "from itertools import groupby\n",
    "\n",
    "import GTFS_Utils as gu"
   ]
  },
  {
   "cell_type": "code",
   "execution_count": null,
   "metadata": {},
   "outputs": [],
   "source": []
  },
  {
   "cell_type": "code",
   "execution_count": 4,
   "metadata": {},
   "outputs": [],
   "source": [
    "def parse_trip_updates(realtime_data: List[Dict]) -> pd.DataFrame:\n",
    "    # Get rid of any vehicle update rows\n",
    "    realtime_data = [d for d in realtime_data if 'vehicle' not in d]    \n",
    "    df = json_normalize(realtime_data)\n",
    "    \n",
    "    # Get rid of null stop_time_updates\n",
    "    #df = df[~df['trip_update.stop_time_update'].isnull()]\n",
    "\n",
    "    idx = df.index.repeat(df['trip_update.stop_time_update'].str.len())\n",
    "    df1 = pd.DataFrame({'trip_update.stop_time_update': np.concatenate(df['trip_update.stop_time_update'].values)})\n",
    "    df1.index = idx\n",
    "    df = df1.join(df.drop('trip_update.stop_time_update', axis=1), how='left')\n",
    "    df = df.reset_index(drop=True)\n",
    "    d2 = json_normalize(df['trip_update.stop_time_update'])\n",
    "    df = pd.concat([d2, df.drop('trip_update.stop_time_update', axis=1)], axis=1)\n",
    "    df = df.drop(list(df.filter(regex='vehicle')), axis=1) \n",
    "    return df"
   ]
  },
  {
   "cell_type": "code",
   "execution_count": 57,
   "metadata": {},
   "outputs": [
    {
     "ename": "KeyError",
     "evalue": "0",
     "output_type": "error",
     "traceback": [
      "\u001b[0;31m---------------------------------------------------------------------------\u001b[0m",
      "\u001b[0;31mKeyError\u001b[0m                                  Traceback (most recent call last)",
      "\u001b[0;32m<ipython-input-57-fd81b1b509b7>\u001b[0m in \u001b[0;36m<module>\u001b[0;34m\u001b[0m\n\u001b[1;32m     13\u001b[0m     \u001b[0mfeed1\u001b[0m\u001b[0;34m.\u001b[0m\u001b[0mParseFromString\u001b[0m\u001b[0;34m(\u001b[0m\u001b[0mraw_str\u001b[0m\u001b[0;34m)\u001b[0m\u001b[0;34m\u001b[0m\u001b[0;34m\u001b[0m\u001b[0m\n\u001b[1;32m     14\u001b[0m     \u001b[0mdt\u001b[0m \u001b[0;34m=\u001b[0m \u001b[0mtp\u001b[0m\u001b[0;34m.\u001b[0m\u001b[0mdictify\u001b[0m\u001b[0;34m(\u001b[0m\u001b[0mfeed1\u001b[0m\u001b[0;34m)\u001b[0m\u001b[0;34m\u001b[0m\u001b[0;34m\u001b[0m\u001b[0m\n\u001b[0;32m---> 15\u001b[0;31m     \u001b[0mlog\u001b[0m \u001b[0;34m=\u001b[0m \u001b[0mgt\u001b[0m\u001b[0;34m.\u001b[0m\u001b[0mlogify\u001b[0m\u001b[0;34m(\u001b[0m\u001b[0mdt\u001b[0m\u001b[0;34m)\u001b[0m\u001b[0;34m\u001b[0m\u001b[0;34m\u001b[0m\u001b[0m\n\u001b[0m\u001b[1;32m     16\u001b[0m \u001b[0;34m\u001b[0m\u001b[0m\n\u001b[1;32m     17\u001b[0m \u001b[0;31m#dt1 = protobuf_to_dict(feed1)\u001b[0m\u001b[0;34m\u001b[0m\u001b[0;34m\u001b[0m\u001b[0;34m\u001b[0m\u001b[0m\n",
      "\u001b[0;32m/opt/conda/envs/py3/lib/python3.6/site-packages/gtfs_tripify/tripify.py\u001b[0m in \u001b[0;36mlogify\u001b[0;34m(updates)\u001b[0m\n\u001b[1;32m    509\u001b[0m \u001b[0;34m\u001b[0m\u001b[0m\n\u001b[1;32m    510\u001b[0m     \u001b[0;31m# Accept either raw Protobuf updates or already-parsed dict updates.\u001b[0m\u001b[0;34m\u001b[0m\u001b[0;34m\u001b[0m\u001b[0;34m\u001b[0m\u001b[0m\n\u001b[0;32m--> 511\u001b[0;31m     \u001b[0malready_parsed\u001b[0m \u001b[0;34m=\u001b[0m \u001b[0misinstance\u001b[0m\u001b[0;34m(\u001b[0m\u001b[0mupdates\u001b[0m\u001b[0;34m[\u001b[0m\u001b[0;36m0\u001b[0m\u001b[0;34m]\u001b[0m\u001b[0;34m,\u001b[0m \u001b[0mdict\u001b[0m\u001b[0;34m)\u001b[0m\u001b[0;34m\u001b[0m\u001b[0;34m\u001b[0m\u001b[0m\n\u001b[0m\u001b[1;32m    512\u001b[0m     \u001b[0mparse_errors\u001b[0m \u001b[0;34m=\u001b[0m \u001b[0;32mNone\u001b[0m \u001b[0;32mif\u001b[0m \u001b[0malready_parsed\u001b[0m \u001b[0;32melse\u001b[0m \u001b[0;34m[\u001b[0m\u001b[0;34m]\u001b[0m\u001b[0;34m\u001b[0m\u001b[0;34m\u001b[0m\u001b[0m\n\u001b[1;32m    513\u001b[0m     \u001b[0;32mif\u001b[0m \u001b[0;32mnot\u001b[0m \u001b[0malready_parsed\u001b[0m\u001b[0;34m:\u001b[0m\u001b[0;34m\u001b[0m\u001b[0;34m\u001b[0m\u001b[0m\n",
      "\u001b[0;31mKeyError\u001b[0m: 0"
     ]
    }
   ],
   "source": [
    "import gtfs_tripify as gt\n",
    "from gtfs_tripify import tripify as tp\n",
    "\n",
    "path = '201906/20190601/gtfs_ace_20190601_041956.gtfs'\n",
    "path2 = '20190601/gtfs_ace_20190601_'\n",
    "\n",
    "feed1 = gtfs_rt.FeedMessage()\n",
    "feed2 = gtfs_rt.FeedMessage()\n",
    "\n",
    "log = None\n",
    "with open(path, 'rb') as file:\n",
    "    raw_str = file.read()\n",
    "    feed1.ParseFromString(raw_str)\n",
    "    dt = tp.dictify(feed1)    \n",
    "    log = gt.logify(dt)\n",
    "    \n",
    "#dt1 = protobuf_to_dict(feed1)\n",
    "#dt2 = protobuf_to_dict(feed2)\n",
    "\n",
    "#gt.logify([dt1, dt2])    "
   ]
  },
  {
   "cell_type": "code",
   "execution_count": 49,
   "metadata": {},
   "outputs": [
    {
     "ename": "TypeError",
     "evalue": "dictify() missing 1 required positional argument: 'buffer'",
     "output_type": "error",
     "traceback": [
      "\u001b[0;31m---------------------------------------------------------------------------\u001b[0m",
      "\u001b[0;31mTypeError\u001b[0m                                 Traceback (most recent call last)",
      "\u001b[0;32m<ipython-input-49-133d8a1b25b7>\u001b[0m in \u001b[0;36m<module>\u001b[0;34m\u001b[0m\n\u001b[1;32m      1\u001b[0m \u001b[0;32mfrom\u001b[0m \u001b[0mgtfs_tripify\u001b[0m \u001b[0;32mimport\u001b[0m \u001b[0mtripify\u001b[0m\u001b[0;34m\u001b[0m\u001b[0;34m\u001b[0m\u001b[0m\n\u001b[0;32m----> 2\u001b[0;31m \u001b[0mtripify\u001b[0m\u001b[0;34m.\u001b[0m\u001b[0mdictify\u001b[0m\u001b[0;34m(\u001b[0m\u001b[0;34m)\u001b[0m\u001b[0;34m\u001b[0m\u001b[0;34m\u001b[0m\u001b[0m\n\u001b[0m",
      "\u001b[0;31mTypeError\u001b[0m: dictify() missing 1 required positional argument: 'buffer'"
     ]
    }
   ],
   "source": [
    "\n"
   ]
  },
  {
   "cell_type": "code",
   "execution_count": 41,
   "metadata": {},
   "outputs": [
    {
     "data": {
      "text/plain": [
       "({}, {})"
      ]
     },
     "execution_count": 41,
     "metadata": {},
     "output_type": "execute_result"
    }
   ],
   "source": [
    "import gtfs_tripify as gt\n",
    "from zipfile import ZipFile\n",
    "import os\n",
    "\n",
    "# Update this value with the path to the GTFS-RT rollup on your local machine.\n",
    "DOWNLOAD_URL = '/content/jupyter/201906.zip'\n",
    "\n",
    "z = ZipFile(DOWNLOAD_URL)\n",
    "z.extract('20190601.zip')\n",
    "z.extract('20190612.zip')\n",
    "\n",
    "messages = []\n",
    "# filter out non-GTFS files\n",
    "for filename in sorted(os.listdir('.')):\n",
    "    if '.py' not in filename and 'gtfs_7_' in filename:\n",
    "        with open(filename, 'rb') as f:\n",
    "            messages.append(f.read())\n",
    "\n",
    "# build the logbooks\n",
    "first_logbook, first_logbook_timestamps, _ = gt.logify(messages[:len(messages) // 2])\n",
    "second_logbook, second_logbook_timestamps, _ = gt.logify(messages[len(messages) // 2:])\n",
    "\n",
    "# merge the logbooks\n",
    "logbook = gt.ops.merge_logbooks(\n",
    "    [(first_logbook, first_logbook_timestamps), (second_logbook, second_logbook_timestamps)]    \n",
    ")\n",
    "\n",
    "# save to disk\n",
    "gt.ops.to_csv(logbook, 'logbook.csv')"
   ]
  },
  {
   "cell_type": "code",
   "execution_count": 37,
   "metadata": {},
   "outputs": [
    {
     "data": {
      "text/plain": [
       "'20190629'"
      ]
     },
     "execution_count": 37,
     "metadata": {},
     "output_type": "execute_result"
    }
   ],
   "source": []
  }
 ],
 "metadata": {
  "alphastudio": {
   "as_jupyter_image_name": "gcr.io/ts-quantsource/as-jupyter-v6",
   "as_jupyter_image_tag": "d5a24e10cdf2"
  },
  "kernelspec": {
   "display_name": "Python 3",
   "language": "python",
   "name": "python3"
  },
  "language_info": {
   "codemirror_mode": {
    "name": "ipython",
    "version": 3
   },
   "file_extension": ".py",
   "mimetype": "text/x-python",
   "name": "python",
   "nbconvert_exporter": "python",
   "pygments_lexer": "ipython3",
   "version": "3.6.9"
  }
 },
 "nbformat": 4,
 "nbformat_minor": 2
}
