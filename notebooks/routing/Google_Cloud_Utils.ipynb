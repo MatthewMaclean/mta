{
 "cells": [
  {
   "cell_type": "code",
   "execution_count": 1,
   "metadata": {},
   "outputs": [],
   "source": [
    "from google.cloud import storage\n",
    "client = storage.Client()"
   ]
  },
  {
   "cell_type": "code",
   "execution_count": 14,
   "metadata": {},
   "outputs": [
    {
     "name": "stdout",
     "output_type": "stream",
     "text": [
      "<Blob: nycelevator.dataclinic.research.alphastudio.com, 201906/20190601/gtfs_7_20190601_042000.gtfs, 1582244070654957>\n",
      "['STORAGE_CLASSES', '_CHUNK_SIZE_MULTIPLE', '__class__', '__delattr__', '__dict__', '__dir__', '__doc__', '__eq__', '__format__', '__ge__', '__getattribute__', '__gt__', '__hash__', '__init__', '__init_subclass__', '__le__', '__lt__', '__module__', '__ne__', '__new__', '__reduce__', '__reduce_ex__', '__repr__', '__setattr__', '__sizeof__', '__str__', '__subclasshook__', '__weakref__', '_acl', '_bucket', '_changes', '_chunk_size', '_do_download', '_do_multipart_upload', '_do_resumable_upload', '_do_upload', '_encryption_headers', '_encryption_key', '_get_content_type', '_get_download_url', '_get_transport', '_get_upload_arguments', '_get_writable_metadata', '_initiate_resumable_upload', '_patch_property', '_properties', '_query_params', '_require_client', '_set_properties', 'acl', 'bucket', 'cache_control', 'chunk_size', 'client', 'component_count', 'compose', 'content_disposition', 'content_encoding', 'content_language', 'content_type', 'crc32c', 'create_resumable_upload_session', 'delete', 'download_as_string', 'download_to_file', 'download_to_filename', 'etag', 'event_based_hold', 'exists', 'from_string', 'generate_signed_url', 'generation', 'get_iam_policy', 'id', 'kms_key_name', 'make_private', 'make_public', 'md5_hash', 'media_link', 'metadata', 'metageneration', 'name', 'owner', 'patch', 'path', 'path_helper', 'public_url', 'reload', 'retention_expiration_time', 'rewrite', 'self_link', 'set_iam_policy', 'size', 'storage_class', 'temporary_hold', 'test_iam_permissions', 'time_created', 'time_deleted', 'update', 'update_storage_class', 'updated', 'upload_from_file', 'upload_from_filename', 'upload_from_string', 'user_project']\n"
     ]
    }
   ],
   "source": [
    "bucket1 = 'nycelevator.dataclinic.research.alphastudio.com'\n",
    "bucket2 = 'gs://nyscf.dataclinic.research.alphastudio.com'\n",
    "\n",
    "bucket = client.bucket(bucket1)\n",
    "for blob in bucket.list_blobs():\n",
    "    print(blob)\n",
    "    print(dir(blob))\n",
    "    break"
   ]
  },
  {
   "cell_type": "code",
   "execution_count": null,
   "metadata": {},
   "outputs": [],
   "source": []
  },
  {
   "cell_type": "code",
   "execution_count": 39,
   "metadata": {},
   "outputs": [
    {
     "data": {
      "text/plain": [
       "False"
      ]
     },
     "execution_count": 39,
     "metadata": {},
     "output_type": "execute_result"
    }
   ],
   "source": [
    "\"Abc\".endswith(\"C\")"
   ]
  },
  {
   "cell_type": "code",
   "execution_count": 47,
   "metadata": {},
   "outputs": [
    {
     "name": "stdout",
     "output_type": "stream",
     "text": [
      "The autoreload extension is already loaded. To reload it, use:\n",
      "  %reload_ext autoreload\n"
     ]
    },
    {
     "data": {
      "text/plain": [
       "['/', '201906/', 'hourly_gtfs/', 'tripify/']"
      ]
     },
     "execution_count": 47,
     "metadata": {},
     "output_type": "execute_result"
    }
   ],
   "source": [
    "%load_ext autoreload\n",
    "%autoreload 2\n",
    "\n",
    "import os\n",
    "import sys\n",
    "sys.path.insert(0, os.path.realpath('/content/jupyter/mta-accessibility/notebooks/routing'))\n",
    "import gcs_utils\n",
    "\n",
    "gcs = gcs_util()\n",
    "gcs.list_dirs()\n",
    "#gcs.upload_blob('tripify/tripified.pkl', 'tripified.pkl')"
   ]
  },
  {
   "cell_type": "code",
   "execution_count": 48,
   "metadata": {},
   "outputs": [
    {
     "data": {
      "text/plain": [
       "[<Blob: nycelevator.dataclinic.research.alphastudio.com, hourly_gtfs/20190601_03.pkl, 1582223028896123>,\n",
       " <Blob: nycelevator.dataclinic.research.alphastudio.com, hourly_gtfs/20190601_04.pkl, 1582223031446134>,\n",
       " <Blob: nycelevator.dataclinic.research.alphastudio.com, hourly_gtfs/20190601_05.pkl, 1582223033549066>,\n",
       " <Blob: nycelevator.dataclinic.research.alphastudio.com, hourly_gtfs/20190601_06.pkl, 1582223034591534>,\n",
       " <Blob: nycelevator.dataclinic.research.alphastudio.com, hourly_gtfs/20190601_07.pkl, 1582223035710119>,\n",
       " <Blob: nycelevator.dataclinic.research.alphastudio.com, hourly_gtfs/20190601_08.pkl, 1582223035431212>,\n",
       " <Blob: nycelevator.dataclinic.research.alphastudio.com, hourly_gtfs/20190601_09.pkl, 1582223034850105>,\n",
       " <Blob: nycelevator.dataclinic.research.alphastudio.com, hourly_gtfs/20190601_10.pkl, 1582223035166905>,\n",
       " <Blob: nycelevator.dataclinic.research.alphastudio.com, hourly_gtfs/20190601_11.pkl, 1582223035565839>,\n",
       " <Blob: nycelevator.dataclinic.research.alphastudio.com, hourly_gtfs/20190601_12.pkl, 1582223036617067>,\n",
       " <Blob: nycelevator.dataclinic.research.alphastudio.com, hourly_gtfs/20190601_13.pkl, 1582223037287980>,\n",
       " <Blob: nycelevator.dataclinic.research.alphastudio.com, hourly_gtfs/20190601_14.pkl, 1582223037118458>,\n",
       " <Blob: nycelevator.dataclinic.research.alphastudio.com, hourly_gtfs/20190601_15.pkl, 1582223036980426>,\n",
       " <Blob: nycelevator.dataclinic.research.alphastudio.com, hourly_gtfs/20190601_16.pkl, 1582223036830065>,\n",
       " <Blob: nycelevator.dataclinic.research.alphastudio.com, hourly_gtfs/20190601_17.pkl, 1582223037000405>,\n",
       " <Blob: nycelevator.dataclinic.research.alphastudio.com, hourly_gtfs/20190601_18.pkl, 1582223036187985>,\n",
       " <Blob: nycelevator.dataclinic.research.alphastudio.com, hourly_gtfs/20190601_19.pkl, 1582223035457989>,\n",
       " <Blob: nycelevator.dataclinic.research.alphastudio.com, hourly_gtfs/20190601_20.pkl, 1582223035622960>,\n",
       " <Blob: nycelevator.dataclinic.research.alphastudio.com, hourly_gtfs/20190601_21.pkl, 1582223035880101>,\n",
       " <Blob: nycelevator.dataclinic.research.alphastudio.com, hourly_gtfs/20190601_22.pkl, 1582223034374388>,\n",
       " <Blob: nycelevator.dataclinic.research.alphastudio.com, hourly_gtfs/20190601_23.pkl, 1582223033454474>,\n",
       " <Blob: nycelevator.dataclinic.research.alphastudio.com, hourly_gtfs/20190602_03.pkl, 1582223031791598>,\n",
       " <Blob: nycelevator.dataclinic.research.alphastudio.com, hourly_gtfs/20190602_04.pkl, 1582223035006747>,\n",
       " <Blob: nycelevator.dataclinic.research.alphastudio.com, hourly_gtfs/20190602_05.pkl, 1582223040388086>,\n",
       " <Blob: nycelevator.dataclinic.research.alphastudio.com, hourly_gtfs/20190602_06.pkl, 1582223041445751>,\n",
       " <Blob: nycelevator.dataclinic.research.alphastudio.com, hourly_gtfs/20190602_07.pkl, 1582223044559412>,\n",
       " <Blob: nycelevator.dataclinic.research.alphastudio.com, hourly_gtfs/20190602_08.pkl, 1582223045741438>,\n",
       " <Blob: nycelevator.dataclinic.research.alphastudio.com, hourly_gtfs/20190602_09.pkl, 1582223046494996>,\n",
       " <Blob: nycelevator.dataclinic.research.alphastudio.com, hourly_gtfs/20190602_10.pkl, 1582223046610353>,\n",
       " <Blob: nycelevator.dataclinic.research.alphastudio.com, hourly_gtfs/20190602_11.pkl, 1582223048547964>,\n",
       " <Blob: nycelevator.dataclinic.research.alphastudio.com, hourly_gtfs/20190602_12.pkl, 1582223047077997>,\n",
       " <Blob: nycelevator.dataclinic.research.alphastudio.com, hourly_gtfs/20190602_13.pkl, 1582223047146204>,\n",
       " <Blob: nycelevator.dataclinic.research.alphastudio.com, hourly_gtfs/20190602_14.pkl, 1582223046908881>,\n",
       " <Blob: nycelevator.dataclinic.research.alphastudio.com, hourly_gtfs/20190602_15.pkl, 1582223047110788>,\n",
       " <Blob: nycelevator.dataclinic.research.alphastudio.com, hourly_gtfs/20190602_16.pkl, 1582223047192056>,\n",
       " <Blob: nycelevator.dataclinic.research.alphastudio.com, hourly_gtfs/20190602_17.pkl, 1582223047122894>,\n",
       " <Blob: nycelevator.dataclinic.research.alphastudio.com, hourly_gtfs/20190602_18.pkl, 1582223038981294>,\n",
       " <Blob: nycelevator.dataclinic.research.alphastudio.com, hourly_gtfs/20190602_19.pkl, 1582223038923474>,\n",
       " <Blob: nycelevator.dataclinic.research.alphastudio.com, hourly_gtfs/20190602_20.pkl, 1582223041250490>,\n",
       " <Blob: nycelevator.dataclinic.research.alphastudio.com, hourly_gtfs/20190602_21.pkl, 1582223041621593>,\n",
       " <Blob: nycelevator.dataclinic.research.alphastudio.com, hourly_gtfs/20190602_22.pkl, 1582223041139978>,\n",
       " <Blob: nycelevator.dataclinic.research.alphastudio.com, hourly_gtfs/20190602_23.pkl, 1582223040651831>,\n",
       " <Blob: nycelevator.dataclinic.research.alphastudio.com, hourly_gtfs/20190603_03.pkl, 1582223037623763>,\n",
       " <Blob: nycelevator.dataclinic.research.alphastudio.com, hourly_gtfs/20190603_04.pkl, 1582223041247131>,\n",
       " <Blob: nycelevator.dataclinic.research.alphastudio.com, hourly_gtfs/20190603_05.pkl, 1582223043284734>,\n",
       " <Blob: nycelevator.dataclinic.research.alphastudio.com, hourly_gtfs/20190603_06.pkl, 1582223047348920>,\n",
       " <Blob: nycelevator.dataclinic.research.alphastudio.com, hourly_gtfs/20190603_07.pkl, 1582223053518532>,\n",
       " <Blob: nycelevator.dataclinic.research.alphastudio.com, hourly_gtfs/20190603_08.pkl, 1582223056806034>,\n",
       " <Blob: nycelevator.dataclinic.research.alphastudio.com, hourly_gtfs/20190603_09.pkl, 1582223053030561>,\n",
       " <Blob: nycelevator.dataclinic.research.alphastudio.com, hourly_gtfs/20190603_10.pkl, 1582223052000824>,\n",
       " <Blob: nycelevator.dataclinic.research.alphastudio.com, hourly_gtfs/20190603_11.pkl, 1582223050057631>,\n",
       " <Blob: nycelevator.dataclinic.research.alphastudio.com, hourly_gtfs/20190603_12.pkl, 1582223050074284>,\n",
       " <Blob: nycelevator.dataclinic.research.alphastudio.com, hourly_gtfs/20190603_13.pkl, 1582223049797667>,\n",
       " <Blob: nycelevator.dataclinic.research.alphastudio.com, hourly_gtfs/20190603_14.pkl, 1582223050774741>,\n",
       " <Blob: nycelevator.dataclinic.research.alphastudio.com, hourly_gtfs/20190603_15.pkl, 1582223053516657>,\n",
       " <Blob: nycelevator.dataclinic.research.alphastudio.com, hourly_gtfs/20190603_16.pkl, 1582223055481710>,\n",
       " <Blob: nycelevator.dataclinic.research.alphastudio.com, hourly_gtfs/20190603_17.pkl, 1582223047373589>,\n",
       " <Blob: nycelevator.dataclinic.research.alphastudio.com, hourly_gtfs/20190603_18.pkl, 1582223047061766>,\n",
       " <Blob: nycelevator.dataclinic.research.alphastudio.com, hourly_gtfs/20190603_19.pkl, 1582223047846556>,\n",
       " <Blob: nycelevator.dataclinic.research.alphastudio.com, hourly_gtfs/20190603_20.pkl, 1582223047401723>,\n",
       " <Blob: nycelevator.dataclinic.research.alphastudio.com, hourly_gtfs/20190603_21.pkl, 1582223047452611>,\n",
       " <Blob: nycelevator.dataclinic.research.alphastudio.com, hourly_gtfs/20190617_03.pkl, 1582223047451477>,\n",
       " <Blob: nycelevator.dataclinic.research.alphastudio.com, hourly_gtfs/20190617_04.pkl, 1582223052524700>,\n",
       " <Blob: nycelevator.dataclinic.research.alphastudio.com, hourly_gtfs/20190617_05.pkl, 1582223056465814>,\n",
       " <Blob: nycelevator.dataclinic.research.alphastudio.com, hourly_gtfs/20190617_06.pkl, 1582223068112404>,\n",
       " <Blob: nycelevator.dataclinic.research.alphastudio.com, hourly_gtfs/20190617_07.pkl, 1582223080592378>,\n",
       " <Blob: nycelevator.dataclinic.research.alphastudio.com, hourly_gtfs/20190617_08.pkl, 1582223069786365>,\n",
       " <Blob: nycelevator.dataclinic.research.alphastudio.com, hourly_gtfs/20190617_09.pkl, 1582223061632050>,\n",
       " <Blob: nycelevator.dataclinic.research.alphastudio.com, hourly_gtfs/20190617_10.pkl, 1582223058529369>,\n",
       " <Blob: nycelevator.dataclinic.research.alphastudio.com, hourly_gtfs/20190617_11.pkl, 1582223057543647>,\n",
       " <Blob: nycelevator.dataclinic.research.alphastudio.com, hourly_gtfs/20190617_12.pkl, 1582223058154320>,\n",
       " <Blob: nycelevator.dataclinic.research.alphastudio.com, hourly_gtfs/20190617_13.pkl, 1582223058856587>,\n",
       " <Blob: nycelevator.dataclinic.research.alphastudio.com, hourly_gtfs/20190617_14.pkl, 1582223061828977>,\n",
       " <Blob: nycelevator.dataclinic.research.alphastudio.com, hourly_gtfs/20190617_15.pkl, 1582223060017851>,\n",
       " <Blob: nycelevator.dataclinic.research.alphastudio.com, hourly_gtfs/20190617_16.pkl, 1582223065755531>,\n",
       " <Blob: nycelevator.dataclinic.research.alphastudio.com, hourly_gtfs/20190617_17.pkl, 1582223059312660>,\n",
       " <Blob: nycelevator.dataclinic.research.alphastudio.com, hourly_gtfs/20190617_18.pkl, 1582223059460920>,\n",
       " <Blob: nycelevator.dataclinic.research.alphastudio.com, hourly_gtfs/20190617_19.pkl, 1582223059259819>,\n",
       " <Blob: nycelevator.dataclinic.research.alphastudio.com, hourly_gtfs/20190617_20.pkl, 1582223059147690>,\n",
       " <Blob: nycelevator.dataclinic.research.alphastudio.com, hourly_gtfs/20190617_21.pkl, 1582223058792404>,\n",
       " <Blob: nycelevator.dataclinic.research.alphastudio.com, hourly_gtfs/20190617_22.pkl, 1582223058528889>,\n",
       " <Blob: nycelevator.dataclinic.research.alphastudio.com, hourly_gtfs/20190617_23.pkl, 1582223058866267>,\n",
       " <Blob: nycelevator.dataclinic.research.alphastudio.com, hourly_gtfs/20190629_03.pkl, 1582223056773078>,\n",
       " <Blob: nycelevator.dataclinic.research.alphastudio.com, hourly_gtfs/20190629_04.pkl, 1582223068889740>,\n",
       " <Blob: nycelevator.dataclinic.research.alphastudio.com, hourly_gtfs/20190629_05.pkl, 1582223080334077>,\n",
       " <Blob: nycelevator.dataclinic.research.alphastudio.com, hourly_gtfs/20190629_06.pkl, 1582223089213311>,\n",
       " <Blob: nycelevator.dataclinic.research.alphastudio.com, hourly_gtfs/20190629_07.pkl, 1582223091304558>,\n",
       " <Blob: nycelevator.dataclinic.research.alphastudio.com, hourly_gtfs/20190629_08.pkl, 1582223091319640>,\n",
       " <Blob: nycelevator.dataclinic.research.alphastudio.com, hourly_gtfs/20190629_09.pkl, 1582223091293923>,\n",
       " <Blob: nycelevator.dataclinic.research.alphastudio.com, hourly_gtfs/20190629_10.pkl, 1582223091310873>,\n",
       " <Blob: nycelevator.dataclinic.research.alphastudio.com, hourly_gtfs/20190629_11.pkl, 1582223091256902>,\n",
       " <Blob: nycelevator.dataclinic.research.alphastudio.com, hourly_gtfs/20190629_12.pkl, 1582223091196020>,\n",
       " <Blob: nycelevator.dataclinic.research.alphastudio.com, hourly_gtfs/20190629_13.pkl, 1582223091229790>,\n",
       " <Blob: nycelevator.dataclinic.research.alphastudio.com, hourly_gtfs/20190629_14.pkl, 1582223091078813>,\n",
       " <Blob: nycelevator.dataclinic.research.alphastudio.com, hourly_gtfs/20190629_15.pkl, 1582223091168392>,\n",
       " <Blob: nycelevator.dataclinic.research.alphastudio.com, hourly_gtfs/20190629_16.pkl, 1582223090814721>,\n",
       " <Blob: nycelevator.dataclinic.research.alphastudio.com, hourly_gtfs/20190629_17.pkl, 1582223090838212>,\n",
       " <Blob: nycelevator.dataclinic.research.alphastudio.com, hourly_gtfs/20190629_18.pkl, 1582223091030726>,\n",
       " <Blob: nycelevator.dataclinic.research.alphastudio.com, hourly_gtfs/20190629_19.pkl, 1582223090037143>,\n",
       " <Blob: nycelevator.dataclinic.research.alphastudio.com, hourly_gtfs/20190629_20.pkl, 1582223090867160>,\n",
       " <Blob: nycelevator.dataclinic.research.alphastudio.com, hourly_gtfs/20190629_21.pkl, 1582223090861350>,\n",
       " <Blob: nycelevator.dataclinic.research.alphastudio.com, hourly_gtfs/20190629_22.pkl, 1582223090227806>,\n",
       " <Blob: nycelevator.dataclinic.research.alphastudio.com, hourly_gtfs/20190629_23.pkl, 1582223087936795>]"
      ]
     },
     "execution_count": 48,
     "metadata": {},
     "output_type": "execute_result"
    }
   ],
   "source": [
    "gcs.list_blobs(\"hourly_gtfs/\")"
   ]
  },
  {
   "cell_type": "code",
   "execution_count": 124,
   "metadata": {},
   "outputs": [
    {
     "data": {
      "text/html": [
       "<div>\n",
       "<style scoped>\n",
       "    .dataframe tbody tr th:only-of-type {\n",
       "        vertical-align: middle;\n",
       "    }\n",
       "\n",
       "    .dataframe tbody tr th {\n",
       "        vertical-align: top;\n",
       "    }\n",
       "\n",
       "    .dataframe thead th {\n",
       "        text-align: right;\n",
       "    }\n",
       "</style>\n",
       "<table border=\"1\" class=\"dataframe\">\n",
       "  <thead>\n",
       "    <tr style=\"text-align: right;\">\n",
       "      <th></th>\n",
       "      <th>trip_id</th>\n",
       "      <th>route_id</th>\n",
       "      <th>action</th>\n",
       "      <th>minimum_time</th>\n",
       "      <th>maximum_time</th>\n",
       "      <th>stop_id</th>\n",
       "      <th>latest_information_time</th>\n",
       "      <th>unique_trip_id</th>\n",
       "    </tr>\n",
       "  </thead>\n",
       "  <tbody>\n",
       "    <tr>\n",
       "      <th>0</th>\n",
       "      <td>031350_E..S</td>\n",
       "      <td>E</td>\n",
       "      <td>EN_ROUTE_TO</td>\n",
       "      <td>1.559427e+09</td>\n",
       "      <td>NaN</td>\n",
       "      <td>G05S</td>\n",
       "      <td>1559426525</td>\n",
       "      <td>083300_E..S_1559408369</td>\n",
       "    </tr>\n",
       "    <tr>\n",
       "      <th>1</th>\n",
       "      <td>031350_E..S</td>\n",
       "      <td>E</td>\n",
       "      <td>EN_ROUTE_TO</td>\n",
       "      <td>1.559427e+09</td>\n",
       "      <td>NaN</td>\n",
       "      <td>G06S</td>\n",
       "      <td>1559426525</td>\n",
       "      <td>083300_E..S_1559408369</td>\n",
       "    </tr>\n",
       "    <tr>\n",
       "      <th>2</th>\n",
       "      <td>031350_E..S</td>\n",
       "      <td>E</td>\n",
       "      <td>EN_ROUTE_TO</td>\n",
       "      <td>1.559427e+09</td>\n",
       "      <td>NaN</td>\n",
       "      <td>G07S</td>\n",
       "      <td>1559426525</td>\n",
       "      <td>083300_E..S_1559408369</td>\n",
       "    </tr>\n",
       "    <tr>\n",
       "      <th>3</th>\n",
       "      <td>031350_E..S</td>\n",
       "      <td>E</td>\n",
       "      <td>EN_ROUTE_TO</td>\n",
       "      <td>1.559427e+09</td>\n",
       "      <td>NaN</td>\n",
       "      <td>F05S</td>\n",
       "      <td>1559426525</td>\n",
       "      <td>083300_E..S_1559408369</td>\n",
       "    </tr>\n",
       "    <tr>\n",
       "      <th>4</th>\n",
       "      <td>031350_E..S</td>\n",
       "      <td>E</td>\n",
       "      <td>EN_ROUTE_TO</td>\n",
       "      <td>1.559427e+09</td>\n",
       "      <td>NaN</td>\n",
       "      <td>F06S</td>\n",
       "      <td>1559426525</td>\n",
       "      <td>083300_E..S_1559408369</td>\n",
       "    </tr>\n",
       "  </tbody>\n",
       "</table>\n",
       "</div>"
      ],
      "text/plain": [
       "       trip_id route_id       action  minimum_time  maximum_time stop_id  \\\n",
       "0  031350_E..S        E  EN_ROUTE_TO  1.559427e+09           NaN    G05S   \n",
       "1  031350_E..S        E  EN_ROUTE_TO  1.559427e+09           NaN    G06S   \n",
       "2  031350_E..S        E  EN_ROUTE_TO  1.559427e+09           NaN    G07S   \n",
       "3  031350_E..S        E  EN_ROUTE_TO  1.559427e+09           NaN    F05S   \n",
       "4  031350_E..S        E  EN_ROUTE_TO  1.559427e+09           NaN    F06S   \n",
       "\n",
       "   latest_information_time          unique_trip_id  \n",
       "0               1559426525  083300_E..S_1559408369  \n",
       "1               1559426525  083300_E..S_1559408369  \n",
       "2               1559426525  083300_E..S_1559408369  \n",
       "3               1559426525  083300_E..S_1559408369  \n",
       "4               1559426525  083300_E..S_1559408369  "
      ]
     },
     "execution_count": 124,
     "metadata": {},
     "output_type": "execute_result"
    }
   ],
   "source": [
    "df = gcs.read_dataframe('tripify/tripified.pkl')\n"
   ]
  },
  {
   "cell_type": "code",
   "execution_count": 135,
   "metadata": {},
   "outputs": [],
   "source": [
    "import pandas as pd\n",
    "gcs = gcs_util(gcs_util.data_clinic_bucket)\n",
    "df = pd.DataFrame({\"a\": [1,2,3], \"b\": [4,5,7]})\n",
    "gcs.upload_dataframe(df, '/test/df.pkl')\n",
    "gcs.upload_dataframe(df, '/test/df2.pkl')\n"
   ]
  },
  {
   "cell_type": "code",
   "execution_count": 122,
   "metadata": {},
   "outputs": [
    {
     "data": {
      "text/plain": [
       "[<Blob: nycelevator.dataclinic.research.alphastudio.com, tripify/tripified.pkl, 1585260845625944>]"
      ]
     },
     "execution_count": 122,
     "metadata": {},
     "output_type": "execute_result"
    }
   ],
   "source": [
    "gcs.list_blobs(prefix='tripify')"
   ]
  },
  {
   "cell_type": "code",
   "execution_count": 77,
   "metadata": {},
   "outputs": [
    {
     "data": {
      "text/html": [
       "<div>\n",
       "<style scoped>\n",
       "    .dataframe tbody tr th:only-of-type {\n",
       "        vertical-align: middle;\n",
       "    }\n",
       "\n",
       "    .dataframe tbody tr th {\n",
       "        vertical-align: top;\n",
       "    }\n",
       "\n",
       "    .dataframe thead th {\n",
       "        text-align: right;\n",
       "    }\n",
       "</style>\n",
       "<table border=\"1\" class=\"dataframe\">\n",
       "  <thead>\n",
       "    <tr style=\"text-align: right;\">\n",
       "      <th></th>\n",
       "      <th>a</th>\n",
       "      <th>b</th>\n",
       "    </tr>\n",
       "  </thead>\n",
       "  <tbody>\n",
       "    <tr>\n",
       "      <th>0</th>\n",
       "      <td>1</td>\n",
       "      <td>4</td>\n",
       "    </tr>\n",
       "    <tr>\n",
       "      <th>1</th>\n",
       "      <td>2</td>\n",
       "      <td>5</td>\n",
       "    </tr>\n",
       "    <tr>\n",
       "      <th>2</th>\n",
       "      <td>3</td>\n",
       "      <td>7</td>\n",
       "    </tr>\n",
       "  </tbody>\n",
       "</table>\n",
       "</div>"
      ],
      "text/plain": [
       "   a  b\n",
       "0  1  4\n",
       "1  2  5\n",
       "2  3  7"
      ]
     },
     "execution_count": 77,
     "metadata": {},
     "output_type": "execute_result"
    }
   ],
   "source": [
    "gcs.read_dataframe('test/df.pkl')"
   ]
  },
  {
   "cell_type": "code",
   "execution_count": 147,
   "metadata": {},
   "outputs": [
    {
     "name": "stdout",
     "output_type": "stream",
     "text": [
      "<Blob: nycelevator.dataclinic.research.alphastudio.com, /test/df.pkl, 1585265667185383>\n",
      "['201906/20190601/', '201906/20190602/', '201906/20190603/', '201906/20190604/', '201906/20190605/', '201906/20190606/', '201906/20190607/', '201906/20190608/', '201906/20190609/', '201906/20190610/', '201906/20190611/', '201906/20190612/', '201906/20190613/', '201906/20190614/', '201906/20190615/', '201906/20190616/', '201906/20190617/', '201906/20190618/', '201906/20190619/', '201906/20190620/', '201906/20190621/', '201906/20190622/', '201906/20190623/', '201906/20190624/', '201906/20190625/', '201906/20190626/', '201906/20190627/', '201906/20190628/', '201906/20190629/', '201906/20190630/', '201906/zipped/']\n"
     ]
    }
   ],
   "source": [
    "gcs.get_prefixes()"
   ]
  },
  {
   "cell_type": "code",
   "execution_count": 57,
   "metadata": {},
   "outputs": [
    {
     "ename": "AttributeError",
     "evalue": "'bytes' object has no attribute 'seek'",
     "output_type": "error",
     "traceback": [
      "\u001b[0;31m---------------------------------------------------------------------------\u001b[0m",
      "\u001b[0;31mTypeError\u001b[0m                                 Traceback (most recent call last)",
      "\u001b[0;32m/opt/conda/envs/py3/lib/python3.6/site-packages/pandas/io/pickle.py\u001b[0m in \u001b[0;36mtry_read\u001b[0;34m(path, encoding)\u001b[0m\n\u001b[1;32m    165\u001b[0m                 \u001b[0mwarnings\u001b[0m\u001b[0;34m.\u001b[0m\u001b[0msimplefilter\u001b[0m\u001b[0;34m(\u001b[0m\u001b[0;34m\"ignore\"\u001b[0m\u001b[0;34m,\u001b[0m \u001b[0mWarning\u001b[0m\u001b[0;34m)\u001b[0m\u001b[0;34m\u001b[0m\u001b[0;34m\u001b[0m\u001b[0m\n\u001b[0;32m--> 166\u001b[0;31m                 \u001b[0;32mreturn\u001b[0m \u001b[0mread_wrapper\u001b[0m\u001b[0;34m(\u001b[0m\u001b[0;32mlambda\u001b[0m \u001b[0mf\u001b[0m\u001b[0;34m:\u001b[0m \u001b[0mpkl\u001b[0m\u001b[0;34m.\u001b[0m\u001b[0mload\u001b[0m\u001b[0;34m(\u001b[0m\u001b[0mf\u001b[0m\u001b[0;34m)\u001b[0m\u001b[0;34m)\u001b[0m\u001b[0;34m\u001b[0m\u001b[0;34m\u001b[0m\u001b[0m\n\u001b[0m\u001b[1;32m    167\u001b[0m         \u001b[0;32mexcept\u001b[0m \u001b[0mException\u001b[0m\u001b[0;34m:\u001b[0m  \u001b[0;31m# noqa: E722\u001b[0m\u001b[0;34m\u001b[0m\u001b[0;34m\u001b[0m\u001b[0m\n",
      "\u001b[0;32m/opt/conda/envs/py3/lib/python3.6/site-packages/pandas/io/pickle.py\u001b[0m in \u001b[0;36mread_wrapper\u001b[0;34m(func)\u001b[0m\n\u001b[1;32m    147\u001b[0m         \u001b[0;32mtry\u001b[0m\u001b[0;34m:\u001b[0m\u001b[0;34m\u001b[0m\u001b[0;34m\u001b[0m\u001b[0m\n\u001b[0;32m--> 148\u001b[0;31m             \u001b[0;32mreturn\u001b[0m \u001b[0mfunc\u001b[0m\u001b[0;34m(\u001b[0m\u001b[0mf\u001b[0m\u001b[0;34m)\u001b[0m\u001b[0;34m\u001b[0m\u001b[0;34m\u001b[0m\u001b[0m\n\u001b[0m\u001b[1;32m    149\u001b[0m         \u001b[0;32mfinally\u001b[0m\u001b[0;34m:\u001b[0m\u001b[0;34m\u001b[0m\u001b[0;34m\u001b[0m\u001b[0m\n",
      "\u001b[0;32m/opt/conda/envs/py3/lib/python3.6/site-packages/pandas/io/pickle.py\u001b[0m in \u001b[0;36m<lambda>\u001b[0;34m(f)\u001b[0m\n\u001b[1;32m    165\u001b[0m                 \u001b[0mwarnings\u001b[0m\u001b[0;34m.\u001b[0m\u001b[0msimplefilter\u001b[0m\u001b[0;34m(\u001b[0m\u001b[0;34m\"ignore\"\u001b[0m\u001b[0;34m,\u001b[0m \u001b[0mWarning\u001b[0m\u001b[0;34m)\u001b[0m\u001b[0;34m\u001b[0m\u001b[0;34m\u001b[0m\u001b[0m\n\u001b[0;32m--> 166\u001b[0;31m                 \u001b[0;32mreturn\u001b[0m \u001b[0mread_wrapper\u001b[0m\u001b[0;34m(\u001b[0m\u001b[0;32mlambda\u001b[0m \u001b[0mf\u001b[0m\u001b[0;34m:\u001b[0m \u001b[0mpkl\u001b[0m\u001b[0;34m.\u001b[0m\u001b[0mload\u001b[0m\u001b[0;34m(\u001b[0m\u001b[0mf\u001b[0m\u001b[0;34m)\u001b[0m\u001b[0;34m)\u001b[0m\u001b[0;34m\u001b[0m\u001b[0;34m\u001b[0m\u001b[0m\n\u001b[0m\u001b[1;32m    167\u001b[0m         \u001b[0;32mexcept\u001b[0m \u001b[0mException\u001b[0m\u001b[0;34m:\u001b[0m  \u001b[0;31m# noqa: E722\u001b[0m\u001b[0;34m\u001b[0m\u001b[0;34m\u001b[0m\u001b[0m\n",
      "\u001b[0;31mTypeError\u001b[0m: file must have 'read' and 'readline' attributes",
      "\nDuring handling of the above exception, another exception occurred:\n",
      "\u001b[0;31mAttributeError\u001b[0m                            Traceback (most recent call last)",
      "\u001b[0;32m/opt/conda/envs/py3/lib/python3.6/site-packages/pandas/io/pickle.py\u001b[0m in \u001b[0;36mtry_read\u001b[0;34m(path, encoding)\u001b[0m\n\u001b[1;32m    172\u001b[0m                 return read_wrapper(\n\u001b[0;32m--> 173\u001b[0;31m                     lambda f: pc.load(f, encoding=encoding, compat=False))\n\u001b[0m\u001b[1;32m    174\u001b[0m             \u001b[0;31m# compat pickle\u001b[0m\u001b[0;34m\u001b[0m\u001b[0;34m\u001b[0m\u001b[0;34m\u001b[0m\u001b[0m\n",
      "\u001b[0;32m/opt/conda/envs/py3/lib/python3.6/site-packages/pandas/io/pickle.py\u001b[0m in \u001b[0;36mread_wrapper\u001b[0;34m(func)\u001b[0m\n\u001b[1;32m    147\u001b[0m         \u001b[0;32mtry\u001b[0m\u001b[0;34m:\u001b[0m\u001b[0;34m\u001b[0m\u001b[0;34m\u001b[0m\u001b[0m\n\u001b[0;32m--> 148\u001b[0;31m             \u001b[0;32mreturn\u001b[0m \u001b[0mfunc\u001b[0m\u001b[0;34m(\u001b[0m\u001b[0mf\u001b[0m\u001b[0;34m)\u001b[0m\u001b[0;34m\u001b[0m\u001b[0;34m\u001b[0m\u001b[0m\n\u001b[0m\u001b[1;32m    149\u001b[0m         \u001b[0;32mfinally\u001b[0m\u001b[0;34m:\u001b[0m\u001b[0;34m\u001b[0m\u001b[0;34m\u001b[0m\u001b[0m\n",
      "\u001b[0;32m/opt/conda/envs/py3/lib/python3.6/site-packages/pandas/io/pickle.py\u001b[0m in \u001b[0;36m<lambda>\u001b[0;34m(f)\u001b[0m\n\u001b[1;32m    172\u001b[0m                 return read_wrapper(\n\u001b[0;32m--> 173\u001b[0;31m                     lambda f: pc.load(f, encoding=encoding, compat=False))\n\u001b[0m\u001b[1;32m    174\u001b[0m             \u001b[0;31m# compat pickle\u001b[0m\u001b[0;34m\u001b[0m\u001b[0;34m\u001b[0m\u001b[0;34m\u001b[0m\u001b[0m\n",
      "\u001b[0;32m/opt/conda/envs/py3/lib/python3.6/site-packages/pandas/compat/pickle_compat.py\u001b[0m in \u001b[0;36mload\u001b[0;34m(fh, encoding, compat, is_verbose)\u001b[0m\n\u001b[1;32m    219\u001b[0m     \u001b[0;32mtry\u001b[0m\u001b[0;34m:\u001b[0m\u001b[0;34m\u001b[0m\u001b[0;34m\u001b[0m\u001b[0m\n\u001b[0;32m--> 220\u001b[0;31m         \u001b[0mfh\u001b[0m\u001b[0;34m.\u001b[0m\u001b[0mseek\u001b[0m\u001b[0;34m(\u001b[0m\u001b[0;36m0\u001b[0m\u001b[0;34m)\u001b[0m\u001b[0;34m\u001b[0m\u001b[0;34m\u001b[0m\u001b[0m\n\u001b[0m\u001b[1;32m    221\u001b[0m         \u001b[0;32mif\u001b[0m \u001b[0mencoding\u001b[0m \u001b[0;32mis\u001b[0m \u001b[0;32mnot\u001b[0m \u001b[0;32mNone\u001b[0m\u001b[0;34m:\u001b[0m\u001b[0;34m\u001b[0m\u001b[0;34m\u001b[0m\u001b[0m\n",
      "\u001b[0;31mAttributeError\u001b[0m: 'bytes' object has no attribute 'seek'",
      "\nDuring handling of the above exception, another exception occurred:\n",
      "\u001b[0;31mAttributeError\u001b[0m                            Traceback (most recent call last)",
      "\u001b[0;32m/opt/conda/envs/py3/lib/python3.6/site-packages/pandas/io/pickle.py\u001b[0m in \u001b[0;36mread_pickle\u001b[0;34m(path, compression)\u001b[0m\n\u001b[1;32m    178\u001b[0m     \u001b[0;32mtry\u001b[0m\u001b[0;34m:\u001b[0m\u001b[0;34m\u001b[0m\u001b[0;34m\u001b[0m\u001b[0m\n\u001b[0;32m--> 179\u001b[0;31m         \u001b[0;32mreturn\u001b[0m \u001b[0mtry_read\u001b[0m\u001b[0;34m(\u001b[0m\u001b[0mpath\u001b[0m\u001b[0;34m)\u001b[0m\u001b[0;34m\u001b[0m\u001b[0;34m\u001b[0m\u001b[0m\n\u001b[0m\u001b[1;32m    180\u001b[0m     \u001b[0;32mexcept\u001b[0m \u001b[0mException\u001b[0m\u001b[0;34m:\u001b[0m  \u001b[0;31m# noqa: E722\u001b[0m\u001b[0;34m\u001b[0m\u001b[0;34m\u001b[0m\u001b[0m\n",
      "\u001b[0;32m/opt/conda/envs/py3/lib/python3.6/site-packages/pandas/io/pickle.py\u001b[0m in \u001b[0;36mtry_read\u001b[0;34m(path, encoding)\u001b[0m\n\u001b[1;32m    176\u001b[0m                 return read_wrapper(\n\u001b[0;32m--> 177\u001b[0;31m                     lambda f: pc.load(f, encoding=encoding, compat=True))\n\u001b[0m\u001b[1;32m    178\u001b[0m     \u001b[0;32mtry\u001b[0m\u001b[0;34m:\u001b[0m\u001b[0;34m\u001b[0m\u001b[0;34m\u001b[0m\u001b[0m\n",
      "\u001b[0;32m/opt/conda/envs/py3/lib/python3.6/site-packages/pandas/io/pickle.py\u001b[0m in \u001b[0;36mread_wrapper\u001b[0;34m(func)\u001b[0m\n\u001b[1;32m    147\u001b[0m         \u001b[0;32mtry\u001b[0m\u001b[0;34m:\u001b[0m\u001b[0;34m\u001b[0m\u001b[0;34m\u001b[0m\u001b[0m\n\u001b[0;32m--> 148\u001b[0;31m             \u001b[0;32mreturn\u001b[0m \u001b[0mfunc\u001b[0m\u001b[0;34m(\u001b[0m\u001b[0mf\u001b[0m\u001b[0;34m)\u001b[0m\u001b[0;34m\u001b[0m\u001b[0;34m\u001b[0m\u001b[0m\n\u001b[0m\u001b[1;32m    149\u001b[0m         \u001b[0;32mfinally\u001b[0m\u001b[0;34m:\u001b[0m\u001b[0;34m\u001b[0m\u001b[0;34m\u001b[0m\u001b[0m\n",
      "\u001b[0;32m/opt/conda/envs/py3/lib/python3.6/site-packages/pandas/io/pickle.py\u001b[0m in \u001b[0;36m<lambda>\u001b[0;34m(f)\u001b[0m\n\u001b[1;32m    176\u001b[0m                 return read_wrapper(\n\u001b[0;32m--> 177\u001b[0;31m                     lambda f: pc.load(f, encoding=encoding, compat=True))\n\u001b[0m\u001b[1;32m    178\u001b[0m     \u001b[0;32mtry\u001b[0m\u001b[0;34m:\u001b[0m\u001b[0;34m\u001b[0m\u001b[0;34m\u001b[0m\u001b[0m\n",
      "\u001b[0;32m/opt/conda/envs/py3/lib/python3.6/site-packages/pandas/compat/pickle_compat.py\u001b[0m in \u001b[0;36mload\u001b[0;34m(fh, encoding, compat, is_verbose)\u001b[0m\n\u001b[1;32m    219\u001b[0m     \u001b[0;32mtry\u001b[0m\u001b[0;34m:\u001b[0m\u001b[0;34m\u001b[0m\u001b[0;34m\u001b[0m\u001b[0m\n\u001b[0;32m--> 220\u001b[0;31m         \u001b[0mfh\u001b[0m\u001b[0;34m.\u001b[0m\u001b[0mseek\u001b[0m\u001b[0;34m(\u001b[0m\u001b[0;36m0\u001b[0m\u001b[0;34m)\u001b[0m\u001b[0;34m\u001b[0m\u001b[0;34m\u001b[0m\u001b[0m\n\u001b[0m\u001b[1;32m    221\u001b[0m         \u001b[0;32mif\u001b[0m \u001b[0mencoding\u001b[0m \u001b[0;32mis\u001b[0m \u001b[0;32mnot\u001b[0m \u001b[0;32mNone\u001b[0m\u001b[0;34m:\u001b[0m\u001b[0;34m\u001b[0m\u001b[0;34m\u001b[0m\u001b[0m\n",
      "\u001b[0;31mAttributeError\u001b[0m: 'bytes' object has no attribute 'seek'",
      "\nDuring handling of the above exception, another exception occurred:\n",
      "\u001b[0;31mTypeError\u001b[0m                                 Traceback (most recent call last)",
      "\u001b[0;32m/opt/conda/envs/py3/lib/python3.6/site-packages/pandas/io/pickle.py\u001b[0m in \u001b[0;36mtry_read\u001b[0;34m(path, encoding)\u001b[0m\n\u001b[1;32m    165\u001b[0m                 \u001b[0mwarnings\u001b[0m\u001b[0;34m.\u001b[0m\u001b[0msimplefilter\u001b[0m\u001b[0;34m(\u001b[0m\u001b[0;34m\"ignore\"\u001b[0m\u001b[0;34m,\u001b[0m \u001b[0mWarning\u001b[0m\u001b[0;34m)\u001b[0m\u001b[0;34m\u001b[0m\u001b[0;34m\u001b[0m\u001b[0m\n\u001b[0;32m--> 166\u001b[0;31m                 \u001b[0;32mreturn\u001b[0m \u001b[0mread_wrapper\u001b[0m\u001b[0;34m(\u001b[0m\u001b[0;32mlambda\u001b[0m \u001b[0mf\u001b[0m\u001b[0;34m:\u001b[0m \u001b[0mpkl\u001b[0m\u001b[0;34m.\u001b[0m\u001b[0mload\u001b[0m\u001b[0;34m(\u001b[0m\u001b[0mf\u001b[0m\u001b[0;34m)\u001b[0m\u001b[0;34m)\u001b[0m\u001b[0;34m\u001b[0m\u001b[0;34m\u001b[0m\u001b[0m\n\u001b[0m\u001b[1;32m    167\u001b[0m         \u001b[0;32mexcept\u001b[0m \u001b[0mException\u001b[0m\u001b[0;34m:\u001b[0m  \u001b[0;31m# noqa: E722\u001b[0m\u001b[0;34m\u001b[0m\u001b[0;34m\u001b[0m\u001b[0m\n",
      "\u001b[0;32m/opt/conda/envs/py3/lib/python3.6/site-packages/pandas/io/pickle.py\u001b[0m in \u001b[0;36mread_wrapper\u001b[0;34m(func)\u001b[0m\n\u001b[1;32m    147\u001b[0m         \u001b[0;32mtry\u001b[0m\u001b[0;34m:\u001b[0m\u001b[0;34m\u001b[0m\u001b[0;34m\u001b[0m\u001b[0m\n\u001b[0;32m--> 148\u001b[0;31m             \u001b[0;32mreturn\u001b[0m \u001b[0mfunc\u001b[0m\u001b[0;34m(\u001b[0m\u001b[0mf\u001b[0m\u001b[0;34m)\u001b[0m\u001b[0;34m\u001b[0m\u001b[0;34m\u001b[0m\u001b[0m\n\u001b[0m\u001b[1;32m    149\u001b[0m         \u001b[0;32mfinally\u001b[0m\u001b[0;34m:\u001b[0m\u001b[0;34m\u001b[0m\u001b[0;34m\u001b[0m\u001b[0m\n",
      "\u001b[0;32m/opt/conda/envs/py3/lib/python3.6/site-packages/pandas/io/pickle.py\u001b[0m in \u001b[0;36m<lambda>\u001b[0;34m(f)\u001b[0m\n\u001b[1;32m    165\u001b[0m                 \u001b[0mwarnings\u001b[0m\u001b[0;34m.\u001b[0m\u001b[0msimplefilter\u001b[0m\u001b[0;34m(\u001b[0m\u001b[0;34m\"ignore\"\u001b[0m\u001b[0;34m,\u001b[0m \u001b[0mWarning\u001b[0m\u001b[0;34m)\u001b[0m\u001b[0;34m\u001b[0m\u001b[0;34m\u001b[0m\u001b[0m\n\u001b[0;32m--> 166\u001b[0;31m                 \u001b[0;32mreturn\u001b[0m \u001b[0mread_wrapper\u001b[0m\u001b[0;34m(\u001b[0m\u001b[0;32mlambda\u001b[0m \u001b[0mf\u001b[0m\u001b[0;34m:\u001b[0m \u001b[0mpkl\u001b[0m\u001b[0;34m.\u001b[0m\u001b[0mload\u001b[0m\u001b[0;34m(\u001b[0m\u001b[0mf\u001b[0m\u001b[0;34m)\u001b[0m\u001b[0;34m)\u001b[0m\u001b[0;34m\u001b[0m\u001b[0;34m\u001b[0m\u001b[0m\n\u001b[0m\u001b[1;32m    167\u001b[0m         \u001b[0;32mexcept\u001b[0m \u001b[0mException\u001b[0m\u001b[0;34m:\u001b[0m  \u001b[0;31m# noqa: E722\u001b[0m\u001b[0;34m\u001b[0m\u001b[0;34m\u001b[0m\u001b[0m\n",
      "\u001b[0;31mTypeError\u001b[0m: file must have 'read' and 'readline' attributes",
      "\nDuring handling of the above exception, another exception occurred:\n",
      "\u001b[0;31mAttributeError\u001b[0m                            Traceback (most recent call last)",
      "\u001b[0;32m/opt/conda/envs/py3/lib/python3.6/site-packages/pandas/io/pickle.py\u001b[0m in \u001b[0;36mtry_read\u001b[0;34m(path, encoding)\u001b[0m\n\u001b[1;32m    172\u001b[0m                 return read_wrapper(\n\u001b[0;32m--> 173\u001b[0;31m                     lambda f: pc.load(f, encoding=encoding, compat=False))\n\u001b[0m\u001b[1;32m    174\u001b[0m             \u001b[0;31m# compat pickle\u001b[0m\u001b[0;34m\u001b[0m\u001b[0;34m\u001b[0m\u001b[0;34m\u001b[0m\u001b[0m\n",
      "\u001b[0;32m/opt/conda/envs/py3/lib/python3.6/site-packages/pandas/io/pickle.py\u001b[0m in \u001b[0;36mread_wrapper\u001b[0;34m(func)\u001b[0m\n\u001b[1;32m    147\u001b[0m         \u001b[0;32mtry\u001b[0m\u001b[0;34m:\u001b[0m\u001b[0;34m\u001b[0m\u001b[0;34m\u001b[0m\u001b[0m\n\u001b[0;32m--> 148\u001b[0;31m             \u001b[0;32mreturn\u001b[0m \u001b[0mfunc\u001b[0m\u001b[0;34m(\u001b[0m\u001b[0mf\u001b[0m\u001b[0;34m)\u001b[0m\u001b[0;34m\u001b[0m\u001b[0;34m\u001b[0m\u001b[0m\n\u001b[0m\u001b[1;32m    149\u001b[0m         \u001b[0;32mfinally\u001b[0m\u001b[0;34m:\u001b[0m\u001b[0;34m\u001b[0m\u001b[0;34m\u001b[0m\u001b[0m\n",
      "\u001b[0;32m/opt/conda/envs/py3/lib/python3.6/site-packages/pandas/io/pickle.py\u001b[0m in \u001b[0;36m<lambda>\u001b[0;34m(f)\u001b[0m\n\u001b[1;32m    172\u001b[0m                 return read_wrapper(\n\u001b[0;32m--> 173\u001b[0;31m                     lambda f: pc.load(f, encoding=encoding, compat=False))\n\u001b[0m\u001b[1;32m    174\u001b[0m             \u001b[0;31m# compat pickle\u001b[0m\u001b[0;34m\u001b[0m\u001b[0;34m\u001b[0m\u001b[0;34m\u001b[0m\u001b[0m\n",
      "\u001b[0;32m/opt/conda/envs/py3/lib/python3.6/site-packages/pandas/compat/pickle_compat.py\u001b[0m in \u001b[0;36mload\u001b[0;34m(fh, encoding, compat, is_verbose)\u001b[0m\n\u001b[1;32m    219\u001b[0m     \u001b[0;32mtry\u001b[0m\u001b[0;34m:\u001b[0m\u001b[0;34m\u001b[0m\u001b[0;34m\u001b[0m\u001b[0m\n\u001b[0;32m--> 220\u001b[0;31m         \u001b[0mfh\u001b[0m\u001b[0;34m.\u001b[0m\u001b[0mseek\u001b[0m\u001b[0;34m(\u001b[0m\u001b[0;36m0\u001b[0m\u001b[0;34m)\u001b[0m\u001b[0;34m\u001b[0m\u001b[0;34m\u001b[0m\u001b[0m\n\u001b[0m\u001b[1;32m    221\u001b[0m         \u001b[0;32mif\u001b[0m \u001b[0mencoding\u001b[0m \u001b[0;32mis\u001b[0m \u001b[0;32mnot\u001b[0m \u001b[0;32mNone\u001b[0m\u001b[0;34m:\u001b[0m\u001b[0;34m\u001b[0m\u001b[0;34m\u001b[0m\u001b[0m\n",
      "\u001b[0;31mAttributeError\u001b[0m: 'bytes' object has no attribute 'seek'",
      "\nDuring handling of the above exception, another exception occurred:\n",
      "\u001b[0;31mAttributeError\u001b[0m                            Traceback (most recent call last)",
      "\u001b[0;32m<ipython-input-57-088ce6881378>\u001b[0m in \u001b[0;36m<module>\u001b[0;34m\u001b[0m\n\u001b[0;32m----> 1\u001b[0;31m \u001b[0mpd\u001b[0m\u001b[0;34m.\u001b[0m\u001b[0mread_pickle\u001b[0m\u001b[0;34m(\u001b[0m\u001b[0mblob_str\u001b[0m\u001b[0;34m,\u001b[0m \u001b[0mcompression\u001b[0m\u001b[0;34m=\u001b[0m\u001b[0;32mNone\u001b[0m\u001b[0;34m)\u001b[0m\u001b[0;34m\u001b[0m\u001b[0;34m\u001b[0m\u001b[0m\n\u001b[0m",
      "\u001b[0;32m/opt/conda/envs/py3/lib/python3.6/site-packages/pandas/io/pickle.py\u001b[0m in \u001b[0;36mread_pickle\u001b[0;34m(path, compression)\u001b[0m\n\u001b[1;32m    180\u001b[0m     \u001b[0;32mexcept\u001b[0m \u001b[0mException\u001b[0m\u001b[0;34m:\u001b[0m  \u001b[0;31m# noqa: E722\u001b[0m\u001b[0;34m\u001b[0m\u001b[0;34m\u001b[0m\u001b[0m\n\u001b[1;32m    181\u001b[0m         \u001b[0;32mif\u001b[0m \u001b[0mPY3\u001b[0m\u001b[0;34m:\u001b[0m\u001b[0;34m\u001b[0m\u001b[0;34m\u001b[0m\u001b[0m\n\u001b[0;32m--> 182\u001b[0;31m             \u001b[0;32mreturn\u001b[0m \u001b[0mtry_read\u001b[0m\u001b[0;34m(\u001b[0m\u001b[0mpath\u001b[0m\u001b[0;34m,\u001b[0m \u001b[0mencoding\u001b[0m\u001b[0;34m=\u001b[0m\u001b[0;34m'latin1'\u001b[0m\u001b[0;34m)\u001b[0m\u001b[0;34m\u001b[0m\u001b[0;34m\u001b[0m\u001b[0m\n\u001b[0m\u001b[1;32m    183\u001b[0m         \u001b[0;32mraise\u001b[0m\u001b[0;34m\u001b[0m\u001b[0;34m\u001b[0m\u001b[0m\n\u001b[1;32m    184\u001b[0m \u001b[0;34m\u001b[0m\u001b[0m\n",
      "\u001b[0;32m/opt/conda/envs/py3/lib/python3.6/site-packages/pandas/io/pickle.py\u001b[0m in \u001b[0;36mtry_read\u001b[0;34m(path, encoding)\u001b[0m\n\u001b[1;32m    175\u001b[0m             \u001b[0;32mexcept\u001b[0m \u001b[0mException\u001b[0m\u001b[0;34m:\u001b[0m  \u001b[0;31m# noqa: E722\u001b[0m\u001b[0;34m\u001b[0m\u001b[0;34m\u001b[0m\u001b[0m\n\u001b[1;32m    176\u001b[0m                 return read_wrapper(\n\u001b[0;32m--> 177\u001b[0;31m                     lambda f: pc.load(f, encoding=encoding, compat=True))\n\u001b[0m\u001b[1;32m    178\u001b[0m     \u001b[0;32mtry\u001b[0m\u001b[0;34m:\u001b[0m\u001b[0;34m\u001b[0m\u001b[0;34m\u001b[0m\u001b[0m\n\u001b[1;32m    179\u001b[0m         \u001b[0;32mreturn\u001b[0m \u001b[0mtry_read\u001b[0m\u001b[0;34m(\u001b[0m\u001b[0mpath\u001b[0m\u001b[0;34m)\u001b[0m\u001b[0;34m\u001b[0m\u001b[0;34m\u001b[0m\u001b[0m\n",
      "\u001b[0;32m/opt/conda/envs/py3/lib/python3.6/site-packages/pandas/io/pickle.py\u001b[0m in \u001b[0;36mread_wrapper\u001b[0;34m(func)\u001b[0m\n\u001b[1;32m    146\u001b[0m                             is_text=False)\n\u001b[1;32m    147\u001b[0m         \u001b[0;32mtry\u001b[0m\u001b[0;34m:\u001b[0m\u001b[0;34m\u001b[0m\u001b[0;34m\u001b[0m\u001b[0m\n\u001b[0;32m--> 148\u001b[0;31m             \u001b[0;32mreturn\u001b[0m \u001b[0mfunc\u001b[0m\u001b[0;34m(\u001b[0m\u001b[0mf\u001b[0m\u001b[0;34m)\u001b[0m\u001b[0;34m\u001b[0m\u001b[0;34m\u001b[0m\u001b[0m\n\u001b[0m\u001b[1;32m    149\u001b[0m         \u001b[0;32mfinally\u001b[0m\u001b[0;34m:\u001b[0m\u001b[0;34m\u001b[0m\u001b[0;34m\u001b[0m\u001b[0m\n\u001b[1;32m    150\u001b[0m             \u001b[0;32mfor\u001b[0m \u001b[0m_f\u001b[0m \u001b[0;32min\u001b[0m \u001b[0mfh\u001b[0m\u001b[0;34m:\u001b[0m\u001b[0;34m\u001b[0m\u001b[0;34m\u001b[0m\u001b[0m\n",
      "\u001b[0;32m/opt/conda/envs/py3/lib/python3.6/site-packages/pandas/io/pickle.py\u001b[0m in \u001b[0;36m<lambda>\u001b[0;34m(f)\u001b[0m\n\u001b[1;32m    175\u001b[0m             \u001b[0;32mexcept\u001b[0m \u001b[0mException\u001b[0m\u001b[0;34m:\u001b[0m  \u001b[0;31m# noqa: E722\u001b[0m\u001b[0;34m\u001b[0m\u001b[0;34m\u001b[0m\u001b[0m\n\u001b[1;32m    176\u001b[0m                 return read_wrapper(\n\u001b[0;32m--> 177\u001b[0;31m                     lambda f: pc.load(f, encoding=encoding, compat=True))\n\u001b[0m\u001b[1;32m    178\u001b[0m     \u001b[0;32mtry\u001b[0m\u001b[0;34m:\u001b[0m\u001b[0;34m\u001b[0m\u001b[0;34m\u001b[0m\u001b[0m\n\u001b[1;32m    179\u001b[0m         \u001b[0;32mreturn\u001b[0m \u001b[0mtry_read\u001b[0m\u001b[0;34m(\u001b[0m\u001b[0mpath\u001b[0m\u001b[0;34m)\u001b[0m\u001b[0;34m\u001b[0m\u001b[0;34m\u001b[0m\u001b[0m\n",
      "\u001b[0;32m/opt/conda/envs/py3/lib/python3.6/site-packages/pandas/compat/pickle_compat.py\u001b[0m in \u001b[0;36mload\u001b[0;34m(fh, encoding, compat, is_verbose)\u001b[0m\n\u001b[1;32m    218\u001b[0m \u001b[0;34m\u001b[0m\u001b[0m\n\u001b[1;32m    219\u001b[0m     \u001b[0;32mtry\u001b[0m\u001b[0;34m:\u001b[0m\u001b[0;34m\u001b[0m\u001b[0;34m\u001b[0m\u001b[0m\n\u001b[0;32m--> 220\u001b[0;31m         \u001b[0mfh\u001b[0m\u001b[0;34m.\u001b[0m\u001b[0mseek\u001b[0m\u001b[0;34m(\u001b[0m\u001b[0;36m0\u001b[0m\u001b[0;34m)\u001b[0m\u001b[0;34m\u001b[0m\u001b[0;34m\u001b[0m\u001b[0m\n\u001b[0m\u001b[1;32m    221\u001b[0m         \u001b[0;32mif\u001b[0m \u001b[0mencoding\u001b[0m \u001b[0;32mis\u001b[0m \u001b[0;32mnot\u001b[0m \u001b[0;32mNone\u001b[0m\u001b[0;34m:\u001b[0m\u001b[0;34m\u001b[0m\u001b[0;34m\u001b[0m\u001b[0m\n\u001b[1;32m    222\u001b[0m             \u001b[0mup\u001b[0m \u001b[0;34m=\u001b[0m \u001b[0mUnpickler\u001b[0m\u001b[0;34m(\u001b[0m\u001b[0mfh\u001b[0m\u001b[0;34m,\u001b[0m \u001b[0mencoding\u001b[0m\u001b[0;34m=\u001b[0m\u001b[0mencoding\u001b[0m\u001b[0;34m)\u001b[0m\u001b[0;34m\u001b[0m\u001b[0;34m\u001b[0m\u001b[0m\n",
      "\u001b[0;31mAttributeError\u001b[0m: 'bytes' object has no attribute 'seek'"
     ]
    }
   ],
   "source": [
    "pd.read_pickle(blob_str, compression=None)"
   ]
  },
  {
   "cell_type": "code",
   "execution_count": 41,
   "metadata": {},
   "outputs": [
    {
     "data": {
      "text/plain": [
       "0"
      ]
     },
     "execution_count": 41,
     "metadata": {},
     "output_type": "execute_result"
    }
   ],
   "source": [
    "l = gcs.list_blobs(prefix='201907')\n",
    "len(l)"
   ]
  }
 ],
 "metadata": {
  "alphastudio": {
   "as_jupyter_image_name": "gcr.io/ts-quantsource/as-jupyter-v6",
   "as_jupyter_image_tag": "d5a24e10cdf2"
  },
  "kernelspec": {
   "display_name": "Python 3",
   "language": "python",
   "name": "python3"
  },
  "language_info": {
   "codemirror_mode": {
    "name": "ipython",
    "version": 3
   },
   "file_extension": ".py",
   "mimetype": "text/x-python",
   "name": "python",
   "nbconvert_exporter": "python",
   "pygments_lexer": "ipython3",
   "version": "3.6.9"
  }
 },
 "nbformat": 4,
 "nbformat_minor": 2
}
