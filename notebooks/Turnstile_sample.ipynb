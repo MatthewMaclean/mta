{
 "cells": [
  {
   "cell_type": "code",
   "execution_count": 28,
   "metadata": {},
   "outputs": [],
   "source": [
    "%load_ext autoreload\n",
    "%autoreload 2"
   ]
  },
  {
   "cell_type": "code",
   "execution_count": 33,
   "metadata": {},
   "outputs": [
    {
     "name": "stderr",
     "output_type": "stream",
     "text": [
      "[autoreload of turnstile.turnstile failed: Traceback (most recent call last):\n",
      "  File \"/opt/conda/envs/py3/lib/python3.6/site-packages/IPython/extensions/autoreload.py\", line 245, in check\n",
      "    superreload(m, reload, self.old_objects)\n",
      "  File \"/opt/conda/envs/py3/lib/python3.6/site-packages/IPython/extensions/autoreload.py\", line 394, in superreload\n",
      "    module = reload(module)\n",
      "  File \"/opt/conda/envs/py3/lib/python3.6/imp.py\", line 315, in reload\n",
      "    return importlib.reload(module)\n",
      "  File \"/opt/conda/envs/py3/lib/python3.6/importlib/__init__.py\", line 166, in reload\n",
      "    _bootstrap._exec(spec, module)\n",
      "  File \"<frozen importlib._bootstrap>\", line 618, in _exec\n",
      "  File \"<frozen importlib._bootstrap_external>\", line 674, in exec_module\n",
      "  File \"<frozen importlib._bootstrap_external>\", line 781, in get_code\n",
      "  File \"<frozen importlib._bootstrap_external>\", line 741, in source_to_code\n",
      "  File \"<frozen importlib._bootstrap>\", line 219, in _call_with_frames_removed\n",
      "  File \"../src/turnstile/turnstile.py\", line 220\n",
      "    d.to_csv(output.strip('/')+'/'+key),index=False)\n",
      "                                                   ^\n",
      "SyntaxError: invalid syntax\n",
      "]\n"
     ]
    }
   ],
   "source": [
    "import pandas as pd\n",
    "import numpy as np\n",
    "import sys, logging\n",
    "from datetime import datetime\n",
    "import os\n",
    "\n",
    "root = logging.getLogger()\n",
    "root.setLevel(logging.INFO)\n",
    "\n",
    "handler = logging.StreamHandler(sys.stdout)\n",
    "handler.setLevel(logging.DEBUG)\n",
    "formatter = logging.Formatter('%(asctime)s - %(name)s - %(levelname)s - %(message)s')\n",
    "handler.setFormatter(formatter)\n",
    "root.addHandler(handler)\n",
    "\n",
    "sys.path.append(\"../src/\")\n",
    "from turnstile import turnstile"
   ]
  },
  {
   "cell_type": "markdown",
   "metadata": {},
   "source": [
    "## Get hourly turnstile data"
   ]
  },
  {
   "cell_type": "code",
   "execution_count": 2,
   "metadata": {},
   "outputs": [],
   "source": [
    "start = datetime(2020, 1, 1)\n",
    "end = datetime(2020, 3, 7)"
   ]
  },
  {
   "cell_type": "code",
   "execution_count": 4,
   "metadata": {},
   "outputs": [
    {
     "name": "stdout",
     "output_type": "stream",
     "text": [
      "2020-03-30 14:56:25,278 - root - INFO - Downloading turnstile data\n",
      "2020-03-30 14:56:35,260 - root - INFO - Cleaning turnstile data\n",
      "2020-03-30 14:56:35,269 - numexpr.utils - INFO - NumExpr defaulting to 4 threads.\n",
      "2020-03-30 15:02:20,973 - root - INFO - Start creating hourly turnstile data\n",
      "2020-03-30 15:04:15,434 - root - INFO - Finish interpolating\n",
      "2020-03-30 15:04:20,063 - root - INFO - Finish concatenating the result\n"
     ]
    }
   ],
   "source": [
    "turnstile_data = turnstile.get_hourly_turnstile_data(start_date=start, end_date=end)"
   ]
  },
  {
   "cell_type": "code",
   "execution_count": 7,
   "metadata": {},
   "outputs": [],
   "source": [
    "turnstile_data.to_pickle('../data/processed/turnstile/hourly_turnstile_{}_{}.pkl.gz'.format(start.strftime(\"%Y%m%d\"),end.strftime(\"%Y%m%d\")), compression='gzip')"
   ]
  },
  {
   "cell_type": "markdown",
   "metadata": {},
   "source": [
    "## Aggregate turnstile data by station"
   ]
  },
  {
   "cell_type": "code",
   "execution_count": 10,
   "metadata": {},
   "outputs": [],
   "source": [
    "hourly_turnstile_data = pd.read_pickle('../data/processed/turnstile/hourly_turnstile_{}_{}.pkl.gz'.format(start.strftime(\"%Y%m%d\"),end.strftime(\"%Y%m%d\")))"
   ]
  },
  {
   "cell_type": "code",
   "execution_count": 30,
   "metadata": {},
   "outputs": [],
   "source": [
    "from turnstile import turnstile"
   ]
  },
  {
   "cell_type": "code",
   "execution_count": 31,
   "metadata": {},
   "outputs": [
    {
     "ename": "TypeError",
     "evalue": "split_turnstile_data_by_station() got an unexpected keyword argument 'output'",
     "output_type": "error",
     "traceback": [
      "\u001b[0;31m---------------------------------------------------------------------------\u001b[0m",
      "\u001b[0;31mTypeError\u001b[0m                                 Traceback (most recent call last)",
      "\u001b[0;32m<ipython-input-31-f404a5d774e0>\u001b[0m in \u001b[0;36m<module>\u001b[0;34m\u001b[0m\n\u001b[0;32m----> 1\u001b[0;31m \u001b[0mturnstile_by_station\u001b[0m \u001b[0;34m=\u001b[0m \u001b[0mturnstile\u001b[0m\u001b[0;34m.\u001b[0m\u001b[0msplit_turnstile_data_by_station\u001b[0m\u001b[0;34m(\u001b[0m\u001b[0mhourly_turnstile_data\u001b[0m\u001b[0;34m,\u001b[0m \u001b[0;34m'../data/crosswalk/ee_turnstile.csv'\u001b[0m\u001b[0;34m,\u001b[0m\u001b[0moutput\u001b[0m\u001b[0;34m=\u001b[0m\u001b[0;34m'../data/processed/turnstile/turnstile_by_station/'\u001b[0m\u001b[0;34m)\u001b[0m\u001b[0;34m\u001b[0m\u001b[0;34m\u001b[0m\u001b[0m\n\u001b[0m",
      "\u001b[0;31mTypeError\u001b[0m: split_turnstile_data_by_station() got an unexpected keyword argument 'output'"
     ]
    }
   ],
   "source": [
    "turnstile_by_station = turnstile.split_turnstile_data_by_station(hourly_turnstile_data, '../data/crosswalk/ee_turnstile.csv',output='../data/processed/turnstile/turnstile_by_station/')"
   ]
  },
  {
   "cell_type": "code",
   "execution_count": 22,
   "metadata": {},
   "outputs": [],
   "source": [
    "for key in turnstile_by_station:\n",
    "    d = turnstile_by_station[key]\n",
    "    outdir = '../data/processed/turnstile/turnstile_by_station'\n",
    "    if not os.path.exists(outdir):\n",
    "        os.mkdir(outdir)\n",
    "    d.to_csv('../data/processed/turnstile/turnstile_by_station/{}'.format(key),index=False)"
   ]
  },
  {
   "cell_type": "code",
   "execution_count": null,
   "metadata": {},
   "outputs": [],
   "source": []
  }
 ],
 "metadata": {
  "alphastudio": {
   "as_jupyter_image_name": "gcr.io/ts-quantsource/as-jupyter-v6",
   "as_jupyter_image_tag": "d5a24e10cdf2"
  },
  "kernelspec": {
   "display_name": "Python 3",
   "language": "python",
   "name": "python3"
  },
  "language_info": {
   "codemirror_mode": {
    "name": "ipython",
    "version": 3
   },
   "file_extension": ".py",
   "mimetype": "text/x-python",
   "name": "python",
   "nbconvert_exporter": "python",
   "pygments_lexer": "ipython3",
   "version": "3.6.9"
  }
 },
 "nbformat": 4,
 "nbformat_minor": 2
}
