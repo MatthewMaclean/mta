{
 "cells": [
  {
   "cell_type": "code",
   "execution_count": 35,
   "metadata": {},
   "outputs": [],
   "source": [
    "import pandas as pd\n",
    "import numpy as np\n",
    "import os\n",
    "import sys\n",
    "sys.path.append('/content/jupyter/mta-accessibility')\n",
    "# from src.data import process_turnstile\n",
    "from ast import literal_eval\n",
    "import seaborn as sns\n",
    "import matplotlib.pyplot as plt\n",
    "import re \n",
    "import math \n",
    "%matplotlib inline\n",
    "%config Completer.use_jedi = False"
   ]
  },
  {
   "cell_type": "code",
   "execution_count": 159,
   "metadata": {},
   "outputs": [],
   "source": [
    "df = pd.read_pickle('../../data/processed/all_turnstiles_with_outage.pkl.gz')"
   ]
  },
  {
   "cell_type": "code",
   "execution_count": 160,
   "metadata": {},
   "outputs": [],
   "source": [
    "df = df[df.datetime.notnull()]"
   ]
  },
  {
   "cell_type": "code",
   "execution_count": 161,
   "metadata": {},
   "outputs": [],
   "source": [
    "def is_private(x):\n",
    "    if pd.isna(x):\n",
    "        return np.NaN\n",
    "    else:\n",
    "        if x.rfind('X') > 0:\n",
    "            return 'Private'\n",
    "        else:\n",
    "            return 'MTA'"
   ]
  },
  {
   "cell_type": "code",
   "execution_count": 162,
   "metadata": {},
   "outputs": [
    {
     "data": {
      "text/html": [
       "<div>\n",
       "<style scoped>\n",
       "    .dataframe tbody tr th:only-of-type {\n",
       "        vertical-align: middle;\n",
       "    }\n",
       "\n",
       "    .dataframe tbody tr th {\n",
       "        vertical-align: top;\n",
       "    }\n",
       "\n",
       "    .dataframe thead th {\n",
       "        text-align: right;\n",
       "    }\n",
       "</style>\n",
       "<table border=\"1\" class=\"dataframe\">\n",
       "  <thead>\n",
       "    <tr style=\"text-align: right;\">\n",
       "      <th></th>\n",
       "      <th>STATION</th>\n",
       "      <th>UNIT</th>\n",
       "      <th>equipment_id</th>\n",
       "      <th>station_name</th>\n",
       "      <th>Percentage</th>\n",
       "      <th>entry_diff_abs</th>\n",
       "      <th>exit_diff_abs</th>\n",
       "      <th>Planned Outage</th>\n",
       "      <th>subway_lines</th>\n",
       "      <th>flow</th>\n",
       "      <th>maintained</th>\n",
       "    </tr>\n",
       "    <tr>\n",
       "      <th>datetime</th>\n",
       "      <th></th>\n",
       "      <th></th>\n",
       "      <th></th>\n",
       "      <th></th>\n",
       "      <th></th>\n",
       "      <th></th>\n",
       "      <th></th>\n",
       "      <th></th>\n",
       "      <th></th>\n",
       "      <th></th>\n",
       "      <th></th>\n",
       "    </tr>\n",
       "  </thead>\n",
       "  <tbody>\n",
       "    <tr>\n",
       "      <th>2019-01-01 00:00:00</th>\n",
       "      <td>103 ST</td>\n",
       "      <td>R191</td>\n",
       "      <td>NaN</td>\n",
       "      <td>NaN</td>\n",
       "      <td>0.0</td>\n",
       "      <td>1892.00</td>\n",
       "      <td>840.0</td>\n",
       "      <td>NaN</td>\n",
       "      <td>NaN</td>\n",
       "      <td>2732.00</td>\n",
       "      <td>NaN</td>\n",
       "    </tr>\n",
       "    <tr>\n",
       "      <th>2019-01-01 00:00:00</th>\n",
       "      <td>103 ST</td>\n",
       "      <td>R191</td>\n",
       "      <td>NaN</td>\n",
       "      <td>NaN</td>\n",
       "      <td>0.0</td>\n",
       "      <td>1892.00</td>\n",
       "      <td>840.0</td>\n",
       "      <td>NaN</td>\n",
       "      <td>NaN</td>\n",
       "      <td>2732.00</td>\n",
       "      <td>NaN</td>\n",
       "    </tr>\n",
       "    <tr>\n",
       "      <th>2019-01-01 01:00:00</th>\n",
       "      <td>103 ST</td>\n",
       "      <td>R191</td>\n",
       "      <td>NaN</td>\n",
       "      <td>NaN</td>\n",
       "      <td>0.0</td>\n",
       "      <td>1558.75</td>\n",
       "      <td>790.0</td>\n",
       "      <td>NaN</td>\n",
       "      <td>NaN</td>\n",
       "      <td>2348.75</td>\n",
       "      <td>NaN</td>\n",
       "    </tr>\n",
       "    <tr>\n",
       "      <th>2019-01-01 02:00:00</th>\n",
       "      <td>103 ST</td>\n",
       "      <td>R191</td>\n",
       "      <td>NaN</td>\n",
       "      <td>NaN</td>\n",
       "      <td>0.0</td>\n",
       "      <td>1225.50</td>\n",
       "      <td>740.0</td>\n",
       "      <td>NaN</td>\n",
       "      <td>NaN</td>\n",
       "      <td>1965.50</td>\n",
       "      <td>NaN</td>\n",
       "    </tr>\n",
       "    <tr>\n",
       "      <th>2019-01-01 03:00:00</th>\n",
       "      <td>103 ST</td>\n",
       "      <td>R191</td>\n",
       "      <td>NaN</td>\n",
       "      <td>NaN</td>\n",
       "      <td>0.0</td>\n",
       "      <td>892.25</td>\n",
       "      <td>690.0</td>\n",
       "      <td>NaN</td>\n",
       "      <td>NaN</td>\n",
       "      <td>1582.25</td>\n",
       "      <td>NaN</td>\n",
       "    </tr>\n",
       "  </tbody>\n",
       "</table>\n",
       "</div>"
      ],
      "text/plain": [
       "                    STATION  UNIT equipment_id station_name  Percentage  \\\n",
       "datetime                                                                  \n",
       "2019-01-01 00:00:00  103 ST  R191          NaN          NaN         0.0   \n",
       "2019-01-01 00:00:00  103 ST  R191          NaN          NaN         0.0   \n",
       "2019-01-01 01:00:00  103 ST  R191          NaN          NaN         0.0   \n",
       "2019-01-01 02:00:00  103 ST  R191          NaN          NaN         0.0   \n",
       "2019-01-01 03:00:00  103 ST  R191          NaN          NaN         0.0   \n",
       "\n",
       "                     entry_diff_abs  exit_diff_abs Planned Outage  \\\n",
       "datetime                                                            \n",
       "2019-01-01 00:00:00         1892.00          840.0            NaN   \n",
       "2019-01-01 00:00:00         1892.00          840.0            NaN   \n",
       "2019-01-01 01:00:00         1558.75          790.0            NaN   \n",
       "2019-01-01 02:00:00         1225.50          740.0            NaN   \n",
       "2019-01-01 03:00:00          892.25          690.0            NaN   \n",
       "\n",
       "                    subway_lines     flow maintained  \n",
       "datetime                                              \n",
       "2019-01-01 00:00:00          NaN  2732.00        NaN  \n",
       "2019-01-01 00:00:00          NaN  2732.00        NaN  \n",
       "2019-01-01 01:00:00          NaN  2348.75        NaN  \n",
       "2019-01-01 02:00:00          NaN  1965.50        NaN  \n",
       "2019-01-01 03:00:00          NaN  1582.25        NaN  "
      ]
     },
     "execution_count": 162,
     "metadata": {},
     "output_type": "execute_result"
    }
   ],
   "source": [
    "df.set_index('datetime',inplace=True)\n",
    "df['flow'] = df['entry_diff_abs'] + df['exit_diff_abs']\n",
    "df['maintained'] = [is_private(x) for x in df.equipment_id.values]\n",
    "df.head()"
   ]
  },
  {
   "cell_type": "code",
   "execution_count": 163,
   "metadata": {},
   "outputs": [
    {
     "data": {
      "text/plain": [
       "380"
      ]
     },
     "execution_count": 163,
     "metadata": {},
     "output_type": "execute_result"
    }
   ],
   "source": [
    "len(df.STATION.unique())"
   ]
  },
  {
   "cell_type": "markdown",
   "metadata": {},
   "source": [
    "Althought there are 472 stations, turnstile data only has 380 listed"
   ]
  },
  {
   "cell_type": "markdown",
   "metadata": {},
   "source": [
    "## Analysis plan\n",
    "\n",
    "- Downtime measure\n",
    "    - Identify worst equipments & stations\n",
    "    - Compare privately maintained vs. MTA maintained\n",
    "    - Daily/monthly aggregations including/excluding Planned outages\n",
    "- Commuter impact\n",
    "    - Scale downtime by % all commuters traveling through that station during outage times\n",
    "    - Identify worst equipments & stations. Compare against downtime measure \n",
    "    - Are privately maintained equipments still worst offenders?\n",
    "    - Daily/monthly aggregations\n",
    "- Integrate Elevator network\n",
    "    - Try to replicate MTA Accessibility Dashboard metric (which represents connections from street to platform)\n",
    "    - Assign weights to elevators depending on intra-subway paths that the elevator disconnects"
   ]
  },
  {
   "cell_type": "markdown",
   "metadata": {},
   "source": [
    "### Downtime measure\n",
    "Ratio of time equipment is out to the total time expected to be operating"
   ]
  },
  {
   "cell_type": "code",
   "execution_count": 173,
   "metadata": {},
   "outputs": [],
   "source": [
    "## looking at only elevators\n",
    "df_elevators = df[(df.equipment_id.notnull()) & (df.equipment_id.str.contains('EL'))]\n",
    "df_escalators = df[(df.equipment_id.notnull()) & (df.equipment_id.str.contains('ES'))]"
   ]
  },
  {
   "cell_type": "markdown",
   "metadata": {},
   "source": [
    "#### Worst equipments/stations"
   ]
  },
  {
   "cell_type": "code",
   "execution_count": 165,
   "metadata": {},
   "outputs": [],
   "source": [
    "daily_downtime_by_el = df_elevators.groupby([df_elevators.index.floor('d'),'equipment_id','maintained']).sum()['Percentage'].div(df_elevators.groupby([df_elevators.index.floor('d'),'equipment_id','maintained']).count()['Percentage']).reset_index()\n",
    "daily_downtime_by_st = df_elevators.groupby([df_elevators.index.floor('d'),'STATION']).sum()['Percentage'].div(df_elevators.groupby([df_elevators.index.floor('d'),'STATION']).count()['Percentage']).reset_index()"
   ]
  },
  {
   "cell_type": "code",
   "execution_count": 166,
   "metadata": {},
   "outputs": [
    {
     "data": {
      "text/plain": [
       "<matplotlib.axes._subplots.AxesSubplot at 0x7f3e980ff3c8>"
      ]
     },
     "execution_count": 166,
     "metadata": {},
     "output_type": "execute_result"
    },
    {
     "data": {
      "image/png": "[encoded data removed]",
      "text/plain": [
       "<Figure size 432x288 with 1 Axes>"
      ]
     },
     "metadata": {
      "needs_background": "light"
     },
     "output_type": "display_data"
    }
   ],
   "source": [
    "daily_downtime_by_el.groupby('equipment_id').mean().sort_values('Percentage',ascending=False).head(10).plot.barh()"
   ]
  },
  {
   "cell_type": "code",
   "execution_count": 167,
   "metadata": {},
   "outputs": [
    {
     "data": {
      "text/plain": [
       "<matplotlib.axes._subplots.AxesSubplot at 0x7f3d62cee2e8>"
      ]
     },
     "execution_count": 167,
     "metadata": {},
     "output_type": "execute_result"
    },
    {
     "data": {
      "image/png": "[encoded data removed]",
      "text/plain": [
       "<Figure size 432x288 with 1 Axes>"
      ]
     },
     "metadata": {
      "needs_background": "light"
     },
     "output_type": "display_data"
    }
   ],
   "source": [
    "daily_downtime_by_st.groupby('STATION').mean().sort_values('Percentage',ascending=False).head(10).plot.barh()"
   ]
  },
  {
   "cell_type": "markdown",
   "metadata": {},
   "source": [
    "#### System-wide measure"
   ]
  },
  {
   "cell_type": "code",
   "execution_count": 168,
   "metadata": {},
   "outputs": [
    {
     "data": {
      "text/plain": [
       "<matplotlib.axes._subplots.AxesSubplot at 0x7f3ddede0320>"
      ]
     },
     "execution_count": 168,
     "metadata": {},
     "output_type": "execute_result"
    },
    {
     "data": {
      "image/png": "[encoded data removed]",
      "text/plain": [
       "<Figure size 432x288 with 1 Axes>"
      ]
     },
     "metadata": {
      "needs_background": "light"
     },
     "output_type": "display_data"
    }
   ],
   "source": [
    "daily_downtime_by_el.groupby('datetime').mean().Percentage.plot()"
   ]
  },
  {
   "cell_type": "code",
   "execution_count": 169,
   "metadata": {},
   "outputs": [
    {
     "data": {
      "text/plain": [
       "Text(0.5, 0, 'Month')"
      ]
     },
     "execution_count": 169,
     "metadata": {},
     "output_type": "execute_result"
    },
    {
     "data": {
      "image/png": "[encoded data removed]",
      "text/plain": [
       "<Figure size 432x288 with 1 Axes>"
      ]
     },
     "metadata": {
      "needs_background": "light"
     },
     "output_type": "display_data"
    }
   ],
   "source": [
    "ax = daily_downtime_by_el.groupby(pd.DatetimeIndex(daily_downtime_by_el.datetime).month).mean().Percentage.plot(xticks=range(1,13))\n",
    "ax.set_xlabel('Month')"
   ]
  },
  {
   "cell_type": "markdown",
   "metadata": {},
   "source": [
    "#### MTA maintained vs. privately maintained"
   ]
  },
  {
   "cell_type": "code",
   "execution_count": 170,
   "metadata": {},
   "outputs": [],
   "source": [
    "el_downtime_by_private = daily_downtime_by_el.groupby([pd.DatetimeIndex(daily_downtime_by_el.datetime).month,'maintained']).mean().reset_index()"
   ]
  },
  {
   "cell_type": "code",
   "execution_count": 172,
   "metadata": {},
   "outputs": [
    {
     "data": {
      "text/plain": [
       "[<matplotlib.axis.XTick at 0x7f3d60463358>,\n",
       " <matplotlib.axis.XTick at 0x7f3d60475278>,\n",
       " <matplotlib.axis.XTick at 0x7f3d61852d68>,\n",
       " <matplotlib.axis.XTick at 0x7f3d61847588>,\n",
       " <matplotlib.axis.XTick at 0x7f3d61845470>,\n",
       " <matplotlib.axis.XTick at 0x7f3d61845940>,\n",
       " <matplotlib.axis.XTick at 0x7f3d61845e10>,\n",
       " <matplotlib.axis.XTick at 0x7f3d61845a20>,\n",
       " <matplotlib.axis.XTick at 0x7f3d604752e8>,\n",
       " <matplotlib.axis.XTick at 0x7f3d61852da0>,\n",
       " <matplotlib.axis.XTick at 0x7f3d61824e10>,\n",
       " <matplotlib.axis.XTick at 0x7f3d6181c320>]"
      ]
     },
     "execution_count": 172,
     "metadata": {},
     "output_type": "execute_result"
    },
    {
     "data": {
      "image/png": "[encoded data removed]",
      "text/plain": [
       "<Figure size 432x288 with 1 Axes>"
      ]
     },
     "metadata": {
      "needs_background": "light"
     },
     "output_type": "display_data"
    }
   ],
   "source": [
    "ax = sns.lineplot(x='datetime',y='Percentage',hue='maintained',data=el_downtime_by_private)\n",
    "ax.set_xlabel('Month')\n",
    "ax.set_xticks(range(1,13))"
   ]
  },
  {
   "cell_type": "markdown",
   "metadata": {},
   "source": [
    "#### Excluding planned outages\n",
    "Planned outages could include Maintenance and Capital replacement. Ideally, we should only exclude capital replacement and probably study the number of commuters impacted during planned maintenance. Until we disaggregate those, excluding all planned outages just for comparison"
   ]
  },
  {
   "cell_type": "code",
   "execution_count": 185,
   "metadata": {},
   "outputs": [
    {
     "data": {
      "text/plain": [
       "Text(0.5, 0, 'Month')"
      ]
     },
     "execution_count": 185,
     "metadata": {},
     "output_type": "execute_result"
    },
    {
     "data": {
      "image/png": "[encoded data removed]",
      "text/plain": [
       "<Figure size 432x288 with 1 Axes>"
      ]
     },
     "metadata": {
      "needs_background": "light"
     },
     "output_type": "display_data"
    }
   ],
   "source": [
    "df_el_unplanned = df_elevators[df_elevators['Planned Outage'] != True]\n",
    "daily_downtime_by_el_up = df_el_unplanned.groupby([df_el_unplanned.index.floor('d'),'equipment_id','maintained']).sum()['Percentage'].div(df_el_unplanned.groupby([df_el_unplanned.index.floor('d'),'equipment_id','maintained']).count()['Percentage']).reset_index()\n",
    "ax = daily_downtime_by_el_up.groupby(pd.DatetimeIndex(daily_downtime_by_el_up.datetime).month).mean().Percentage.plot(xticks=range(1,13))\n",
    "ax.set_xlabel('Month')"
   ]
  },
  {
   "cell_type": "markdown",
   "metadata": {},
   "source": [
    "### Escalators"
   ]
  },
  {
   "cell_type": "code",
   "execution_count": 174,
   "metadata": {},
   "outputs": [],
   "source": [
    "daily_downtime_by_es = df_escalators.groupby([df_escalators.index.floor('d'),'equipment_id','maintained']).sum()['Percentage'].div(df_escalators.groupby([df_escalators.index.floor('d'),'equipment_id','maintained']).count()['Percentage']).reset_index()\n",
    "es_downtime_by_private = daily_downtime_by_es.groupby([pd.DatetimeIndex(daily_downtime_by_es.datetime).month,'maintained']).mean().reset_index()"
   ]
  },
  {
   "cell_type": "code",
   "execution_count": 175,
   "metadata": {},
   "outputs": [
    {
     "data": {
      "text/plain": [
       "[<matplotlib.axis.XTick at 0x7f3d62375f60>,\n",
       " <matplotlib.axis.XTick at 0x7f3d62375898>,\n",
       " <matplotlib.axis.XTick at 0x7f3d62391048>,\n",
       " <matplotlib.axis.XTick at 0x7f3d62d14320>,\n",
       " <matplotlib.axis.XTick at 0x7f3d62d072b0>,\n",
       " <matplotlib.axis.XTick at 0x7f3d62d07780>,\n",
       " <matplotlib.axis.XTick at 0x7f3d62d07c50>,\n",
       " <matplotlib.axis.XTick at 0x7f3d62d01198>,\n",
       " <matplotlib.axis.XTick at 0x7f3d623755c0>,\n",
       " <matplotlib.axis.XTick at 0x7f3d62d1ab70>,\n",
       " <matplotlib.axis.XTick at 0x7f3d62ce61d0>,\n",
       " <matplotlib.axis.XTick at 0x7f3d62cf09e8>]"
      ]
     },
     "execution_count": 175,
     "metadata": {},
     "output_type": "execute_result"
    },
    {
     "data": {
      "image/png": "[encoded data removed]",
      "text/plain": [
       "<Figure size 432x288 with 1 Axes>"
      ]
     },
     "metadata": {
      "needs_background": "light"
     },
     "output_type": "display_data"
    }
   ],
   "source": [
    "ax = sns.lineplot(x='datetime',y='Percentage',hue='maintained',data=es_downtime_by_private)\n",
    "ax.set_xlabel('Month')\n",
    "ax.set_xticks(range(1,13))"
   ]
  },
  {
   "cell_type": "markdown",
   "metadata": {},
   "source": [
    "### Commuter impact"
   ]
  },
  {
   "cell_type": "markdown",
   "metadata": {},
   "source": [
    "#### Commuter hours downtime  \n",
    "Number of commuters at each hour of outage at each station / total number of commuters at that station"
   ]
  },
  {
   "cell_type": "code",
   "execution_count": 107,
   "metadata": {},
   "outputs": [
    {
     "name": "stderr",
     "output_type": "stream",
     "text": [
      "/opt/conda/envs/py3/lib/python3.6/site-packages/ipykernel_launcher.py:1: SettingWithCopyWarning: \n",
      "A value is trying to be set on a copy of a slice from a DataFrame.\n",
      "Try using .loc[row_indexer,col_indexer] = value instead\n",
      "\n",
      "See the caveats in the documentation: http://pandas.pydata.org/pandas-docs/stable/indexing.html#indexing-view-versus-copy\n",
      "  \"\"\"Entry point for launching an IPython kernel.\n"
     ]
    }
   ],
   "source": [
    "df_elevators['flow_pct'] = df_elevators['flow']*df_elevators['Percentage']\n",
    "daily_ch_dt_by_el = df_elevators.groupby([df_elevators.index.floor('d'),'equipment_id']).sum()['flow_pct'].div(df_elevators.groupby([df_elevators.index.floor('d'),'equipment_id']).sum()['flow']).reset_index()"
   ]
  },
  {
   "cell_type": "code",
   "execution_count": 108,
   "metadata": {},
   "outputs": [
    {
     "data": {
      "text/html": [
       "<div>\n",
       "<style scoped>\n",
       "    .dataframe tbody tr th:only-of-type {\n",
       "        vertical-align: middle;\n",
       "    }\n",
       "\n",
       "    .dataframe tbody tr th {\n",
       "        vertical-align: top;\n",
       "    }\n",
       "\n",
       "    .dataframe thead th {\n",
       "        text-align: right;\n",
       "    }\n",
       "</style>\n",
       "<table border=\"1\" class=\"dataframe\">\n",
       "  <thead>\n",
       "    <tr style=\"text-align: right;\">\n",
       "      <th></th>\n",
       "      <th>commuter_hrs_dt</th>\n",
       "    </tr>\n",
       "    <tr>\n",
       "      <th>equipment_id</th>\n",
       "      <th></th>\n",
       "    </tr>\n",
       "  </thead>\n",
       "  <tbody>\n",
       "    <tr>\n",
       "      <th>EL288X</th>\n",
       "      <td>0.244290</td>\n",
       "    </tr>\n",
       "    <tr>\n",
       "      <th>EL700X</th>\n",
       "      <td>0.240558</td>\n",
       "    </tr>\n",
       "    <tr>\n",
       "      <th>EL290X</th>\n",
       "      <td>0.184827</td>\n",
       "    </tr>\n",
       "    <tr>\n",
       "      <th>EL312</th>\n",
       "      <td>0.162002</td>\n",
       "    </tr>\n",
       "    <tr>\n",
       "      <th>EL701</th>\n",
       "      <td>0.135528</td>\n",
       "    </tr>\n",
       "    <tr>\n",
       "      <th>EL23X</th>\n",
       "      <td>0.135081</td>\n",
       "    </tr>\n",
       "    <tr>\n",
       "      <th>EL244</th>\n",
       "      <td>0.131708</td>\n",
       "    </tr>\n",
       "    <tr>\n",
       "      <th>EL204</th>\n",
       "      <td>0.130395</td>\n",
       "    </tr>\n",
       "    <tr>\n",
       "      <th>EL340</th>\n",
       "      <td>0.125852</td>\n",
       "    </tr>\n",
       "    <tr>\n",
       "      <th>EL279X</th>\n",
       "      <td>0.116908</td>\n",
       "    </tr>\n",
       "  </tbody>\n",
       "</table>\n",
       "</div>"
      ],
      "text/plain": [
       "              commuter_hrs_dt\n",
       "equipment_id                 \n",
       "EL288X               0.244290\n",
       "EL700X               0.240558\n",
       "EL290X               0.184827\n",
       "EL312                0.162002\n",
       "EL701                0.135528\n",
       "EL23X                0.135081\n",
       "EL244                0.131708\n",
       "EL204                0.130395\n",
       "EL340                0.125852\n",
       "EL279X               0.116908"
      ]
     },
     "execution_count": 108,
     "metadata": {},
     "output_type": "execute_result"
    }
   ],
   "source": [
    "daily_ch_dt_by_el.rename(columns={0:'commuter_hrs_dt'},inplace=True)\n",
    "daily_ch_dt_by_el.groupby('equipment_id').mean().sort_values('commuter_hrs_dt',ascending=False).head(10)"
   ]
  },
  {
   "cell_type": "markdown",
   "metadata": {},
   "source": [
    "#### % of commuters impacted\n",
    "Each outage weighted by % of commuters across the entire subway system traveling through the station with the outage"
   ]
  },
  {
   "cell_type": "code",
   "execution_count": 109,
   "metadata": {},
   "outputs": [
    {
     "data": {
      "text/plain": [
       "datetime\n",
       "2019-01-01 00:00:00     913972.00\n",
       "2019-01-01 01:00:00     590865.25\n",
       "2019-01-01 02:00:00     515261.75\n",
       "2019-01-01 03:00:00    1718839.75\n",
       "2019-01-01 04:00:00    1136561.00\n",
       "Name: flow, dtype: float64"
      ]
     },
     "execution_count": 109,
     "metadata": {},
     "output_type": "execute_result"
    }
   ],
   "source": [
    "total_hourly_commuters = df_elevators.groupby('datetime').sum()['flow']\n",
    "total_hourly_commuters.head()"
   ]
  },
  {
   "cell_type": "code",
   "execution_count": 110,
   "metadata": {},
   "outputs": [],
   "source": [
    "df_elevators = df_elevators.merge(total_hourly_commuters,on='datetime')\n",
    "df_elevators.rename(columns={'flow_y':'total_flow','flow_x':'flow'},inplace=True)"
   ]
  },
  {
   "cell_type": "code",
   "execution_count": 111,
   "metadata": {},
   "outputs": [],
   "source": [
    "df_elevators['total_flow_pct'] = df_elevators['flow']/df_elevators['total_flow']\n",
    "df_elevators['pct_commuters_affected'] = df_elevators['total_flow_pct']*df_elevators['Percentage']"
   ]
  },
  {
   "cell_type": "code",
   "execution_count": 112,
   "metadata": {},
   "outputs": [
    {
     "data": {
      "text/html": [
       "<div>\n",
       "<style scoped>\n",
       "    .dataframe tbody tr th:only-of-type {\n",
       "        vertical-align: middle;\n",
       "    }\n",
       "\n",
       "    .dataframe tbody tr th {\n",
       "        vertical-align: top;\n",
       "    }\n",
       "\n",
       "    .dataframe thead th {\n",
       "        text-align: right;\n",
       "    }\n",
       "</style>\n",
       "<table border=\"1\" class=\"dataframe\">\n",
       "  <thead>\n",
       "    <tr style=\"text-align: right;\">\n",
       "      <th></th>\n",
       "      <th>datetime</th>\n",
       "      <th>equipment_id</th>\n",
       "      <th>pct_commuters_affected</th>\n",
       "    </tr>\n",
       "  </thead>\n",
       "  <tbody>\n",
       "    <tr>\n",
       "      <th>0</th>\n",
       "      <td>2019-01-01</td>\n",
       "      <td>EL103</td>\n",
       "      <td>0.000000</td>\n",
       "    </tr>\n",
       "    <tr>\n",
       "      <th>1</th>\n",
       "      <td>2019-01-01</td>\n",
       "      <td>EL104</td>\n",
       "      <td>0.000000</td>\n",
       "    </tr>\n",
       "    <tr>\n",
       "      <th>2</th>\n",
       "      <td>2019-01-01</td>\n",
       "      <td>EL105</td>\n",
       "      <td>0.011688</td>\n",
       "    </tr>\n",
       "    <tr>\n",
       "      <th>3</th>\n",
       "      <td>2019-01-01</td>\n",
       "      <td>EL106</td>\n",
       "      <td>0.000000</td>\n",
       "    </tr>\n",
       "    <tr>\n",
       "      <th>4</th>\n",
       "      <td>2019-01-01</td>\n",
       "      <td>EL107</td>\n",
       "      <td>0.000000</td>\n",
       "    </tr>\n",
       "  </tbody>\n",
       "</table>\n",
       "</div>"
      ],
      "text/plain": [
       "    datetime equipment_id  pct_commuters_affected\n",
       "0 2019-01-01        EL103                0.000000\n",
       "1 2019-01-01        EL104                0.000000\n",
       "2 2019-01-01        EL105                0.011688\n",
       "3 2019-01-01        EL106                0.000000\n",
       "4 2019-01-01        EL107                0.000000"
      ]
     },
     "execution_count": 112,
     "metadata": {},
     "output_type": "execute_result"
    }
   ],
   "source": [
    "daily_commuters_affected_by_el = df_elevators.groupby([df_elevators.index.floor('d'),'equipment_id']).sum()['pct_commuters_affected'].reset_index()"
   ]
  },
  {
   "cell_type": "code",
   "execution_count": 114,
   "metadata": {},
   "outputs": [
    {
     "data": {
      "text/html": [
       "<div>\n",
       "<style scoped>\n",
       "    .dataframe tbody tr th:only-of-type {\n",
       "        vertical-align: middle;\n",
       "    }\n",
       "\n",
       "    .dataframe tbody tr th {\n",
       "        vertical-align: top;\n",
       "    }\n",
       "\n",
       "    .dataframe thead th {\n",
       "        text-align: right;\n",
       "    }\n",
       "</style>\n",
       "<table border=\"1\" class=\"dataframe\">\n",
       "  <thead>\n",
       "    <tr style=\"text-align: right;\">\n",
       "      <th></th>\n",
       "      <th>pct_commuters_affected</th>\n",
       "    </tr>\n",
       "    <tr>\n",
       "      <th>equipment_id</th>\n",
       "      <th></th>\n",
       "    </tr>\n",
       "  </thead>\n",
       "  <tbody>\n",
       "    <tr>\n",
       "      <th>EL288X</th>\n",
       "      <td>0.061266</td>\n",
       "    </tr>\n",
       "    <tr>\n",
       "      <th>EL290X</th>\n",
       "      <td>0.045479</td>\n",
       "    </tr>\n",
       "    <tr>\n",
       "      <th>EL204</th>\n",
       "      <td>0.038987</td>\n",
       "    </tr>\n",
       "    <tr>\n",
       "      <th>EL244</th>\n",
       "      <td>0.037830</td>\n",
       "    </tr>\n",
       "    <tr>\n",
       "      <th>EL700X</th>\n",
       "      <td>0.023499</td>\n",
       "    </tr>\n",
       "    <tr>\n",
       "      <th>EL209</th>\n",
       "      <td>0.020863</td>\n",
       "    </tr>\n",
       "    <tr>\n",
       "      <th>EL206</th>\n",
       "      <td>0.018853</td>\n",
       "    </tr>\n",
       "    <tr>\n",
       "      <th>EL228</th>\n",
       "      <td>0.018256</td>\n",
       "    </tr>\n",
       "    <tr>\n",
       "      <th>EL296</th>\n",
       "      <td>0.016516</td>\n",
       "    </tr>\n",
       "    <tr>\n",
       "      <th>EL214</th>\n",
       "      <td>0.016453</td>\n",
       "    </tr>\n",
       "  </tbody>\n",
       "</table>\n",
       "</div>"
      ],
      "text/plain": [
       "              pct_commuters_affected\n",
       "equipment_id                        \n",
       "EL288X                      0.061266\n",
       "EL290X                      0.045479\n",
       "EL204                       0.038987\n",
       "EL244                       0.037830\n",
       "EL700X                      0.023499\n",
       "EL209                       0.020863\n",
       "EL206                       0.018853\n",
       "EL228                       0.018256\n",
       "EL296                       0.016516\n",
       "EL214                       0.016453"
      ]
     },
     "execution_count": 114,
     "metadata": {},
     "output_type": "execute_result"
    }
   ],
   "source": [
    "daily_commuters_affected_by_el.groupby('equipment_id').mean().sort_values('pct_commuters_affected',ascending=False).head(10)"
   ]
  },
  {
   "cell_type": "code",
   "execution_count": null,
   "metadata": {},
   "outputs": [],
   "source": []
  }
 ],
 "metadata": {
  "alphastudio": {
   "as_jupyter_image_name": "gcr.io/ts-quantsource/as-jupyter-v6",
   "as_jupyter_image_tag": "d5a24e10cdf2"
  },
  "kernelspec": {
   "display_name": "Python 3",
   "language": "python",
   "name": "python3"
  },
  "language_info": {
   "codemirror_mode": {
    "name": "ipython",
    "version": 3
   },
   "file_extension": ".py",
   "mimetype": "text/x-python",
   "name": "python",
   "nbconvert_exporter": "python",
   "pygments_lexer": "ipython3",
   "version": "3.6.9"
  }
 },
 "nbformat": 4,
 "nbformat_minor": 2
}
