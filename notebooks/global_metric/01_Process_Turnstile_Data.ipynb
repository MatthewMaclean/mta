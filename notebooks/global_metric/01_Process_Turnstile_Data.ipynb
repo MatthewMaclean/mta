{
 "cells": [
  {
   "cell_type": "code",
   "execution_count": 2,
   "metadata": {},
   "outputs": [],
   "source": [
    "import pandas as pd\n",
    "import numpy as np\n",
    "import os\n",
    "import sys\n",
    "sys.path.append('/content/jupyter/mta-accessibility')\n",
    "# from src.data import process_turnstile\n",
    "from ast import literal_eval\n",
    "import seaborn as sns\n",
    "import matplotlib.pyplot as plt\n",
    "\n",
    "%matplotlib inline"
   ]
  },
  {
   "cell_type": "code",
   "execution_count": 9,
   "metadata": {},
   "outputs": [],
   "source": [
    "ee_turnstile = pd.read_csv('../../data/interim/crosswalks/ee_turnstile.csv')"
   ]
  },
  {
   "cell_type": "code",
   "execution_count": 10,
   "metadata": {},
   "outputs": [],
   "source": [
    "ee_turnstile.remote = ee_turnstile.remote.apply(lambda x: literal_eval(str(x)))"
   ]
  },
  {
   "cell_type": "code",
   "execution_count": 11,
   "metadata": {},
   "outputs": [],
   "source": [
    "lst_col = 'remote'\n",
    "subway_turnstile = pd.DataFrame({col:np.repeat(ee_turnstile[col].values, ee_turnstile[lst_col].str.len())\n",
    "for col in ee_turnstile.columns.difference([lst_col])}).assign(**{lst_col:np.concatenate(ee_turnstile[lst_col].values)})[ee_turnstile.columns.tolist()]\n",
    "subway_turnstile.drop(columns = ['Unnamed: 0'], inplace=True)"
   ]
  },
  {
   "cell_type": "code",
   "execution_count": 12,
   "metadata": {},
   "outputs": [
    {
     "data": {
      "text/html": [
       "<div>\n",
       "<style scoped>\n",
       "    .dataframe tbody tr th:only-of-type {\n",
       "        vertical-align: middle;\n",
       "    }\n",
       "\n",
       "    .dataframe tbody tr th {\n",
       "        vertical-align: top;\n",
       "    }\n",
       "\n",
       "    .dataframe thead th {\n",
       "        text-align: right;\n",
       "    }\n",
       "</style>\n",
       "<table border=\"1\" class=\"dataframe\">\n",
       "  <thead>\n",
       "    <tr style=\"text-align: right;\">\n",
       "      <th></th>\n",
       "      <th>station_name</th>\n",
       "      <th>equipment_id</th>\n",
       "      <th>description</th>\n",
       "      <th>borough</th>\n",
       "      <th>subway_lines</th>\n",
       "      <th>equipment_type</th>\n",
       "      <th>ada_compliant</th>\n",
       "      <th>is_active</th>\n",
       "      <th>clean_lines</th>\n",
       "      <th>remote</th>\n",
       "    </tr>\n",
       "  </thead>\n",
       "  <tbody>\n",
       "    <tr>\n",
       "      <th>0</th>\n",
       "      <td>125 St</td>\n",
       "      <td>EL125</td>\n",
       "      <td>125 St &amp; Lexington Ave (NE corner) to Mezzanin...</td>\n",
       "      <td>MN</td>\n",
       "      <td>4/5/6/METRO-NORTH</td>\n",
       "      <td>EL</td>\n",
       "      <td>Y</td>\n",
       "      <td>Y</td>\n",
       "      <td>4-5-6</td>\n",
       "      <td>R132</td>\n",
       "    </tr>\n",
       "    <tr>\n",
       "      <th>1</th>\n",
       "      <td>125 St</td>\n",
       "      <td>EL142</td>\n",
       "      <td>125 St &amp; St Nicholas Ave (SW corner) to Mezzan...</td>\n",
       "      <td>MN</td>\n",
       "      <td>A/B/C/D</td>\n",
       "      <td>EL</td>\n",
       "      <td>Y</td>\n",
       "      <td>Y</td>\n",
       "      <td>A-B-C-D</td>\n",
       "      <td>R102</td>\n",
       "    </tr>\n",
       "    <tr>\n",
       "      <th>2</th>\n",
       "      <td>125 St</td>\n",
       "      <td>EL143</td>\n",
       "      <td>Mezzanine to downtown Platform</td>\n",
       "      <td>MN</td>\n",
       "      <td>A/B/C/D</td>\n",
       "      <td>EL</td>\n",
       "      <td>Y</td>\n",
       "      <td>Y</td>\n",
       "      <td>A-B-C-D</td>\n",
       "      <td>R102</td>\n",
       "    </tr>\n",
       "    <tr>\n",
       "      <th>3</th>\n",
       "      <td>125 St</td>\n",
       "      <td>EL126</td>\n",
       "      <td>Mezzanine to Platforms for service in both dir...</td>\n",
       "      <td>MN</td>\n",
       "      <td>4/5/6/METRO-NORTH</td>\n",
       "      <td>EL</td>\n",
       "      <td>Y</td>\n",
       "      <td>Y</td>\n",
       "      <td>4-5-6</td>\n",
       "      <td>R132</td>\n",
       "    </tr>\n",
       "    <tr>\n",
       "      <th>4</th>\n",
       "      <td>125 St</td>\n",
       "      <td>EL144</td>\n",
       "      <td>Mezzanine to uptown Platform</td>\n",
       "      <td>MN</td>\n",
       "      <td>A/B/C/D</td>\n",
       "      <td>EL</td>\n",
       "      <td>Y</td>\n",
       "      <td>Y</td>\n",
       "      <td>A-B-C-D</td>\n",
       "      <td>R102</td>\n",
       "    </tr>\n",
       "  </tbody>\n",
       "</table>\n",
       "</div>"
      ],
      "text/plain": [
       "  station_name equipment_id  \\\n",
       "0       125 St        EL125   \n",
       "1       125 St        EL142   \n",
       "2       125 St        EL143   \n",
       "3       125 St        EL126   \n",
       "4       125 St        EL144   \n",
       "\n",
       "                                         description borough  \\\n",
       "0  125 St & Lexington Ave (NE corner) to Mezzanin...      MN   \n",
       "1  125 St & St Nicholas Ave (SW corner) to Mezzan...      MN   \n",
       "2                     Mezzanine to downtown Platform      MN   \n",
       "3  Mezzanine to Platforms for service in both dir...      MN   \n",
       "4                       Mezzanine to uptown Platform      MN   \n",
       "\n",
       "        subway_lines equipment_type ada_compliant is_active clean_lines remote  \n",
       "0  4/5/6/METRO-NORTH             EL             Y         Y       4-5-6   R132  \n",
       "1            A/B/C/D             EL             Y         Y     A-B-C-D   R102  \n",
       "2            A/B/C/D             EL             Y         Y     A-B-C-D   R102  \n",
       "3  4/5/6/METRO-NORTH             EL             Y         Y       4-5-6   R132  \n",
       "4            A/B/C/D             EL             Y         Y     A-B-C-D   R102  "
      ]
     },
     "execution_count": 12,
     "metadata": {},
     "output_type": "execute_result"
    }
   ],
   "source": [
    "subway_turnstile.head()"
   ]
  },
  {
   "cell_type": "code",
   "execution_count": 6,
   "metadata": {},
   "outputs": [],
   "source": [
    "interpolated = pd.read_pickle('../../data/processed/interpolated_data.pkl.gz')"
   ]
  },
  {
   "cell_type": "code",
   "execution_count": 7,
   "metadata": {},
   "outputs": [
    {
     "data": {
      "text/html": [
       "<div>\n",
       "<style scoped>\n",
       "    .dataframe tbody tr th:only-of-type {\n",
       "        vertical-align: middle;\n",
       "    }\n",
       "\n",
       "    .dataframe tbody tr th {\n",
       "        vertical-align: top;\n",
       "    }\n",
       "\n",
       "    .dataframe thead th {\n",
       "        text-align: right;\n",
       "    }\n",
       "</style>\n",
       "<table border=\"1\" class=\"dataframe\">\n",
       "  <thead>\n",
       "    <tr style=\"text-align: right;\">\n",
       "      <th></th>\n",
       "      <th>LINENAME</th>\n",
       "      <th>STATION</th>\n",
       "      <th>UNIT</th>\n",
       "      <th>SCP</th>\n",
       "      <th>index</th>\n",
       "      <th>ENTRIES</th>\n",
       "      <th>EXITS</th>\n",
       "      <th>entry_diff</th>\n",
       "      <th>exit_diff</th>\n",
       "      <th>entry_diff_abs</th>\n",
       "      <th>exit_diff_abs</th>\n",
       "      <th>time_diffs</th>\n",
       "    </tr>\n",
       "    <tr>\n",
       "      <th>datetime</th>\n",
       "      <th></th>\n",
       "      <th></th>\n",
       "      <th></th>\n",
       "      <th></th>\n",
       "      <th></th>\n",
       "      <th></th>\n",
       "      <th></th>\n",
       "      <th></th>\n",
       "      <th></th>\n",
       "      <th></th>\n",
       "      <th></th>\n",
       "      <th></th>\n",
       "    </tr>\n",
       "  </thead>\n",
       "  <tbody>\n",
       "    <tr>\n",
       "      <th>2019-01-01 03:00:00</th>\n",
       "      <td>1</td>\n",
       "      <td>125 ST</td>\n",
       "      <td>R034</td>\n",
       "      <td>00-00-00</td>\n",
       "      <td>89427.0</td>\n",
       "      <td>639382699.0</td>\n",
       "      <td>3.196906e+08</td>\n",
       "      <td>79.0</td>\n",
       "      <td>107.0</td>\n",
       "      <td>79.0</td>\n",
       "      <td>107.0</td>\n",
       "      <td>4.0</td>\n",
       "    </tr>\n",
       "    <tr>\n",
       "      <th>2019-01-01 04:00:00</th>\n",
       "      <td>1</td>\n",
       "      <td>125 ST</td>\n",
       "      <td>R034</td>\n",
       "      <td>00-00-00</td>\n",
       "      <td>89427.0</td>\n",
       "      <td>639382705.0</td>\n",
       "      <td>3.196906e+08</td>\n",
       "      <td>79.0</td>\n",
       "      <td>107.0</td>\n",
       "      <td>79.0</td>\n",
       "      <td>107.0</td>\n",
       "      <td>4.0</td>\n",
       "    </tr>\n",
       "    <tr>\n",
       "      <th>2019-01-01 05:00:00</th>\n",
       "      <td>1</td>\n",
       "      <td>125 ST</td>\n",
       "      <td>R034</td>\n",
       "      <td>00-00-00</td>\n",
       "      <td>89427.0</td>\n",
       "      <td>639382711.0</td>\n",
       "      <td>3.196906e+08</td>\n",
       "      <td>79.0</td>\n",
       "      <td>107.0</td>\n",
       "      <td>79.0</td>\n",
       "      <td>107.0</td>\n",
       "      <td>4.0</td>\n",
       "    </tr>\n",
       "    <tr>\n",
       "      <th>2019-01-01 06:00:00</th>\n",
       "      <td>1</td>\n",
       "      <td>125 ST</td>\n",
       "      <td>R034</td>\n",
       "      <td>00-00-00</td>\n",
       "      <td>89427.0</td>\n",
       "      <td>639382717.0</td>\n",
       "      <td>3.196906e+08</td>\n",
       "      <td>79.0</td>\n",
       "      <td>107.0</td>\n",
       "      <td>79.0</td>\n",
       "      <td>107.0</td>\n",
       "      <td>4.0</td>\n",
       "    </tr>\n",
       "    <tr>\n",
       "      <th>2019-01-01 07:00:00</th>\n",
       "      <td>1</td>\n",
       "      <td>125 ST</td>\n",
       "      <td>R034</td>\n",
       "      <td>00-00-00</td>\n",
       "      <td>94934.0</td>\n",
       "      <td>639382723.0</td>\n",
       "      <td>3.196906e+08</td>\n",
       "      <td>24.0</td>\n",
       "      <td>35.0</td>\n",
       "      <td>24.0</td>\n",
       "      <td>35.0</td>\n",
       "      <td>4.0</td>\n",
       "    </tr>\n",
       "  </tbody>\n",
       "</table>\n",
       "</div>"
      ],
      "text/plain": [
       "                    LINENAME STATION  UNIT       SCP    index      ENTRIES  \\\n",
       "datetime                                                                     \n",
       "2019-01-01 03:00:00        1  125 ST  R034  00-00-00  89427.0  639382699.0   \n",
       "2019-01-01 04:00:00        1  125 ST  R034  00-00-00  89427.0  639382705.0   \n",
       "2019-01-01 05:00:00        1  125 ST  R034  00-00-00  89427.0  639382711.0   \n",
       "2019-01-01 06:00:00        1  125 ST  R034  00-00-00  89427.0  639382717.0   \n",
       "2019-01-01 07:00:00        1  125 ST  R034  00-00-00  94934.0  639382723.0   \n",
       "\n",
       "                            EXITS  entry_diff  exit_diff  entry_diff_abs  \\\n",
       "datetime                                                                   \n",
       "2019-01-01 03:00:00  3.196906e+08        79.0      107.0            79.0   \n",
       "2019-01-01 04:00:00  3.196906e+08        79.0      107.0            79.0   \n",
       "2019-01-01 05:00:00  3.196906e+08        79.0      107.0            79.0   \n",
       "2019-01-01 06:00:00  3.196906e+08        79.0      107.0            79.0   \n",
       "2019-01-01 07:00:00  3.196906e+08        24.0       35.0            24.0   \n",
       "\n",
       "                     exit_diff_abs  time_diffs  \n",
       "datetime                                        \n",
       "2019-01-01 03:00:00          107.0         4.0  \n",
       "2019-01-01 04:00:00          107.0         4.0  \n",
       "2019-01-01 05:00:00          107.0         4.0  \n",
       "2019-01-01 06:00:00          107.0         4.0  \n",
       "2019-01-01 07:00:00           35.0         4.0  "
      ]
     },
     "execution_count": 7,
     "metadata": {},
     "output_type": "execute_result"
    }
   ],
   "source": [
    "interpolated.head()"
   ]
  },
  {
   "cell_type": "code",
   "execution_count": 8,
   "metadata": {},
   "outputs": [
    {
     "data": {
      "text/html": [
       "<div>\n",
       "<style scoped>\n",
       "    .dataframe tbody tr th:only-of-type {\n",
       "        vertical-align: middle;\n",
       "    }\n",
       "\n",
       "    .dataframe tbody tr th {\n",
       "        vertical-align: top;\n",
       "    }\n",
       "\n",
       "    .dataframe thead th {\n",
       "        text-align: right;\n",
       "    }\n",
       "</style>\n",
       "<table border=\"1\" class=\"dataframe\">\n",
       "  <thead>\n",
       "    <tr style=\"text-align: right;\">\n",
       "      <th></th>\n",
       "      <th>LINENAME</th>\n",
       "      <th>STATION</th>\n",
       "      <th>UNIT</th>\n",
       "      <th>SCP</th>\n",
       "      <th>index</th>\n",
       "      <th>ENTRIES</th>\n",
       "      <th>EXITS</th>\n",
       "      <th>entry_diff</th>\n",
       "      <th>exit_diff</th>\n",
       "      <th>entry_diff_abs</th>\n",
       "      <th>exit_diff_abs</th>\n",
       "      <th>time_diffs</th>\n",
       "    </tr>\n",
       "    <tr>\n",
       "      <th>datetime</th>\n",
       "      <th></th>\n",
       "      <th></th>\n",
       "      <th></th>\n",
       "      <th></th>\n",
       "      <th></th>\n",
       "      <th></th>\n",
       "      <th></th>\n",
       "      <th></th>\n",
       "      <th></th>\n",
       "      <th></th>\n",
       "      <th></th>\n",
       "      <th></th>\n",
       "    </tr>\n",
       "  </thead>\n",
       "  <tbody>\n",
       "    <tr>\n",
       "      <th>2019-01-01 00:00:00</th>\n",
       "      <td>1RW</td>\n",
       "      <td>SOUTH FERRY</td>\n",
       "      <td>R001</td>\n",
       "      <td>02-00-00</td>\n",
       "      <td>86669.0</td>\n",
       "      <td>3261229.0</td>\n",
       "      <td>5125432.0</td>\n",
       "      <td>85.0</td>\n",
       "      <td>129.0</td>\n",
       "      <td>85.0</td>\n",
       "      <td>129.0</td>\n",
       "      <td>4.0</td>\n",
       "    </tr>\n",
       "    <tr>\n",
       "      <th>2019-01-01 01:00:00</th>\n",
       "      <td>1RW</td>\n",
       "      <td>SOUTH FERRY</td>\n",
       "      <td>R001</td>\n",
       "      <td>02-00-00</td>\n",
       "      <td>86669.0</td>\n",
       "      <td>3261235.5</td>\n",
       "      <td>5125456.5</td>\n",
       "      <td>85.0</td>\n",
       "      <td>129.0</td>\n",
       "      <td>85.0</td>\n",
       "      <td>129.0</td>\n",
       "      <td>4.0</td>\n",
       "    </tr>\n",
       "    <tr>\n",
       "      <th>2019-01-01 02:00:00</th>\n",
       "      <td>1RW</td>\n",
       "      <td>SOUTH FERRY</td>\n",
       "      <td>R001</td>\n",
       "      <td>02-00-00</td>\n",
       "      <td>86669.0</td>\n",
       "      <td>3261242.0</td>\n",
       "      <td>5125481.0</td>\n",
       "      <td>85.0</td>\n",
       "      <td>129.0</td>\n",
       "      <td>85.0</td>\n",
       "      <td>129.0</td>\n",
       "      <td>4.0</td>\n",
       "    </tr>\n",
       "    <tr>\n",
       "      <th>2019-01-01 03:00:00</th>\n",
       "      <td>1RW</td>\n",
       "      <td>SOUTH FERRY</td>\n",
       "      <td>R001</td>\n",
       "      <td>02-00-00</td>\n",
       "      <td>86669.0</td>\n",
       "      <td>3261248.5</td>\n",
       "      <td>5125505.5</td>\n",
       "      <td>85.0</td>\n",
       "      <td>129.0</td>\n",
       "      <td>85.0</td>\n",
       "      <td>129.0</td>\n",
       "      <td>4.0</td>\n",
       "    </tr>\n",
       "    <tr>\n",
       "      <th>2019-01-01 04:00:00</th>\n",
       "      <td>1RW</td>\n",
       "      <td>SOUTH FERRY</td>\n",
       "      <td>R001</td>\n",
       "      <td>02-00-00</td>\n",
       "      <td>91798.0</td>\n",
       "      <td>3261255.0</td>\n",
       "      <td>5125530.0</td>\n",
       "      <td>26.0</td>\n",
       "      <td>98.0</td>\n",
       "      <td>26.0</td>\n",
       "      <td>98.0</td>\n",
       "      <td>4.0</td>\n",
       "    </tr>\n",
       "  </tbody>\n",
       "</table>\n",
       "</div>"
      ],
      "text/plain": [
       "                    LINENAME      STATION  UNIT       SCP    index    ENTRIES  \\\n",
       "datetime                                                                        \n",
       "2019-01-01 00:00:00      1RW  SOUTH FERRY  R001  02-00-00  86669.0  3261229.0   \n",
       "2019-01-01 01:00:00      1RW  SOUTH FERRY  R001  02-00-00  86669.0  3261235.5   \n",
       "2019-01-01 02:00:00      1RW  SOUTH FERRY  R001  02-00-00  86669.0  3261242.0   \n",
       "2019-01-01 03:00:00      1RW  SOUTH FERRY  R001  02-00-00  86669.0  3261248.5   \n",
       "2019-01-01 04:00:00      1RW  SOUTH FERRY  R001  02-00-00  91798.0  3261255.0   \n",
       "\n",
       "                         EXITS  entry_diff  exit_diff  entry_diff_abs  \\\n",
       "datetime                                                                \n",
       "2019-01-01 00:00:00  5125432.0        85.0      129.0            85.0   \n",
       "2019-01-01 01:00:00  5125456.5        85.0      129.0            85.0   \n",
       "2019-01-01 02:00:00  5125481.0        85.0      129.0            85.0   \n",
       "2019-01-01 03:00:00  5125505.5        85.0      129.0            85.0   \n",
       "2019-01-01 04:00:00  5125530.0        26.0       98.0            26.0   \n",
       "\n",
       "                     exit_diff_abs  time_diffs  \n",
       "datetime                                        \n",
       "2019-01-01 00:00:00          129.0         4.0  \n",
       "2019-01-01 01:00:00          129.0         4.0  \n",
       "2019-01-01 02:00:00          129.0         4.0  \n",
       "2019-01-01 03:00:00          129.0         4.0  \n",
       "2019-01-01 04:00:00           98.0         4.0  "
      ]
     },
     "execution_count": 8,
     "metadata": {},
     "output_type": "execute_result"
    }
   ],
   "source": [
    "interpolated[interpolated.UNIT == \"R001\"].head()"
   ]
  },
  {
   "cell_type": "code",
   "execution_count": 9,
   "metadata": {},
   "outputs": [
    {
     "data": {
      "text/plain": [
       "(19089586, 12)"
      ]
     },
     "execution_count": 9,
     "metadata": {},
     "output_type": "execute_result"
    }
   ],
   "source": [
    "interpolated.shape"
   ]
  },
  {
   "cell_type": "code",
   "execution_count": 10,
   "metadata": {},
   "outputs": [],
   "source": [
    "interpolated_grps = interpolated.reset_index().groupby(['UNIT','datetime']).sum()[['entry_diff_abs','exit_diff_abs']]"
   ]
  },
  {
   "cell_type": "code",
   "execution_count": 11,
   "metadata": {},
   "outputs": [],
   "source": [
    "interpolated_grps.reset_index(inplace=True)"
   ]
  },
  {
   "cell_type": "code",
   "execution_count": 12,
   "metadata": {},
   "outputs": [
    {
     "data": {
      "text/html": [
       "<div>\n",
       "<style scoped>\n",
       "    .dataframe tbody tr th:only-of-type {\n",
       "        vertical-align: middle;\n",
       "    }\n",
       "\n",
       "    .dataframe tbody tr th {\n",
       "        vertical-align: top;\n",
       "    }\n",
       "\n",
       "    .dataframe thead th {\n",
       "        text-align: right;\n",
       "    }\n",
       "</style>\n",
       "<table border=\"1\" class=\"dataframe\">\n",
       "  <thead>\n",
       "    <tr style=\"text-align: right;\">\n",
       "      <th></th>\n",
       "      <th>UNIT</th>\n",
       "      <th>datetime</th>\n",
       "      <th>entry_diff_abs</th>\n",
       "      <th>exit_diff_abs</th>\n",
       "    </tr>\n",
       "  </thead>\n",
       "  <tbody>\n",
       "    <tr>\n",
       "      <th>0</th>\n",
       "      <td>R001</td>\n",
       "      <td>2019-01-01 00:00:00</td>\n",
       "      <td>1612.0</td>\n",
       "      <td>1734.0</td>\n",
       "    </tr>\n",
       "    <tr>\n",
       "      <th>1</th>\n",
       "      <td>R001</td>\n",
       "      <td>2019-01-01 01:00:00</td>\n",
       "      <td>1612.0</td>\n",
       "      <td>1734.0</td>\n",
       "    </tr>\n",
       "    <tr>\n",
       "      <th>2</th>\n",
       "      <td>R001</td>\n",
       "      <td>2019-01-01 02:00:00</td>\n",
       "      <td>1612.0</td>\n",
       "      <td>1734.0</td>\n",
       "    </tr>\n",
       "    <tr>\n",
       "      <th>3</th>\n",
       "      <td>R001</td>\n",
       "      <td>2019-01-01 03:00:00</td>\n",
       "      <td>1612.0</td>\n",
       "      <td>1734.0</td>\n",
       "    </tr>\n",
       "    <tr>\n",
       "      <th>4</th>\n",
       "      <td>R001</td>\n",
       "      <td>2019-01-01 04:00:00</td>\n",
       "      <td>647.0</td>\n",
       "      <td>1407.0</td>\n",
       "    </tr>\n",
       "  </tbody>\n",
       "</table>\n",
       "</div>"
      ],
      "text/plain": [
       "   UNIT            datetime  entry_diff_abs  exit_diff_abs\n",
       "0  R001 2019-01-01 00:00:00          1612.0         1734.0\n",
       "1  R001 2019-01-01 01:00:00          1612.0         1734.0\n",
       "2  R001 2019-01-01 02:00:00          1612.0         1734.0\n",
       "3  R001 2019-01-01 03:00:00          1612.0         1734.0\n",
       "4  R001 2019-01-01 04:00:00           647.0         1407.0"
      ]
     },
     "execution_count": 12,
     "metadata": {},
     "output_type": "execute_result"
    }
   ],
   "source": [
    "interpolated_grps.head()"
   ]
  },
  {
   "cell_type": "code",
   "execution_count": 13,
   "metadata": {},
   "outputs": [
    {
     "data": {
      "text/plain": [
       "(1234501, 4)"
      ]
     },
     "execution_count": 13,
     "metadata": {},
     "output_type": "execute_result"
    }
   ],
   "source": [
    "interpolated_grps.shape"
   ]
  },
  {
   "cell_type": "code",
   "execution_count": 14,
   "metadata": {},
   "outputs": [],
   "source": [
    "outage = pd.read_pickle('../../data/processed/hourly_outages.pkl.gz')"
   ]
  },
  {
   "cell_type": "code",
   "execution_count": 15,
   "metadata": {},
   "outputs": [
    {
     "data": {
      "text/html": [
       "<div>\n",
       "<style scoped>\n",
       "    .dataframe tbody tr th:only-of-type {\n",
       "        vertical-align: middle;\n",
       "    }\n",
       "\n",
       "    .dataframe tbody tr th {\n",
       "        vertical-align: top;\n",
       "    }\n",
       "\n",
       "    .dataframe thead th {\n",
       "        text-align: right;\n",
       "    }\n",
       "</style>\n",
       "<table border=\"1\" class=\"dataframe\">\n",
       "  <thead>\n",
       "    <tr style=\"text-align: right;\">\n",
       "      <th></th>\n",
       "      <th>Time</th>\n",
       "      <th>Percentage</th>\n",
       "      <th>Equipment Number</th>\n",
       "      <th>Planned Outage</th>\n",
       "      <th>Station Name</th>\n",
       "      <th>Equipment Type</th>\n",
       "    </tr>\n",
       "  </thead>\n",
       "  <tbody>\n",
       "    <tr>\n",
       "      <th>0</th>\n",
       "      <td>2019-01-03 01:00:00</td>\n",
       "      <td>0.9425</td>\n",
       "      <td>EL103</td>\n",
       "      <td>False</td>\n",
       "      <td>191 St</td>\n",
       "      <td>elevator</td>\n",
       "    </tr>\n",
       "    <tr>\n",
       "      <th>1</th>\n",
       "      <td>2019-01-03 02:00:00</td>\n",
       "      <td>1.0000</td>\n",
       "      <td>EL103</td>\n",
       "      <td>False</td>\n",
       "      <td>191 St</td>\n",
       "      <td>elevator</td>\n",
       "    </tr>\n",
       "    <tr>\n",
       "      <th>2</th>\n",
       "      <td>2019-01-03 03:00:00</td>\n",
       "      <td>1.0000</td>\n",
       "      <td>EL103</td>\n",
       "      <td>False</td>\n",
       "      <td>191 St</td>\n",
       "      <td>elevator</td>\n",
       "    </tr>\n",
       "    <tr>\n",
       "      <th>3</th>\n",
       "      <td>2019-01-03 04:00:00</td>\n",
       "      <td>1.0000</td>\n",
       "      <td>EL103</td>\n",
       "      <td>False</td>\n",
       "      <td>191 St</td>\n",
       "      <td>elevator</td>\n",
       "    </tr>\n",
       "    <tr>\n",
       "      <th>4</th>\n",
       "      <td>2019-01-03 05:00:00</td>\n",
       "      <td>0.0575</td>\n",
       "      <td>EL103</td>\n",
       "      <td>False</td>\n",
       "      <td>191 St</td>\n",
       "      <td>elevator</td>\n",
       "    </tr>\n",
       "  </tbody>\n",
       "</table>\n",
       "</div>"
      ],
      "text/plain": [
       "                 Time  Percentage Equipment Number  Planned Outage  \\\n",
       "0 2019-01-03 01:00:00      0.9425            EL103           False   \n",
       "1 2019-01-03 02:00:00      1.0000            EL103           False   \n",
       "2 2019-01-03 03:00:00      1.0000            EL103           False   \n",
       "3 2019-01-03 04:00:00      1.0000            EL103           False   \n",
       "4 2019-01-03 05:00:00      0.0575            EL103           False   \n",
       "\n",
       "  Station Name Equipment Type  \n",
       "0       191 St       elevator  \n",
       "1       191 St       elevator  \n",
       "2       191 St       elevator  \n",
       "3       191 St       elevator  \n",
       "4       191 St       elevator  "
      ]
     },
     "execution_count": 15,
     "metadata": {},
     "output_type": "execute_result"
    }
   ],
   "source": [
    "outage.head()"
   ]
  },
  {
   "cell_type": "code",
   "execution_count": 16,
   "metadata": {},
   "outputs": [
    {
     "data": {
      "text/plain": [
       "array(['elevator', 'escalator'], dtype=object)"
      ]
     },
     "execution_count": 16,
     "metadata": {},
     "output_type": "execute_result"
    }
   ],
   "source": [
    "outage['Equipment Type'].unique()"
   ]
  },
  {
   "cell_type": "code",
   "execution_count": null,
   "metadata": {},
   "outputs": [],
   "source": [
    "outage_el = outage[outage['Equipment Type'] == 'elevator']"
   ]
  },
  {
   "cell_type": "code",
   "execution_count": null,
   "metadata": {},
   "outputs": [],
   "source": [
    "# outage_el = outage_el.merge(subway_turnstile,left_on=\"Equipment Number\",right_on=\"equipment_id\")"
   ]
  },
  {
   "cell_type": "code",
   "execution_count": null,
   "metadata": {},
   "outputs": [],
   "source": [
    "outage.shape"
   ]
  },
  {
   "cell_type": "code",
   "execution_count": null,
   "metadata": {},
   "outputs": [],
   "source": [
    "outage_el.shape"
   ]
  },
  {
   "cell_type": "code",
   "execution_count": 17,
   "metadata": {},
   "outputs": [],
   "source": [
    "df_new = interpolated_grps.merge(subway_turnstile,how=\"outer\",left_on=['UNIT'],right_on=['remote'])"
   ]
  },
  {
   "cell_type": "code",
   "execution_count": 18,
   "metadata": {},
   "outputs": [
    {
     "data": {
      "text/plain": [
       "(7005398, 14)"
      ]
     },
     "execution_count": 18,
     "metadata": {},
     "output_type": "execute_result"
    }
   ],
   "source": [
    "df_new.shape"
   ]
  },
  {
   "cell_type": "code",
   "execution_count": 19,
   "metadata": {},
   "outputs": [
    {
     "data": {
      "text/html": [
       "<div>\n",
       "<style scoped>\n",
       "    .dataframe tbody tr th:only-of-type {\n",
       "        vertical-align: middle;\n",
       "    }\n",
       "\n",
       "    .dataframe tbody tr th {\n",
       "        vertical-align: top;\n",
       "    }\n",
       "\n",
       "    .dataframe thead th {\n",
       "        text-align: right;\n",
       "    }\n",
       "</style>\n",
       "<table border=\"1\" class=\"dataframe\">\n",
       "  <thead>\n",
       "    <tr style=\"text-align: right;\">\n",
       "      <th></th>\n",
       "      <th>UNIT</th>\n",
       "      <th>datetime</th>\n",
       "      <th>entry_diff_abs</th>\n",
       "      <th>exit_diff_abs</th>\n",
       "      <th>station_name</th>\n",
       "      <th>equipment_id</th>\n",
       "      <th>description</th>\n",
       "      <th>borough</th>\n",
       "      <th>subway_lines</th>\n",
       "      <th>equipment_type</th>\n",
       "      <th>ada_compliant</th>\n",
       "      <th>is_active</th>\n",
       "      <th>clean_lines</th>\n",
       "      <th>remote</th>\n",
       "    </tr>\n",
       "  </thead>\n",
       "  <tbody>\n",
       "    <tr>\n",
       "      <th>0</th>\n",
       "      <td>R001</td>\n",
       "      <td>2019-01-01</td>\n",
       "      <td>1612.0</td>\n",
       "      <td>1734.0</td>\n",
       "      <td>South Ferry</td>\n",
       "      <td>EL731</td>\n",
       "      <td>Mezzanine to Platform</td>\n",
       "      <td>MN</td>\n",
       "      <td>1</td>\n",
       "      <td>EL</td>\n",
       "      <td>Y</td>\n",
       "      <td>Y</td>\n",
       "      <td>1</td>\n",
       "      <td>R001</td>\n",
       "    </tr>\n",
       "    <tr>\n",
       "      <th>1</th>\n",
       "      <td>R001</td>\n",
       "      <td>2019-01-01</td>\n",
       "      <td>1612.0</td>\n",
       "      <td>1734.0</td>\n",
       "      <td>South Ferry</td>\n",
       "      <td>ES373</td>\n",
       "      <td>Mezzanine to Street</td>\n",
       "      <td>MN</td>\n",
       "      <td>1</td>\n",
       "      <td>ES</td>\n",
       "      <td>N</td>\n",
       "      <td>Y</td>\n",
       "      <td>1</td>\n",
       "      <td>R001</td>\n",
       "    </tr>\n",
       "    <tr>\n",
       "      <th>2</th>\n",
       "      <td>R001</td>\n",
       "      <td>2019-01-01</td>\n",
       "      <td>1612.0</td>\n",
       "      <td>1734.0</td>\n",
       "      <td>South Ferry</td>\n",
       "      <td>ES369</td>\n",
       "      <td>Mezzanine to Street</td>\n",
       "      <td>MN</td>\n",
       "      <td>1</td>\n",
       "      <td>ES</td>\n",
       "      <td>N</td>\n",
       "      <td>Y</td>\n",
       "      <td>1</td>\n",
       "      <td>R001</td>\n",
       "    </tr>\n",
       "    <tr>\n",
       "      <th>3</th>\n",
       "      <td>R001</td>\n",
       "      <td>2019-01-01</td>\n",
       "      <td>1612.0</td>\n",
       "      <td>1734.0</td>\n",
       "      <td>South Ferry</td>\n",
       "      <td>ES375</td>\n",
       "      <td>Mezzanine to Street</td>\n",
       "      <td>MN</td>\n",
       "      <td>1</td>\n",
       "      <td>ES</td>\n",
       "      <td>N</td>\n",
       "      <td>Y</td>\n",
       "      <td>1</td>\n",
       "      <td>R001</td>\n",
       "    </tr>\n",
       "    <tr>\n",
       "      <th>4</th>\n",
       "      <td>R001</td>\n",
       "      <td>2019-01-01</td>\n",
       "      <td>1612.0</td>\n",
       "      <td>1734.0</td>\n",
       "      <td>South Ferry</td>\n",
       "      <td>ES370</td>\n",
       "      <td>Mezzanine to Street</td>\n",
       "      <td>MN</td>\n",
       "      <td>1</td>\n",
       "      <td>ES</td>\n",
       "      <td>N</td>\n",
       "      <td>Y</td>\n",
       "      <td>1</td>\n",
       "      <td>R001</td>\n",
       "    </tr>\n",
       "  </tbody>\n",
       "</table>\n",
       "</div>"
      ],
      "text/plain": [
       "   UNIT   datetime  entry_diff_abs  exit_diff_abs station_name equipment_id  \\\n",
       "0  R001 2019-01-01          1612.0         1734.0  South Ferry        EL731   \n",
       "1  R001 2019-01-01          1612.0         1734.0  South Ferry        ES373   \n",
       "2  R001 2019-01-01          1612.0         1734.0  South Ferry        ES369   \n",
       "3  R001 2019-01-01          1612.0         1734.0  South Ferry        ES375   \n",
       "4  R001 2019-01-01          1612.0         1734.0  South Ferry        ES370   \n",
       "\n",
       "             description borough subway_lines equipment_type ada_compliant  \\\n",
       "0  Mezzanine to Platform      MN            1             EL             Y   \n",
       "1    Mezzanine to Street      MN            1             ES             N   \n",
       "2    Mezzanine to Street      MN            1             ES             N   \n",
       "3    Mezzanine to Street      MN            1             ES             N   \n",
       "4    Mezzanine to Street      MN            1             ES             N   \n",
       "\n",
       "  is_active clean_lines remote  \n",
       "0         Y           1   R001  \n",
       "1         Y           1   R001  \n",
       "2         Y           1   R001  \n",
       "3         Y           1   R001  \n",
       "4         Y           1   R001  "
      ]
     },
     "execution_count": 19,
     "metadata": {},
     "output_type": "execute_result"
    }
   ],
   "source": [
    "df_new.head()"
   ]
  },
  {
   "cell_type": "code",
   "execution_count": 20,
   "metadata": {},
   "outputs": [],
   "source": [
    "df_new = df_new.merge(outage,how='left',left_on=[\"equipment_id\",\"datetime\"],right_on=[\"Equipment Number\",\"Time\"])"
   ]
  },
  {
   "cell_type": "code",
   "execution_count": 22,
   "metadata": {},
   "outputs": [
    {
     "data": {
      "text/html": [
       "<div>\n",
       "<style scoped>\n",
       "    .dataframe tbody tr th:only-of-type {\n",
       "        vertical-align: middle;\n",
       "    }\n",
       "\n",
       "    .dataframe tbody tr th {\n",
       "        vertical-align: top;\n",
       "    }\n",
       "\n",
       "    .dataframe thead th {\n",
       "        text-align: right;\n",
       "    }\n",
       "</style>\n",
       "<table border=\"1\" class=\"dataframe\">\n",
       "  <thead>\n",
       "    <tr style=\"text-align: right;\">\n",
       "      <th></th>\n",
       "      <th>UNIT</th>\n",
       "      <th>datetime</th>\n",
       "      <th>entry_diff_abs</th>\n",
       "      <th>exit_diff_abs</th>\n",
       "      <th>station_name</th>\n",
       "      <th>equipment_id</th>\n",
       "      <th>description</th>\n",
       "      <th>borough</th>\n",
       "      <th>subway_lines</th>\n",
       "      <th>equipment_type</th>\n",
       "      <th>ada_compliant</th>\n",
       "      <th>is_active</th>\n",
       "      <th>clean_lines</th>\n",
       "      <th>remote</th>\n",
       "      <th>Time</th>\n",
       "      <th>Percentage</th>\n",
       "      <th>Equipment Number</th>\n",
       "      <th>Planned Outage</th>\n",
       "      <th>Station Name</th>\n",
       "      <th>Equipment Type</th>\n",
       "    </tr>\n",
       "  </thead>\n",
       "  <tbody>\n",
       "    <tr>\n",
       "      <th>5316382</th>\n",
       "      <td>R274</td>\n",
       "      <td>2019-01-01 03:00:00</td>\n",
       "      <td>251.0</td>\n",
       "      <td>687.0</td>\n",
       "      <td>191 St</td>\n",
       "      <td>EL106</td>\n",
       "      <td>Lower Mezzanine to Street Level Arcade at St N...</td>\n",
       "      <td>MN</td>\n",
       "      <td>1</td>\n",
       "      <td>EL</td>\n",
       "      <td>N</td>\n",
       "      <td>Y</td>\n",
       "      <td>1</td>\n",
       "      <td>R274</td>\n",
       "      <td>NaT</td>\n",
       "      <td>NaN</td>\n",
       "      <td>NaN</td>\n",
       "      <td>NaN</td>\n",
       "      <td>NaN</td>\n",
       "      <td>NaN</td>\n",
       "    </tr>\n",
       "    <tr>\n",
       "      <th>5316383</th>\n",
       "      <td>R274</td>\n",
       "      <td>2019-01-01 03:00:00</td>\n",
       "      <td>251.0</td>\n",
       "      <td>687.0</td>\n",
       "      <td>191 St</td>\n",
       "      <td>EL105</td>\n",
       "      <td>Lower Mezzanine to Street Level Arcade at St N...</td>\n",
       "      <td>MN</td>\n",
       "      <td>1</td>\n",
       "      <td>EL</td>\n",
       "      <td>N</td>\n",
       "      <td>Y</td>\n",
       "      <td>1</td>\n",
       "      <td>R274</td>\n",
       "      <td>NaT</td>\n",
       "      <td>NaN</td>\n",
       "      <td>NaN</td>\n",
       "      <td>NaN</td>\n",
       "      <td>NaN</td>\n",
       "      <td>NaN</td>\n",
       "    </tr>\n",
       "    <tr>\n",
       "      <th>5316384</th>\n",
       "      <td>R274</td>\n",
       "      <td>2019-01-01 03:00:00</td>\n",
       "      <td>251.0</td>\n",
       "      <td>687.0</td>\n",
       "      <td>191 St</td>\n",
       "      <td>EL104</td>\n",
       "      <td>Lower Mezzanine to Street Level Arcade at St N...</td>\n",
       "      <td>MN</td>\n",
       "      <td>1</td>\n",
       "      <td>EL</td>\n",
       "      <td>N</td>\n",
       "      <td>Y</td>\n",
       "      <td>1</td>\n",
       "      <td>R274</td>\n",
       "      <td>NaT</td>\n",
       "      <td>NaN</td>\n",
       "      <td>NaN</td>\n",
       "      <td>NaN</td>\n",
       "      <td>NaN</td>\n",
       "      <td>NaN</td>\n",
       "    </tr>\n",
       "    <tr>\n",
       "      <th>5316385</th>\n",
       "      <td>R274</td>\n",
       "      <td>2019-01-01 03:00:00</td>\n",
       "      <td>251.0</td>\n",
       "      <td>687.0</td>\n",
       "      <td>191 St</td>\n",
       "      <td>EL103</td>\n",
       "      <td>Street to Mezzanine / Mezzanine to Platform</td>\n",
       "      <td>MN</td>\n",
       "      <td>1</td>\n",
       "      <td>EL</td>\n",
       "      <td>N</td>\n",
       "      <td>Y</td>\n",
       "      <td>1</td>\n",
       "      <td>R274</td>\n",
       "      <td>NaT</td>\n",
       "      <td>NaN</td>\n",
       "      <td>NaN</td>\n",
       "      <td>NaN</td>\n",
       "      <td>NaN</td>\n",
       "      <td>NaN</td>\n",
       "    </tr>\n",
       "    <tr>\n",
       "      <th>5316386</th>\n",
       "      <td>R274</td>\n",
       "      <td>2019-01-01 04:00:00</td>\n",
       "      <td>251.0</td>\n",
       "      <td>687.0</td>\n",
       "      <td>191 St</td>\n",
       "      <td>EL106</td>\n",
       "      <td>Lower Mezzanine to Street Level Arcade at St N...</td>\n",
       "      <td>MN</td>\n",
       "      <td>1</td>\n",
       "      <td>EL</td>\n",
       "      <td>N</td>\n",
       "      <td>Y</td>\n",
       "      <td>1</td>\n",
       "      <td>R274</td>\n",
       "      <td>NaT</td>\n",
       "      <td>NaN</td>\n",
       "      <td>NaN</td>\n",
       "      <td>NaN</td>\n",
       "      <td>NaN</td>\n",
       "      <td>NaN</td>\n",
       "    </tr>\n",
       "  </tbody>\n",
       "</table>\n",
       "</div>"
      ],
      "text/plain": [
       "         UNIT            datetime  entry_diff_abs  exit_diff_abs station_name  \\\n",
       "5316382  R274 2019-01-01 03:00:00           251.0          687.0       191 St   \n",
       "5316383  R274 2019-01-01 03:00:00           251.0          687.0       191 St   \n",
       "5316384  R274 2019-01-01 03:00:00           251.0          687.0       191 St   \n",
       "5316385  R274 2019-01-01 03:00:00           251.0          687.0       191 St   \n",
       "5316386  R274 2019-01-01 04:00:00           251.0          687.0       191 St   \n",
       "\n",
       "        equipment_id                                        description  \\\n",
       "5316382        EL106  Lower Mezzanine to Street Level Arcade at St N...   \n",
       "5316383        EL105  Lower Mezzanine to Street Level Arcade at St N...   \n",
       "5316384        EL104  Lower Mezzanine to Street Level Arcade at St N...   \n",
       "5316385        EL103        Street to Mezzanine / Mezzanine to Platform   \n",
       "5316386        EL106  Lower Mezzanine to Street Level Arcade at St N...   \n",
       "\n",
       "        borough subway_lines equipment_type ada_compliant is_active  \\\n",
       "5316382      MN            1             EL             N         Y   \n",
       "5316383      MN            1             EL             N         Y   \n",
       "5316384      MN            1             EL             N         Y   \n",
       "5316385      MN            1             EL             N         Y   \n",
       "5316386      MN            1             EL             N         Y   \n",
       "\n",
       "        clean_lines remote Time  Percentage Equipment Number Planned Outage  \\\n",
       "5316382           1   R274  NaT         NaN              NaN            NaN   \n",
       "5316383           1   R274  NaT         NaN              NaN            NaN   \n",
       "5316384           1   R274  NaT         NaN              NaN            NaN   \n",
       "5316385           1   R274  NaT         NaN              NaN            NaN   \n",
       "5316386           1   R274  NaT         NaN              NaN            NaN   \n",
       "\n",
       "        Station Name Equipment Type  \n",
       "5316382          NaN            NaN  \n",
       "5316383          NaN            NaN  \n",
       "5316384          NaN            NaN  \n",
       "5316385          NaN            NaN  \n",
       "5316386          NaN            NaN  "
      ]
     },
     "execution_count": 22,
     "metadata": {},
     "output_type": "execute_result"
    }
   ],
   "source": [
    "df_new[df_new.UNIT == \"R274\"].head()"
   ]
  },
  {
   "cell_type": "code",
   "execution_count": 23,
   "metadata": {},
   "outputs": [],
   "source": [
    "df_new = df_new[['datetime','UNIT','equipment_id','station_name','Percentage','entry_diff_abs','exit_diff_abs','Planned Outage','subway_lines','equipment_type']]"
   ]
  },
  {
   "cell_type": "code",
   "execution_count": 24,
   "metadata": {},
   "outputs": [
    {
     "data": {
      "text/html": [
       "<div>\n",
       "<style scoped>\n",
       "    .dataframe tbody tr th:only-of-type {\n",
       "        vertical-align: middle;\n",
       "    }\n",
       "\n",
       "    .dataframe tbody tr th {\n",
       "        vertical-align: top;\n",
       "    }\n",
       "\n",
       "    .dataframe thead th {\n",
       "        text-align: right;\n",
       "    }\n",
       "</style>\n",
       "<table border=\"1\" class=\"dataframe\">\n",
       "  <thead>\n",
       "    <tr style=\"text-align: right;\">\n",
       "      <th></th>\n",
       "      <th>datetime</th>\n",
       "      <th>UNIT</th>\n",
       "      <th>equipment_id</th>\n",
       "      <th>station_name</th>\n",
       "      <th>Percentage</th>\n",
       "      <th>entry_diff_abs</th>\n",
       "      <th>exit_diff_abs</th>\n",
       "      <th>Planned Outage</th>\n",
       "      <th>subway_lines</th>\n",
       "      <th>equipment_type</th>\n",
       "    </tr>\n",
       "  </thead>\n",
       "  <tbody>\n",
       "    <tr>\n",
       "      <th>5316382</th>\n",
       "      <td>2019-01-01 03:00:00</td>\n",
       "      <td>R274</td>\n",
       "      <td>EL106</td>\n",
       "      <td>191 St</td>\n",
       "      <td>NaN</td>\n",
       "      <td>251.0</td>\n",
       "      <td>687.0</td>\n",
       "      <td>NaN</td>\n",
       "      <td>1</td>\n",
       "      <td>EL</td>\n",
       "    </tr>\n",
       "    <tr>\n",
       "      <th>5316383</th>\n",
       "      <td>2019-01-01 03:00:00</td>\n",
       "      <td>R274</td>\n",
       "      <td>EL105</td>\n",
       "      <td>191 St</td>\n",
       "      <td>NaN</td>\n",
       "      <td>251.0</td>\n",
       "      <td>687.0</td>\n",
       "      <td>NaN</td>\n",
       "      <td>1</td>\n",
       "      <td>EL</td>\n",
       "    </tr>\n",
       "    <tr>\n",
       "      <th>5316384</th>\n",
       "      <td>2019-01-01 03:00:00</td>\n",
       "      <td>R274</td>\n",
       "      <td>EL104</td>\n",
       "      <td>191 St</td>\n",
       "      <td>NaN</td>\n",
       "      <td>251.0</td>\n",
       "      <td>687.0</td>\n",
       "      <td>NaN</td>\n",
       "      <td>1</td>\n",
       "      <td>EL</td>\n",
       "    </tr>\n",
       "    <tr>\n",
       "      <th>5316385</th>\n",
       "      <td>2019-01-01 03:00:00</td>\n",
       "      <td>R274</td>\n",
       "      <td>EL103</td>\n",
       "      <td>191 St</td>\n",
       "      <td>NaN</td>\n",
       "      <td>251.0</td>\n",
       "      <td>687.0</td>\n",
       "      <td>NaN</td>\n",
       "      <td>1</td>\n",
       "      <td>EL</td>\n",
       "    </tr>\n",
       "    <tr>\n",
       "      <th>5316386</th>\n",
       "      <td>2019-01-01 04:00:00</td>\n",
       "      <td>R274</td>\n",
       "      <td>EL106</td>\n",
       "      <td>191 St</td>\n",
       "      <td>NaN</td>\n",
       "      <td>251.0</td>\n",
       "      <td>687.0</td>\n",
       "      <td>NaN</td>\n",
       "      <td>1</td>\n",
       "      <td>EL</td>\n",
       "    </tr>\n",
       "  </tbody>\n",
       "</table>\n",
       "</div>"
      ],
      "text/plain": [
       "                   datetime  UNIT equipment_id station_name  Percentage  \\\n",
       "5316382 2019-01-01 03:00:00  R274        EL106       191 St         NaN   \n",
       "5316383 2019-01-01 03:00:00  R274        EL105       191 St         NaN   \n",
       "5316384 2019-01-01 03:00:00  R274        EL104       191 St         NaN   \n",
       "5316385 2019-01-01 03:00:00  R274        EL103       191 St         NaN   \n",
       "5316386 2019-01-01 04:00:00  R274        EL106       191 St         NaN   \n",
       "\n",
       "         entry_diff_abs  exit_diff_abs Planned Outage subway_lines  \\\n",
       "5316382           251.0          687.0            NaN            1   \n",
       "5316383           251.0          687.0            NaN            1   \n",
       "5316384           251.0          687.0            NaN            1   \n",
       "5316385           251.0          687.0            NaN            1   \n",
       "5316386           251.0          687.0            NaN            1   \n",
       "\n",
       "        equipment_type  \n",
       "5316382             EL  \n",
       "5316383             EL  \n",
       "5316384             EL  \n",
       "5316385             EL  \n",
       "5316386             EL  "
      ]
     },
     "execution_count": 24,
     "metadata": {},
     "output_type": "execute_result"
    }
   ],
   "source": [
    "df_new[df_new.UNIT == \"R274\"].head()"
   ]
  },
  {
   "cell_type": "code",
   "execution_count": null,
   "metadata": {},
   "outputs": [],
   "source": [
    "interpolated.shape"
   ]
  },
  {
   "cell_type": "code",
   "execution_count": null,
   "metadata": {},
   "outputs": [],
   "source": [
    "interpolated[interpolated.UNIT == \"R274\"].sort_index()"
   ]
  },
  {
   "cell_type": "code",
   "execution_count": null,
   "metadata": {},
   "outputs": [],
   "source": [
    "interpolated.reset_index().sort_values(['UNIT','datetime']).head()"
   ]
  },
  {
   "cell_type": "code",
   "execution_count": 148,
   "metadata": {},
   "outputs": [
    {
     "data": {
      "text/plain": [
       "122"
      ]
     },
     "execution_count": 148,
     "metadata": {},
     "output_type": "execute_result"
    }
   ],
   "source": [
    "len(interpolated.STATION.unique())"
   ]
  },
  {
   "cell_type": "code",
   "execution_count": null,
   "metadata": {},
   "outputs": [],
   "source": [
    "# df_new = df_new[df_new.equipment_type == 'EL']"
   ]
  },
  {
   "cell_type": "code",
   "execution_count": null,
   "metadata": {},
   "outputs": [],
   "source": [
    "df_new[df_new.UNIT == \"R274\"].head()"
   ]
  },
  {
   "cell_type": "code",
   "execution_count": null,
   "metadata": {},
   "outputs": [],
   "source": [
    "df_new[df_new.UNIT == \"R274\"].sort_values(['Equipment Number','UNIT']).sort_index()"
   ]
  },
  {
   "cell_type": "code",
   "execution_count": 27,
   "metadata": {},
   "outputs": [],
   "source": [
    "df_new.set_index('datetime',inplace=True)"
   ]
  },
  {
   "cell_type": "code",
   "execution_count": null,
   "metadata": {},
   "outputs": [],
   "source": [
    "df_new.drop_duplicates(inplace=True)"
   ]
  },
  {
   "cell_type": "code",
   "execution_count": 25,
   "metadata": {},
   "outputs": [],
   "source": [
    "df_new.Percentage.fillna(0,inplace=True)"
   ]
  },
  {
   "cell_type": "code",
   "execution_count": 32,
   "metadata": {},
   "outputs": [],
   "source": [
    "downtime_el = df_new.groupby(df_new.index.floor('d')).sum()['Percentage'].div(df_new.groupby(df_new.index.floor('d')).count()['Percentage'])"
   ]
  },
  {
   "cell_type": "code",
   "execution_count": 33,
   "metadata": {},
   "outputs": [
    {
     "data": {
      "text/plain": [
       "<matplotlib.axes._subplots.AxesSubplot at 0x7fc74b7dae80>"
      ]
     },
     "execution_count": 33,
     "metadata": {},
     "output_type": "execute_result"
    },
    {
     "data": {
      "image/png": "[encoded data removed]",
      "text/plain": [
       "<Figure size 432x288 with 1 Axes>"
      ]
     },
     "metadata": {
      "needs_background": "light"
     },
     "output_type": "display_data"
    }
   ],
   "source": [
    "downtime_el = 1- downtime_el\n",
    "downtime_el.plot()"
   ]
  },
  {
   "cell_type": "code",
   "execution_count": null,
   "metadata": {},
   "outputs": [],
   "source": [
    "subway_turnstile[subway_turnstile.remote == 'R274']"
   ]
  },
  {
   "cell_type": "code",
   "execution_count": null,
   "metadata": {},
   "outputs": [],
   "source": [
    "df_new[(df_new.UNIT == \"R274\") & (df_new.index >= '2019-01-02')].sort_index().head(50)"
   ]
  },
  {
   "cell_type": "code",
   "execution_count": null,
   "metadata": {},
   "outputs": [],
   "source": [
    "df_new[df_new.UNIT == \"R274\"].groupby(df_new[df_new.UNIT == \"R274\"].index.floor('d')).count()['Percentage']"
   ]
  },
  {
   "cell_type": "code",
   "execution_count": 101,
   "metadata": {},
   "outputs": [],
   "source": [
    "df_new = pd.read_pickle(\"../../data/processed/turnstile_with_outage.pkl.gz\")"
   ]
  },
  {
   "cell_type": "code",
   "execution_count": 145,
   "metadata": {},
   "outputs": [
    {
     "data": {
      "text/html": [
       "<div>\n",
       "<style scoped>\n",
       "    .dataframe tbody tr th:only-of-type {\n",
       "        vertical-align: middle;\n",
       "    }\n",
       "\n",
       "    .dataframe tbody tr th {\n",
       "        vertical-align: top;\n",
       "    }\n",
       "\n",
       "    .dataframe thead th {\n",
       "        text-align: right;\n",
       "    }\n",
       "</style>\n",
       "<table border=\"1\" class=\"dataframe\">\n",
       "  <thead>\n",
       "    <tr style=\"text-align: right;\">\n",
       "      <th></th>\n",
       "      <th>UNIT</th>\n",
       "      <th>equipment_id</th>\n",
       "      <th>station_name</th>\n",
       "      <th>Percentage</th>\n",
       "      <th>entry_diff_abs</th>\n",
       "      <th>exit_diff_abs</th>\n",
       "      <th>Planned Outage</th>\n",
       "      <th>subway_lines</th>\n",
       "      <th>flow_abs</th>\n",
       "      <th>weighted_downtime</th>\n",
       "    </tr>\n",
       "    <tr>\n",
       "      <th>datetime</th>\n",
       "      <th></th>\n",
       "      <th></th>\n",
       "      <th></th>\n",
       "      <th></th>\n",
       "      <th></th>\n",
       "      <th></th>\n",
       "      <th></th>\n",
       "      <th></th>\n",
       "      <th></th>\n",
       "      <th></th>\n",
       "    </tr>\n",
       "  </thead>\n",
       "  <tbody>\n",
       "    <tr>\n",
       "      <th>NaT</th>\n",
       "      <td>NaN</td>\n",
       "      <td>EL434</td>\n",
       "      <td>Kew Gardens / Union Tpk</td>\n",
       "      <td>0.0</td>\n",
       "      <td>NaN</td>\n",
       "      <td>NaN</td>\n",
       "      <td>NaN</td>\n",
       "      <td>E/F</td>\n",
       "      <td>NaN</td>\n",
       "      <td>NaN</td>\n",
       "    </tr>\n",
       "  </tbody>\n",
       "</table>\n",
       "</div>"
      ],
      "text/plain": [
       "         UNIT equipment_id             station_name  Percentage  \\\n",
       "datetime                                                          \n",
       "NaT       NaN        EL434  Kew Gardens / Union Tpk         0.0   \n",
       "\n",
       "          entry_diff_abs  exit_diff_abs Planned Outage subway_lines  flow_abs  \\\n",
       "datetime                                                                        \n",
       "NaT                  NaN            NaN            NaN          E/F       NaN   \n",
       "\n",
       "          weighted_downtime  \n",
       "datetime                     \n",
       "NaT                     NaN  "
      ]
     },
     "execution_count": 145,
     "metadata": {},
     "output_type": "execute_result"
    }
   ],
   "source": [
    "df_new[df_new.equipment_id == \"EL434\"]"
   ]
  },
  {
   "cell_type": "code",
   "execution_count": 140,
   "metadata": {},
   "outputs": [
    {
     "data": {
      "text/plain": [
       "ES208     35068\n",
       "ES206     35064\n",
       "ES207     35060\n",
       "ES209     35060\n",
       "ES205     35060\n",
       "ES204     35056\n",
       "ES210     35052\n",
       "ES203     35044\n",
       "ES256     35044\n",
       "ES255     35044\n",
       "EL206     35032\n",
       "EL204     35032\n",
       "EL205     35032\n",
       "ES609X    35028\n",
       "ES608X    35028\n",
       "EL296     35028\n",
       "EL244     35028\n",
       "ES610X    35028\n",
       "ES215     26286\n",
       "ES249     26286\n",
       "ES248     26274\n",
       "EL225     26274\n",
       "EL227     26271\n",
       "EL228     26271\n",
       "EL325     26271\n",
       "EL226     26271\n",
       "EL324     26271\n",
       "ES213     17542\n",
       "ES244     17536\n",
       "ES356     17530\n",
       "          ...  \n",
       "ES323      8757\n",
       "EL196      8757\n",
       "EL426      8757\n",
       "EL219      8757\n",
       "EL110      8757\n",
       "EL194      8757\n",
       "EL419X     8757\n",
       "EL730      8757\n",
       "EL143      8757\n",
       "EL438      8757\n",
       "ES220      8757\n",
       "EL448X     8757\n",
       "EL726X     8757\n",
       "EL190      8757\n",
       "EL283      8757\n",
       "EL326      8757\n",
       "EL122      8757\n",
       "EL372      8757\n",
       "EL115      8757\n",
       "EL279X     8521\n",
       "EL434         1\n",
       "ES113         1\n",
       "EL132         1\n",
       "EL436         1\n",
       "EL131         1\n",
       "ES114         1\n",
       "EL135         1\n",
       "EL134         1\n",
       "EL435         1\n",
       "EL133         1\n",
       "Name: equipment_id, Length: 612, dtype: int64"
      ]
     },
     "execution_count": 140,
     "metadata": {},
     "output_type": "execute_result"
    }
   ],
   "source": [
    "df_new.equipment_id.value_counts()"
   ]
  },
  {
   "cell_type": "code",
   "execution_count": 103,
   "metadata": {},
   "outputs": [],
   "source": [
    "df_new.set_index('datetime',inplace=True)"
   ]
  },
  {
   "cell_type": "code",
   "execution_count": 108,
   "metadata": {},
   "outputs": [
    {
     "data": {
      "text/html": [
       "<div>\n",
       "<style scoped>\n",
       "    .dataframe tbody tr th:only-of-type {\n",
       "        vertical-align: middle;\n",
       "    }\n",
       "\n",
       "    .dataframe tbody tr th {\n",
       "        vertical-align: top;\n",
       "    }\n",
       "\n",
       "    .dataframe thead th {\n",
       "        text-align: right;\n",
       "    }\n",
       "</style>\n",
       "<table border=\"1\" class=\"dataframe\">\n",
       "  <thead>\n",
       "    <tr style=\"text-align: right;\">\n",
       "      <th></th>\n",
       "      <th>UNIT</th>\n",
       "      <th>equipment_id</th>\n",
       "      <th>station_name</th>\n",
       "      <th>Percentage</th>\n",
       "      <th>entry_diff_abs</th>\n",
       "      <th>exit_diff_abs</th>\n",
       "      <th>Planned Outage</th>\n",
       "      <th>subway_lines</th>\n",
       "    </tr>\n",
       "    <tr>\n",
       "      <th>datetime</th>\n",
       "      <th></th>\n",
       "      <th></th>\n",
       "      <th></th>\n",
       "      <th></th>\n",
       "      <th></th>\n",
       "      <th></th>\n",
       "      <th></th>\n",
       "      <th></th>\n",
       "    </tr>\n",
       "  </thead>\n",
       "  <tbody>\n",
       "    <tr>\n",
       "      <th>2019-01-01</th>\n",
       "      <td>R001</td>\n",
       "      <td>EL731</td>\n",
       "      <td>South Ferry</td>\n",
       "      <td>0.0</td>\n",
       "      <td>1612.0</td>\n",
       "      <td>1734.0</td>\n",
       "      <td>NaN</td>\n",
       "      <td>1</td>\n",
       "    </tr>\n",
       "    <tr>\n",
       "      <th>2019-01-01</th>\n",
       "      <td>R001</td>\n",
       "      <td>ES373</td>\n",
       "      <td>South Ferry</td>\n",
       "      <td>0.0</td>\n",
       "      <td>1612.0</td>\n",
       "      <td>1734.0</td>\n",
       "      <td>NaN</td>\n",
       "      <td>1</td>\n",
       "    </tr>\n",
       "    <tr>\n",
       "      <th>2019-01-01</th>\n",
       "      <td>R001</td>\n",
       "      <td>ES369</td>\n",
       "      <td>South Ferry</td>\n",
       "      <td>0.0</td>\n",
       "      <td>1612.0</td>\n",
       "      <td>1734.0</td>\n",
       "      <td>NaN</td>\n",
       "      <td>1</td>\n",
       "    </tr>\n",
       "    <tr>\n",
       "      <th>2019-01-01</th>\n",
       "      <td>R001</td>\n",
       "      <td>ES375</td>\n",
       "      <td>South Ferry</td>\n",
       "      <td>0.0</td>\n",
       "      <td>1612.0</td>\n",
       "      <td>1734.0</td>\n",
       "      <td>NaN</td>\n",
       "      <td>1</td>\n",
       "    </tr>\n",
       "    <tr>\n",
       "      <th>2019-01-01</th>\n",
       "      <td>R001</td>\n",
       "      <td>ES370</td>\n",
       "      <td>South Ferry</td>\n",
       "      <td>0.0</td>\n",
       "      <td>1612.0</td>\n",
       "      <td>1734.0</td>\n",
       "      <td>NaN</td>\n",
       "      <td>1</td>\n",
       "    </tr>\n",
       "  </tbody>\n",
       "</table>\n",
       "</div>"
      ],
      "text/plain": [
       "            UNIT equipment_id station_name  Percentage  entry_diff_abs  \\\n",
       "datetime                                                                 \n",
       "2019-01-01  R001        EL731  South Ferry         0.0          1612.0   \n",
       "2019-01-01  R001        ES373  South Ferry         0.0          1612.0   \n",
       "2019-01-01  R001        ES369  South Ferry         0.0          1612.0   \n",
       "2019-01-01  R001        ES375  South Ferry         0.0          1612.0   \n",
       "2019-01-01  R001        ES370  South Ferry         0.0          1612.0   \n",
       "\n",
       "            exit_diff_abs Planned Outage subway_lines  \n",
       "datetime                                               \n",
       "2019-01-01         1734.0            NaN            1  \n",
       "2019-01-01         1734.0            NaN            1  \n",
       "2019-01-01         1734.0            NaN            1  \n",
       "2019-01-01         1734.0            NaN            1  \n",
       "2019-01-01         1734.0            NaN            1  "
      ]
     },
     "execution_count": 108,
     "metadata": {},
     "output_type": "execute_result"
    }
   ],
   "source": [
    "df_new.head()"
   ]
  },
  {
   "cell_type": "code",
   "execution_count": 104,
   "metadata": {},
   "outputs": [],
   "source": [
    "downtime_el_m = df_new.groupby(df_new.index.month).sum()['Percentage'].div(df_new.groupby(df_new.index.month).count()['Percentage'])"
   ]
  },
  {
   "cell_type": "code",
   "execution_count": 105,
   "metadata": {},
   "outputs": [],
   "source": [
    "downtime_el_m = downtime_el_m.to_frame().reset_index()\n",
    "downtime_el_m.Percentage = 1-downtime_el_m.Percentage"
   ]
  },
  {
   "cell_type": "code",
   "execution_count": 106,
   "metadata": {},
   "outputs": [
    {
     "data": {
      "text/html": [
       "<div>\n",
       "<style scoped>\n",
       "    .dataframe tbody tr th:only-of-type {\n",
       "        vertical-align: middle;\n",
       "    }\n",
       "\n",
       "    .dataframe tbody tr th {\n",
       "        vertical-align: top;\n",
       "    }\n",
       "\n",
       "    .dataframe thead th {\n",
       "        text-align: right;\n",
       "    }\n",
       "</style>\n",
       "<table border=\"1\" class=\"dataframe\">\n",
       "  <thead>\n",
       "    <tr style=\"text-align: right;\">\n",
       "      <th></th>\n",
       "      <th>datetime</th>\n",
       "      <th>Percentage</th>\n",
       "    </tr>\n",
       "  </thead>\n",
       "  <tbody>\n",
       "    <tr>\n",
       "      <th>0</th>\n",
       "      <td>1.0</td>\n",
       "      <td>0.937548</td>\n",
       "    </tr>\n",
       "    <tr>\n",
       "      <th>1</th>\n",
       "      <td>2.0</td>\n",
       "      <td>0.939519</td>\n",
       "    </tr>\n",
       "    <tr>\n",
       "      <th>2</th>\n",
       "      <td>3.0</td>\n",
       "      <td>0.907971</td>\n",
       "    </tr>\n",
       "    <tr>\n",
       "      <th>3</th>\n",
       "      <td>4.0</td>\n",
       "      <td>0.915733</td>\n",
       "    </tr>\n",
       "    <tr>\n",
       "      <th>4</th>\n",
       "      <td>5.0</td>\n",
       "      <td>0.928849</td>\n",
       "    </tr>\n",
       "  </tbody>\n",
       "</table>\n",
       "</div>"
      ],
      "text/plain": [
       "   datetime  Percentage\n",
       "0       1.0    0.937548\n",
       "1       2.0    0.939519\n",
       "2       3.0    0.907971\n",
       "3       4.0    0.915733\n",
       "4       5.0    0.928849"
      ]
     },
     "execution_count": 106,
     "metadata": {},
     "output_type": "execute_result"
    }
   ],
   "source": [
    "downtime_el_m.head()"
   ]
  },
  {
   "cell_type": "code",
   "execution_count": 107,
   "metadata": {},
   "outputs": [
    {
     "data": {
      "text/plain": [
       "[(0.8, 1)]"
      ]
     },
     "execution_count": 107,
     "metadata": {},
     "output_type": "execute_result"
    },
    {
     "data": {
      "image/png": "[encoded data removed]",
      "text/plain": [
       "<Figure size 432x288 with 1 Axes>"
      ]
     },
     "metadata": {},
     "output_type": "display_data"
    }
   ],
   "source": [
    "sns.set(style=\"whitegrid\")\n",
    "sns.lineplot(x=downtime_el_m.datetime,y=downtime_el_m.Percentage).set(ylim=(0.8,1))"
   ]
  },
  {
   "cell_type": "code",
   "execution_count": 73,
   "metadata": {},
   "outputs": [],
   "source": [
    "df_new[\"flow_abs\"] = df_new.entry_diff_abs + df_new.exit_diff_abs\n",
    "df_new[\"weighted_dt\"] = df_new.flow_abs*df_new.Percentage\n",
    "downtime_el_wm = df_new.groupby(df_new.index.month).sum()['weighted_dt'].div(df_new.groupby(df_new.index.month).sum()['flow_abs'])\n",
    "downtime_el_wm = downtime_el_wm.to_frame().reset_index()"
   ]
  },
  {
   "cell_type": "code",
   "execution_count": 74,
   "metadata": {},
   "outputs": [],
   "source": [
    "downtime_el_wm.rename(columns={0:'weighted_downtime'},inplace=True)\n",
    "downtime_el_wm.weighted_downtime = 1-downtime_el_wm.weighted_downtime"
   ]
  },
  {
   "cell_type": "code",
   "execution_count": 75,
   "metadata": {},
   "outputs": [
    {
     "data": {
      "text/plain": [
       "[(0.8, 1)]"
      ]
     },
     "execution_count": 75,
     "metadata": {},
     "output_type": "execute_result"
    },
    {
     "data": {
      "image/png": "[encoded data removed]",
      "text/plain": [
       "<Figure size 432x288 with 1 Axes>"
      ]
     },
     "metadata": {},
     "output_type": "display_data"
    }
   ],
   "source": [
    "sns.set(style=\"whitegrid\")\n",
    "sns.lineplot(x=downtime_el_wm.datetime,y=downtime_el_wm.weighted_downtime).set(ylim=(0.8,1))"
   ]
  },
  {
   "cell_type": "code",
   "execution_count": 76,
   "metadata": {},
   "outputs": [],
   "source": [
    "downtime_el_m = downtime_el_m.merge(downtime_el_wm,on=\"datetime\")"
   ]
  },
  {
   "cell_type": "code",
   "execution_count": 94,
   "metadata": {},
   "outputs": [],
   "source": [
    "downtime_el_m.rename(columns={\"downtime\":\"DataClinic-uptime\",\"MTA\":\"MTA-uptime\",\"weighted_downtime\":\"people_weighted_uptime\"},inplace=True)"
   ]
  },
  {
   "cell_type": "code",
   "execution_count": 91,
   "metadata": {},
   "outputs": [],
   "source": [
    "downtime_el_m[\"MTA\"] = [0.938,0.957,0.962,0.949,0.961,0.958,0.953,0.924,0.947,0.949,0.952,0.955]"
   ]
  },
  {
   "cell_type": "code",
   "execution_count": 95,
   "metadata": {},
   "outputs": [
    {
     "data": {
      "text/html": [
       "<div>\n",
       "<style scoped>\n",
       "    .dataframe tbody tr th:only-of-type {\n",
       "        vertical-align: middle;\n",
       "    }\n",
       "\n",
       "    .dataframe tbody tr th {\n",
       "        vertical-align: top;\n",
       "    }\n",
       "\n",
       "    .dataframe thead th {\n",
       "        text-align: right;\n",
       "    }\n",
       "</style>\n",
       "<table border=\"1\" class=\"dataframe\">\n",
       "  <thead>\n",
       "    <tr style=\"text-align: right;\">\n",
       "      <th></th>\n",
       "      <th>datetime</th>\n",
       "      <th>DataClinic-uptime</th>\n",
       "      <th>people_weighted_uptime</th>\n",
       "      <th>MTA-uptime</th>\n",
       "    </tr>\n",
       "  </thead>\n",
       "  <tbody>\n",
       "    <tr>\n",
       "      <th>0</th>\n",
       "      <td>1.0</td>\n",
       "      <td>0.937548</td>\n",
       "      <td>0.935232</td>\n",
       "      <td>0.938</td>\n",
       "    </tr>\n",
       "    <tr>\n",
       "      <th>1</th>\n",
       "      <td>2.0</td>\n",
       "      <td>0.939519</td>\n",
       "      <td>0.931546</td>\n",
       "      <td>0.957</td>\n",
       "    </tr>\n",
       "    <tr>\n",
       "      <th>2</th>\n",
       "      <td>3.0</td>\n",
       "      <td>0.907971</td>\n",
       "      <td>0.891029</td>\n",
       "      <td>0.962</td>\n",
       "    </tr>\n",
       "    <tr>\n",
       "      <th>3</th>\n",
       "      <td>4.0</td>\n",
       "      <td>0.915733</td>\n",
       "      <td>0.903967</td>\n",
       "      <td>0.949</td>\n",
       "    </tr>\n",
       "    <tr>\n",
       "      <th>4</th>\n",
       "      <td>5.0</td>\n",
       "      <td>0.928849</td>\n",
       "      <td>0.926489</td>\n",
       "      <td>0.961</td>\n",
       "    </tr>\n",
       "  </tbody>\n",
       "</table>\n",
       "</div>"
      ],
      "text/plain": [
       "   datetime  DataClinic-uptime  people_weighted_uptime  MTA-uptime\n",
       "0       1.0           0.937548                0.935232       0.938\n",
       "1       2.0           0.939519                0.931546       0.957\n",
       "2       3.0           0.907971                0.891029       0.962\n",
       "3       4.0           0.915733                0.903967       0.949\n",
       "4       5.0           0.928849                0.926489       0.961"
      ]
     },
     "execution_count": 95,
     "metadata": {},
     "output_type": "execute_result"
    }
   ],
   "source": [
    "downtime_el_m.head()"
   ]
  },
  {
   "cell_type": "code",
   "execution_count": 97,
   "metadata": {},
   "outputs": [
    {
     "data": {
      "text/plain": [
       "[(0.8, 1)]"
      ]
     },
     "execution_count": 97,
     "metadata": {},
     "output_type": "execute_result"
    },
    {
     "data": {
      "image/png": "[encoded data removed]",
      "text/plain": [
       "<Figure size 720x468 with 1 Axes>"
      ]
     },
     "metadata": {},
     "output_type": "display_data"
    }
   ],
   "source": [
    "fig, ax = plt.subplots(figsize=(10,6.5))\n",
    "sns.set(style=\"whitegrid\")\n",
    "sns.lineplot(data=downtime_el_m[[\"MTA-uptime\",\"DataClinic-uptime\",\"people_weighted_uptime\"]], palette=\"tab10\", linewidth=2.5,size=15).set(ylim=(0.8,1))\n"
   ]
  },
  {
   "cell_type": "code",
   "execution_count": 122,
   "metadata": {},
   "outputs": [],
   "source": [
    "downtime_el_m = df_new.groupby([df_new.index.month,'station_name']).sum()['Percentage'].div(df_new.groupby([df_new.index.month,'station_name']).count()['Percentage'])"
   ]
  },
  {
   "cell_type": "code",
   "execution_count": 123,
   "metadata": {},
   "outputs": [],
   "source": [
    "downtime_el_m = downtime_el_m.to_frame().reset_index()"
   ]
  },
  {
   "cell_type": "code",
   "execution_count": 128,
   "metadata": {},
   "outputs": [
    {
     "data": {
      "text/plain": [
       "<matplotlib.axes._subplots.AxesSubplot at 0x7fc73fd9ce80>"
      ]
     },
     "execution_count": 128,
     "metadata": {},
     "output_type": "execute_result"
    },
    {
     "data": {
      "image/png": "[encoded data removed]",
      "text/plain": [
       "<Figure size 432x288 with 1 Axes>"
      ]
     },
     "metadata": {},
     "output_type": "display_data"
    }
   ],
   "source": [
    "downtime_el_m.groupby('station_name').sum()['Percentage'].sort_values(ascending=False).head(10).plot.barh()"
   ]
  },
  {
   "cell_type": "code",
   "execution_count": 129,
   "metadata": {},
   "outputs": [],
   "source": [
    "df_new['flow_abs'] = df_new['entry_diff_abs'] +df_new['exit_diff_abs']\n",
    "df_new['weighted_downtime'] = df_new['flow_abs'] * df_new['Percentage']"
   ]
  },
  {
   "cell_type": "code",
   "execution_count": 138,
   "metadata": {},
   "outputs": [
    {
     "data": {
      "text/plain": [
       "<matplotlib.axes._subplots.AxesSubplot at 0x7fc74610fb38>"
      ]
     },
     "execution_count": 138,
     "metadata": {},
     "output_type": "execute_result"
    },
    {
     "data": {
      "image/png": "[encoded data removed]",
      "text/plain": [
       "<Figure size 432x288 with 1 Axes>"
      ]
     },
     "metadata": {},
     "output_type": "display_data"
    }
   ],
   "source": [
    "downtime_el_m = df_new.groupby([df_new.index.month,'station_name']).sum()['weighted_downtime'].div(df_new.groupby([df_new.index.month,'station_name']).count()['flow_abs'])\n",
    "downtime_el_m = downtime_el_m.to_frame().reset_index()\n",
    "downtime_el_m.rename(columns={0:'weighted_downtime'},inplace=True)\n",
    "# downtime_el_m.head()\n",
    "downtime_el_m.groupby('station_name').sum()['weighted_downtime'].sort_values(ascending=False).head(10).plot.barh()"
   ]
  },
  {
   "cell_type": "code",
   "execution_count": 125,
   "metadata": {},
   "outputs": [
    {
     "data": {
      "text/plain": [
       "<matplotlib.axes._subplots.AxesSubplot at 0x7fc747d9fdd8>"
      ]
     },
     "execution_count": 125,
     "metadata": {},
     "output_type": "execute_result"
    },
    {
     "data": {
      "image/png": "[encoded data removed]",
      "text/plain": [
       "<Figure size 432x288 with 1 Axes>"
      ]
     },
     "metadata": {},
     "output_type": "display_data"
    }
   ],
   "source": [
    "sns.lineplot(data=downtime_el_m,x='datetime',y='Percentage',hue='station_name')"
   ]
  },
  {
   "cell_type": "code",
   "execution_count": 3,
   "metadata": {},
   "outputs": [],
   "source": [
    "df_interpolated = pd.read_pickle('../../data/cache/interpolated_turnstile.pkl.gz')"
   ]
  },
  {
   "cell_type": "code",
   "execution_count": 6,
   "metadata": {},
   "outputs": [
    {
     "data": {
      "text/plain": [
       "8760"
      ]
     },
     "execution_count": 6,
     "metadata": {},
     "output_type": "execute_result"
    }
   ],
   "source": [
    "len(df_interpolated.index.unique())"
   ]
  },
  {
   "cell_type": "code",
   "execution_count": 14,
   "metadata": {},
   "outputs": [
    {
     "data": {
      "text/plain": [
       "(834, 10)"
      ]
     },
     "execution_count": 14,
     "metadata": {},
     "output_type": "execute_result"
    }
   ],
   "source": [
    "unique_remotes = "
   ]
  },
  {
   "cell_type": "code",
   "execution_count": 16,
   "metadata": {},
   "outputs": [],
   "source": [
    "outages = pd.read_csv('../../data/processed/outages.csv.gz')"
   ]
  },
  {
   "cell_type": "code",
   "execution_count": 19,
   "metadata": {},
   "outputs": [],
   "source": [
    "outages.Date = pd.to_datetime(outages.Date)"
   ]
  },
  {
   "cell_type": "code",
   "execution_count": 23,
   "metadata": {},
   "outputs": [
    {
     "data": {
      "text/plain": [
       "<matplotlib.axes._subplots.AxesSubplot at 0x7fb3ac693e10>"
      ]
     },
     "execution_count": 23,
     "metadata": {},
     "output_type": "execute_result"
    },
    {
     "data": {
      "image/png": "[encoded data removed]",
      "text/plain": [
       "<Figure size 432x288 with 1 Axes>"
      ]
     },
     "metadata": {
      "needs_background": "light"
     },
     "output_type": "display_data"
    }
   ],
   "source": [
    "outages.groupby(pd.DatetimeIndex(outages.Date).hour).sum()['duration_h'].plot()"
   ]
  },
  {
   "cell_type": "code",
   "execution_count": 57,
   "metadata": {},
   "outputs": [],
   "source": [
    "out = pd.read_csv('../../data/processed/2019_outages.csv.gz')"
   ]
  },
  {
   "cell_type": "code",
   "execution_count": 58,
   "metadata": {},
   "outputs": [
    {
     "data": {
      "text/plain": [
       "False    55083\n",
       "True      1395\n",
       "Name: planned_outage, dtype: int64"
      ]
     },
     "execution_count": 58,
     "metadata": {},
     "output_type": "execute_result"
    }
   ],
   "source": [
    "out.planned_outage.value_counts()"
   ]
  },
  {
   "cell_type": "code",
   "execution_count": 55,
   "metadata": {},
   "outputs": [],
   "source": [
    "out['outage_start'] = pd.to_datetime(np.where(out.planned_outage == True, out['planned_start_time'], out['Date']), format='%Y-%m-%d %H:%M:%S')\n",
    "out['outage_end'] = pd.to_datetime(out['next_alert_time'], format='%Y-%m-%d %H:%M:%S')"
   ]
  },
  {
   "cell_type": "code",
   "execution_count": 56,
   "metadata": {},
   "outputs": [
    {
     "data": {
      "text/plain": [
       "Unnamed: 0                            int64\n",
       "Date                                 object\n",
       "Agency                               object\n",
       "Subject                              object\n",
       "Message Sent                         object\n",
       "equipment_no_from_subject            object\n",
       "equipment_no_from_message            object\n",
       "outage                                 bool\n",
       "back_in_service                        bool\n",
       "planned_outage                         bool\n",
       "planned_start_time                  float64\n",
       "planned_end_time                    float64\n",
       "equipment_type                       object\n",
       "alert_type                           object\n",
       "planned_start_date                   object\n",
       "planned_end_date                     object\n",
       "station_name                         object\n",
       "name_and_eid                         object\n",
       "next_alert_time                      object\n",
       "next_alert_type                      object\n",
       "duration_h                          float64\n",
       "next_alert_subject                   object\n",
       "next_alert_message                   object\n",
       "outage_start                 datetime64[ns]\n",
       "outage_end                   datetime64[ns]\n",
       "dtype: object"
      ]
     },
     "execution_count": 56,
     "metadata": {},
     "output_type": "execute_result"
    }
   ],
   "source": [
    "out.dtypes"
   ]
  },
  {
   "cell_type": "code",
   "execution_count": 32,
   "metadata": {},
   "outputs": [
    {
     "data": {
      "text/plain": [
       "False    55083\n",
       "True      1395\n",
       "Name: planned_outage, dtype: int64"
      ]
     },
     "execution_count": 32,
     "metadata": {},
     "output_type": "execute_result"
    }
   ],
   "source": [
    "out.planned_outage.value_counts()"
   ]
  },
  {
   "cell_type": "code",
   "execution_count": 36,
   "metadata": {},
   "outputs": [],
   "source": [
    "import datetime"
   ]
  },
  {
   "cell_type": "code",
   "execution_count": 39,
   "metadata": {},
   "outputs": [],
   "source": [
    "def test_generate_hourly_outage(outages: pd.DataFrame) -> pd.DataFrame:\n",
    "    '''\n",
    "    Create hourly outage percentage data for each outage in the input\n",
    "    '''\n",
    "    print(\"Generate hourly outgage...\")\n",
    "    outages['Outage start'] = pd.to_datetime(np.where(outages.planned_outage == True, outages['planned_start_date'], \\\n",
    "        outages['Date']), format='%Y-%m-%d %H:%M:%S')\n",
    "    outages['Outage end'] = pd.to_datetime(outages['next_alert_time'], format='%Y-%m-%d %H:%M:%S')\n",
    "    results = []\n",
    "    for i, row in outages.iterrows():\n",
    "        print(row.planned_outage)\n",
    "        start = row['Outage start']\n",
    "        end = row['Outage end']\n",
    "        t = start\n",
    "        while t <= end:\n",
    "            outage_percentage = 0\n",
    "            if t.hour == start.hour:\n",
    "                outage_percentage = (t.ceil('H') - t).total_seconds() / 3600\n",
    "            elif t.hour == end.hour:\n",
    "                outage_percentage = (t - t.floor('H')).total_seconds() / 3600\n",
    "            else:\n",
    "                outage_percentage = 1.0\n",
    "            print(row.planned_outage)\n",
    "            results.append([t.floor('H'), outage_percentage, row['equipment_no_from_message'], row['planned_outage'],\n",
    "                            row['station_name'], row['equipment_type']])\n",
    "            t += datetime.timedelta(hours=1)\n",
    "    return pd.DataFrame(results, columns=['Time', 'Percentage', \"Equipment Number\", 'Planned Outage',\n",
    "                                         'Station Name', 'Equipment Type'])"
   ]
  },
  {
   "cell_type": "code",
   "execution_count": 59,
   "metadata": {},
   "outputs": [
    {
     "data": {
      "text/plain": [
       "(1395, 23)"
      ]
     },
     "execution_count": 59,
     "metadata": {},
     "output_type": "execute_result"
    }
   ],
   "source": [
    "pl_out = out[out.planned_outage==True]\n",
    "pl_out.shape"
   ]
  },
  {
   "cell_type": "code",
   "execution_count": 61,
   "metadata": {},
   "outputs": [
    {
     "name": "stderr",
     "output_type": "stream",
     "text": [
      "/opt/conda/envs/py3/lib/python3.6/site-packages/ipykernel_launcher.py:1: SettingWithCopyWarning: \n",
      "A value is trying to be set on a copy of a slice from a DataFrame.\n",
      "Try using .loc[row_indexer,col_indexer] = value instead\n",
      "\n",
      "See the caveats in the documentation: http://pandas.pydata.org/pandas-docs/stable/indexing.html#indexing-view-versus-copy\n",
      "  \"\"\"Entry point for launching an IPython kernel.\n",
      "/opt/conda/envs/py3/lib/python3.6/site-packages/ipykernel_launcher.py:2: SettingWithCopyWarning: \n",
      "A value is trying to be set on a copy of a slice from a DataFrame.\n",
      "Try using .loc[row_indexer,col_indexer] = value instead\n",
      "\n",
      "See the caveats in the documentation: http://pandas.pydata.org/pandas-docs/stable/indexing.html#indexing-view-versus-copy\n",
      "  \n"
     ]
    }
   ],
   "source": [
    "pl_out['Outage start'] = np.where(pl_out.planned_outage == True, pd.to_datetime(pl_out['planned_start_date']), pd.to_datetime(pl_out['Date'], format='%Y-%m-%d %H:%M:%S'))\n",
    "pl_out['Outage end'] = pd.to_datetime(pl_out['next_alert_time'], format='%Y-%m-%d %H:%M:%S')\n",
    "results = []"
   ]
  },
  {
   "cell_type": "code",
   "execution_count": 62,
   "metadata": {},
   "outputs": [
    {
     "data": {
      "text/html": [
       "<div>\n",
       "<style scoped>\n",
       "    .dataframe tbody tr th:only-of-type {\n",
       "        vertical-align: middle;\n",
       "    }\n",
       "\n",
       "    .dataframe tbody tr th {\n",
       "        vertical-align: top;\n",
       "    }\n",
       "\n",
       "    .dataframe thead th {\n",
       "        text-align: right;\n",
       "    }\n",
       "</style>\n",
       "<table border=\"1\" class=\"dataframe\">\n",
       "  <thead>\n",
       "    <tr style=\"text-align: right;\">\n",
       "      <th></th>\n",
       "      <th>Unnamed: 0</th>\n",
       "      <th>Date</th>\n",
       "      <th>Agency</th>\n",
       "      <th>Subject</th>\n",
       "      <th>Message Sent</th>\n",
       "      <th>equipment_no_from_subject</th>\n",
       "      <th>equipment_no_from_message</th>\n",
       "      <th>outage</th>\n",
       "      <th>back_in_service</th>\n",
       "      <th>planned_outage</th>\n",
       "      <th>...</th>\n",
       "      <th>planned_end_date</th>\n",
       "      <th>station_name</th>\n",
       "      <th>name_and_eid</th>\n",
       "      <th>next_alert_time</th>\n",
       "      <th>next_alert_type</th>\n",
       "      <th>duration_h</th>\n",
       "      <th>next_alert_subject</th>\n",
       "      <th>next_alert_message</th>\n",
       "      <th>Outage start</th>\n",
       "      <th>Outage end</th>\n",
       "    </tr>\n",
       "  </thead>\n",
       "  <tbody>\n",
       "    <tr>\n",
       "      <th>31</th>\n",
       "      <td>31</td>\n",
       "      <td>2019-07-08 14:10:19</td>\n",
       "      <td>NYC</td>\n",
       "      <td>Upcoming outage planned for Elevator at 191 St</td>\n",
       "      <td>Elevator EL103 is located Street to Mezzanine ...</td>\n",
       "      <td>NaN</td>\n",
       "      <td>EL103</td>\n",
       "      <td>True</td>\n",
       "      <td>False</td>\n",
       "      <td>True</td>\n",
       "      <td>...</td>\n",
       "      <td>2019-07-09 06:00:00</td>\n",
       "      <td>191 St</td>\n",
       "      <td>191 St EL103</td>\n",
       "      <td>2019-07-09 04:28:27</td>\n",
       "      <td>restore</td>\n",
       "      <td>5.474167</td>\n",
       "      <td>Elevator at 191 St is back in service (EL103)</td>\n",
       "      <td>Elevator EL103 is located Street to Mezzanine ...</td>\n",
       "      <td>NaT</td>\n",
       "      <td>2019-07-09 04:28:27</td>\n",
       "    </tr>\n",
       "    <tr>\n",
       "      <th>35</th>\n",
       "      <td>35</td>\n",
       "      <td>2019-07-22 07:10:30</td>\n",
       "      <td>NYC</td>\n",
       "      <td>Upcoming outage planned for Elevator at 191 St</td>\n",
       "      <td>Elevator EL103 is located Street to Mezzanine ...</td>\n",
       "      <td>NaN</td>\n",
       "      <td>EL103</td>\n",
       "      <td>True</td>\n",
       "      <td>False</td>\n",
       "      <td>True</td>\n",
       "      <td>...</td>\n",
       "      <td>2019-07-23 06:00:00</td>\n",
       "      <td>191 St</td>\n",
       "      <td>191 St EL103</td>\n",
       "      <td>2019-07-23 04:19:04</td>\n",
       "      <td>restore</td>\n",
       "      <td>5.317778</td>\n",
       "      <td>Elevator at 191 St is back in service (EL103)</td>\n",
       "      <td>Elevator EL103 is located Street to Mezzanine ...</td>\n",
       "      <td>NaT</td>\n",
       "      <td>2019-07-23 04:19:04</td>\n",
       "    </tr>\n",
       "    <tr>\n",
       "      <th>105</th>\n",
       "      <td>105</td>\n",
       "      <td>2019-07-23 11:58:43</td>\n",
       "      <td>NYC</td>\n",
       "      <td>Upcoming outage planned for Elevator at 191 St</td>\n",
       "      <td>Elevator EL104 is located Lower Mezzanine to S...</td>\n",
       "      <td>NaN</td>\n",
       "      <td>EL104</td>\n",
       "      <td>True</td>\n",
       "      <td>False</td>\n",
       "      <td>True</td>\n",
       "      <td>...</td>\n",
       "      <td>2019-07-24 06:00:00</td>\n",
       "      <td>191 St</td>\n",
       "      <td>191 St EL104</td>\n",
       "      <td>2019-07-24 04:17:18</td>\n",
       "      <td>restore</td>\n",
       "      <td>5.288333</td>\n",
       "      <td>Elevator at 191 St is back in service (EL104)</td>\n",
       "      <td>Elevator EL104 is located Lower Mezzanine to S...</td>\n",
       "      <td>NaT</td>\n",
       "      <td>2019-07-24 04:17:18</td>\n",
       "    </tr>\n",
       "    <tr>\n",
       "      <th>263</th>\n",
       "      <td>263</td>\n",
       "      <td>2019-08-12 10:41:43</td>\n",
       "      <td>NYC</td>\n",
       "      <td>Upcoming outage planned for Elevator at 191 St</td>\n",
       "      <td>Elevator EL106 is located Lower Mezzanine to S...</td>\n",
       "      <td>NaN</td>\n",
       "      <td>EL106</td>\n",
       "      <td>True</td>\n",
       "      <td>False</td>\n",
       "      <td>True</td>\n",
       "      <td>...</td>\n",
       "      <td>2019-08-13 06:00:00</td>\n",
       "      <td>191 St</td>\n",
       "      <td>191 St EL106</td>\n",
       "      <td>2019-08-13 06:32:56</td>\n",
       "      <td>restore</td>\n",
       "      <td>7.548889</td>\n",
       "      <td>Elevator at 191 St is back in service (EL106)</td>\n",
       "      <td>Elevator EL106 is located Lower Mezzanine to S...</td>\n",
       "      <td>NaT</td>\n",
       "      <td>2019-08-13 06:32:56</td>\n",
       "    </tr>\n",
       "    <tr>\n",
       "      <th>335</th>\n",
       "      <td>335</td>\n",
       "      <td>2019-07-24 12:25:22</td>\n",
       "      <td>NYC</td>\n",
       "      <td>Upcoming outage planned for Elevator at 181 St</td>\n",
       "      <td>Elevator EL107 is located Lower Mezzanine and ...</td>\n",
       "      <td>NaN</td>\n",
       "      <td>EL107</td>\n",
       "      <td>True</td>\n",
       "      <td>False</td>\n",
       "      <td>True</td>\n",
       "      <td>...</td>\n",
       "      <td>2019-07-25 06:00:00</td>\n",
       "      <td>181 St</td>\n",
       "      <td>181 St EL107</td>\n",
       "      <td>2019-07-25 04:02:32</td>\n",
       "      <td>restore</td>\n",
       "      <td>5.042222</td>\n",
       "      <td>Elevator at 181 St is back in service (EL107)</td>\n",
       "      <td>Elevator EL107 is located Lower Mezzanine and ...</td>\n",
       "      <td>NaT</td>\n",
       "      <td>2019-07-25 04:02:32</td>\n",
       "    </tr>\n",
       "  </tbody>\n",
       "</table>\n",
       "<p>5 rows × 25 columns</p>\n",
       "</div>"
      ],
      "text/plain": [
       "     Unnamed: 0                 Date Agency  \\\n",
       "31           31  2019-07-08 14:10:19    NYC   \n",
       "35           35  2019-07-22 07:10:30    NYC   \n",
       "105         105  2019-07-23 11:58:43    NYC   \n",
       "263         263  2019-08-12 10:41:43    NYC   \n",
       "335         335  2019-07-24 12:25:22    NYC   \n",
       "\n",
       "                                            Subject  \\\n",
       "31   Upcoming outage planned for Elevator at 191 St   \n",
       "35   Upcoming outage planned for Elevator at 191 St   \n",
       "105  Upcoming outage planned for Elevator at 191 St   \n",
       "263  Upcoming outage planned for Elevator at 191 St   \n",
       "335  Upcoming outage planned for Elevator at 181 St   \n",
       "\n",
       "                                          Message Sent  \\\n",
       "31   Elevator EL103 is located Street to Mezzanine ...   \n",
       "35   Elevator EL103 is located Street to Mezzanine ...   \n",
       "105  Elevator EL104 is located Lower Mezzanine to S...   \n",
       "263  Elevator EL106 is located Lower Mezzanine to S...   \n",
       "335  Elevator EL107 is located Lower Mezzanine and ...   \n",
       "\n",
       "    equipment_no_from_subject equipment_no_from_message  outage  \\\n",
       "31                        NaN                     EL103    True   \n",
       "35                        NaN                     EL103    True   \n",
       "105                       NaN                     EL104    True   \n",
       "263                       NaN                     EL106    True   \n",
       "335                       NaN                     EL107    True   \n",
       "\n",
       "     back_in_service  planned_outage  ...     planned_end_date  station_name  \\\n",
       "31             False            True  ...  2019-07-09 06:00:00        191 St   \n",
       "35             False            True  ...  2019-07-23 06:00:00        191 St   \n",
       "105            False            True  ...  2019-07-24 06:00:00        191 St   \n",
       "263            False            True  ...  2019-08-13 06:00:00        191 St   \n",
       "335            False            True  ...  2019-07-25 06:00:00        181 St   \n",
       "\n",
       "     name_and_eid      next_alert_time next_alert_type duration_h  \\\n",
       "31   191 St EL103  2019-07-09 04:28:27         restore   5.474167   \n",
       "35   191 St EL103  2019-07-23 04:19:04         restore   5.317778   \n",
       "105  191 St EL104  2019-07-24 04:17:18         restore   5.288333   \n",
       "263  191 St EL106  2019-08-13 06:32:56         restore   7.548889   \n",
       "335  181 St EL107  2019-07-25 04:02:32         restore   5.042222   \n",
       "\n",
       "                                next_alert_subject  \\\n",
       "31   Elevator at 191 St is back in service (EL103)   \n",
       "35   Elevator at 191 St is back in service (EL103)   \n",
       "105  Elevator at 191 St is back in service (EL104)   \n",
       "263  Elevator at 191 St is back in service (EL106)   \n",
       "335  Elevator at 181 St is back in service (EL107)   \n",
       "\n",
       "                                    next_alert_message Outage start  \\\n",
       "31   Elevator EL103 is located Street to Mezzanine ...          NaT   \n",
       "35   Elevator EL103 is located Street to Mezzanine ...          NaT   \n",
       "105  Elevator EL104 is located Lower Mezzanine to S...          NaT   \n",
       "263  Elevator EL106 is located Lower Mezzanine to S...          NaT   \n",
       "335  Elevator EL107 is located Lower Mezzanine and ...          NaT   \n",
       "\n",
       "             Outage end  \n",
       "31  2019-07-09 04:28:27  \n",
       "35  2019-07-23 04:19:04  \n",
       "105 2019-07-24 04:17:18  \n",
       "263 2019-08-13 06:32:56  \n",
       "335 2019-07-25 04:02:32  \n",
       "\n",
       "[5 rows x 25 columns]"
      ]
     },
     "execution_count": 62,
     "metadata": {},
     "output_type": "execute_result"
    }
   ],
   "source": [
    "pl_out.head()"
   ]
  },
  {
   "cell_type": "code",
   "execution_count": 51,
   "metadata": {},
   "outputs": [],
   "source": [
    "row = pl_out.iloc[0]"
   ]
  },
  {
   "cell_type": "code",
   "execution_count": 52,
   "metadata": {},
   "outputs": [
    {
     "data": {
      "text/plain": [
       "Unnamed: 0                                                                  31\n",
       "Date                                                       2019-07-08 14:10:19\n",
       "Agency                                                                     NYC\n",
       "Subject                         Upcoming outage planned for Elevator at 191 St\n",
       "Message Sent                 Elevator EL103 is located Street to Mezzanine ...\n",
       "equipment_no_from_subject                                                  NaN\n",
       "equipment_no_from_message                                                EL103\n",
       "outage                                                                    True\n",
       "back_in_service                                                          False\n",
       "planned_outage                                                            True\n",
       "planned_start_time                                                         NaN\n",
       "planned_end_time                                                           NaN\n",
       "equipment_type                                                        elevator\n",
       "alert_type                                                             planned\n",
       "planned_start_date                                         2019-07-08 23:00:00\n",
       "planned_end_date                                           2019-07-09 06:00:00\n",
       "station_name                                                            191 St\n",
       "name_and_eid                                                      191 St EL103\n",
       "next_alert_time                                            2019-07-09 04:28:27\n",
       "next_alert_type                                                        restore\n",
       "duration_h                                                             5.47417\n",
       "next_alert_subject               Elevator at 191 St is back in service (EL103)\n",
       "next_alert_message           Elevator EL103 is located Street to Mezzanine ...\n",
       "Outage start                                                               NaT\n",
       "Outage end                                                 2019-07-09 04:28:27\n",
       "Name: 31, dtype: object"
      ]
     },
     "execution_count": 52,
     "metadata": {},
     "output_type": "execute_result"
    }
   ],
   "source": [
    "row"
   ]
  },
  {
   "cell_type": "code",
   "execution_count": 63,
   "metadata": {},
   "outputs": [
    {
     "data": {
      "text/plain": [
       "'2019-07-08 23:00:00'"
      ]
     },
     "execution_count": 63,
     "metadata": {},
     "output_type": "execute_result"
    }
   ],
   "source": [
    "row.planned_start_date"
   ]
  },
  {
   "cell_type": "code",
   "execution_count": 65,
   "metadata": {},
   "outputs": [
    {
     "data": {
      "text/plain": [
       "Unnamed: 0                            int64\n",
       "Date                                 object\n",
       "Agency                               object\n",
       "Subject                              object\n",
       "Message Sent                         object\n",
       "equipment_no_from_subject            object\n",
       "equipment_no_from_message            object\n",
       "outage                                 bool\n",
       "back_in_service                        bool\n",
       "planned_outage                         bool\n",
       "planned_start_time                  float64\n",
       "planned_end_time                    float64\n",
       "equipment_type                       object\n",
       "alert_type                           object\n",
       "planned_start_date                   object\n",
       "planned_end_date                     object\n",
       "station_name                         object\n",
       "name_and_eid                         object\n",
       "next_alert_time                      object\n",
       "next_alert_type                      object\n",
       "duration_h                          float64\n",
       "next_alert_subject                   object\n",
       "next_alert_message                   object\n",
       "Outage start                 datetime64[ns]\n",
       "Outage end                   datetime64[ns]\n",
       "dtype: object"
      ]
     },
     "execution_count": 65,
     "metadata": {},
     "output_type": "execute_result"
    }
   ],
   "source": [
    "pl_out.dtypes"
   ]
  },
  {
   "cell_type": "code",
   "execution_count": null,
   "metadata": {},
   "outputs": [],
   "source": [
    "pl_out.planned_start_date"
   ]
  }
 ],
 "metadata": {
  "alphastudio": {
   "as_jupyter_image_name": "gcr.io/ts-quantsource/as-jupyter-v6",
   "as_jupyter_image_tag": "d5a24e10cdf2"
  },
  "kernelspec": {
   "display_name": "Python 3",
   "language": "python",
   "name": "python3"
  },
  "language_info": {
   "codemirror_mode": {
    "name": "ipython",
    "version": 3
   },
   "file_extension": ".py",
   "mimetype": "text/x-python",
   "name": "python",
   "nbconvert_exporter": "python",
   "pygments_lexer": "ipython3",
   "version": "3.6.9"
  }
 },
 "nbformat": 4,
 "nbformat_minor": 2
}
