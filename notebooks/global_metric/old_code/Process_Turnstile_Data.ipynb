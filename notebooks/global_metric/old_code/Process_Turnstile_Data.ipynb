{
 "cells": [
  {
   "cell_type": "code",
   "execution_count": 1,
   "metadata": {},
   "outputs": [],
   "source": [
    "import pandas as pd"
   ]
  },
  {
   "cell_type": "code",
   "execution_count": 3,
   "metadata": {},
   "outputs": [],
   "source": [
    "DATA_DIR = '/nas/dft/ire/stuartlynn/MTA_ACCESSIBILITY/MTAAlertScraper-master/data/'\n",
    "turnstile_2018 = pd.read_pickle(DATA_DIR+\"turnstile_2018.pkl.gz\")\n",
    "turnstile_2019 = pd.read_pickle(DATA_DIR+\"turnstile_2019.pkl.gz\")\n",
    "turnstile = pd.concat([turnstile_2018,turnstile_2019])"
   ]
  },
  {
   "cell_type": "code",
   "execution_count": 12,
   "metadata": {},
   "outputs": [
    {
     "data": {
      "text/plain": [
       "(('R001', '00-00-00'),\n",
       "          UNIT DIVISION     DESC   C/A LINENAME          STATION  \\\n",
       " 10633    R001      BMT  REGULAR  A060      R1W  WHITEHALL S-FRY   \n",
       " 10634    R001      BMT  REGULAR  A060      R1W  WHITEHALL S-FRY   \n",
       " 10635    R001      BMT  REGULAR  A060      R1W  WHITEHALL S-FRY   \n",
       " 10636    R001      BMT  REGULAR  A060      R1W  WHITEHALL S-FRY   \n",
       " 10637    R001      BMT  REGULAR  A060      R1W  WHITEHALL S-FRY   \n",
       " 10638    R001      BMT  REGULAR  A060      R1W  WHITEHALL S-FRY   \n",
       " 10639    R001      BMT  REGULAR  A060      R1W  WHITEHALL S-FRY   \n",
       " 10640    R001      BMT  REGULAR  A060      R1W  WHITEHALL S-FRY   \n",
       " 10641    R001      BMT  REGULAR  A060      R1W  WHITEHALL S-FRY   \n",
       " 10642    R001      BMT  REGULAR  A060      R1W  WHITEHALL S-FRY   \n",
       " 10643    R001      BMT  REGULAR  A060      R1W  WHITEHALL S-FRY   \n",
       " 10644    R001      BMT  REGULAR  A060      R1W  WHITEHALL S-FRY   \n",
       " 10645    R001      BMT  REGULAR  A060      R1W  WHITEHALL S-FRY   \n",
       " 10646    R001      BMT  REGULAR  A060      R1W  WHITEHALL S-FRY   \n",
       " 10647    R001      BMT  REGULAR  A060      R1W  WHITEHALL S-FRY   \n",
       " 10648    R001      BMT  REGULAR  A060      R1W  WHITEHALL S-FRY   \n",
       " 10649    R001      BMT  REGULAR  A060      R1W  WHITEHALL S-FRY   \n",
       " 10650    R001      BMT  REGULAR  A060      R1W  WHITEHALL S-FRY   \n",
       " 10651    R001      BMT  REGULAR  A060      R1W  WHITEHALL S-FRY   \n",
       " 10652    R001      BMT  REGULAR  A060      R1W  WHITEHALL S-FRY   \n",
       " 10653    R001      BMT  REGULAR  A060      R1W  WHITEHALL S-FRY   \n",
       " 10654    R001      BMT  REGULAR  A060      R1W  WHITEHALL S-FRY   \n",
       " 10655    R001      BMT  REGULAR  A060      R1W  WHITEHALL S-FRY   \n",
       " 10656    R001      BMT  REGULAR  A060      R1W  WHITEHALL S-FRY   \n",
       " 10657    R001      BMT  REGULAR  A060      R1W  WHITEHALL S-FRY   \n",
       " 10658    R001      BMT  REGULAR  A060      R1W  WHITEHALL S-FRY   \n",
       " 10659    R001      BMT  REGULAR  A060      R1W  WHITEHALL S-FRY   \n",
       " 10660    R001      BMT  REGULAR  A060      R1W  WHITEHALL S-FRY   \n",
       " 10661    R001      BMT  REGULAR  A060      R1W  WHITEHALL S-FRY   \n",
       " 10662    R001      BMT  REGULAR  A060      R1W  WHITEHALL S-FRY   \n",
       " ...       ...      ...      ...   ...      ...              ...   \n",
       " 9450168  R001      BMT  REGULAR  A060      R1W  WHITEHALL S-FRY   \n",
       " 9450169  R001      BMT  REGULAR  A060      R1W  WHITEHALL S-FRY   \n",
       " 9450170  R001      BMT  REGULAR  A060      R1W  WHITEHALL S-FRY   \n",
       " 9450171  R001      BMT  REGULAR  A060      R1W  WHITEHALL S-FRY   \n",
       " 9450172  R001      BMT  REGULAR  A060      R1W  WHITEHALL S-FRY   \n",
       " 9450173  R001      BMT  REGULAR  A060      R1W  WHITEHALL S-FRY   \n",
       " 9450174  R001      BMT  REGULAR  A060      R1W  WHITEHALL S-FRY   \n",
       " 9450175  R001      BMT  REGULAR  A060      R1W  WHITEHALL S-FRY   \n",
       " 9450176  R001      BMT  REGULAR  A060      R1W  WHITEHALL S-FRY   \n",
       " 9450177  R001      BMT  REGULAR  A060      R1W  WHITEHALL S-FRY   \n",
       " 9450178  R001      BMT  REGULAR  A060      R1W  WHITEHALL S-FRY   \n",
       " 9450179  R001      BMT  REGULAR  A060      R1W  WHITEHALL S-FRY   \n",
       " 9450180  R001      BMT  REGULAR  A060      R1W  WHITEHALL S-FRY   \n",
       " 9450181  R001      BMT  REGULAR  A060      R1W  WHITEHALL S-FRY   \n",
       " 9450182  R001      BMT  REGULAR  A060      R1W  WHITEHALL S-FRY   \n",
       " 9450183  R001      BMT  REGULAR  A060      R1W  WHITEHALL S-FRY   \n",
       " 9450184  R001      BMT  REGULAR  A060      R1W  WHITEHALL S-FRY   \n",
       " 9450185  R001      BMT  REGULAR  A060      R1W  WHITEHALL S-FRY   \n",
       " 9450186  R001      BMT  REGULAR  A060      R1W  WHITEHALL S-FRY   \n",
       " 9450187  R001      BMT  REGULAR  A060      R1W  WHITEHALL S-FRY   \n",
       " 9450188  R001      BMT  REGULAR  A060      R1W  WHITEHALL S-FRY   \n",
       " 9450189  R001      BMT  REGULAR  A060      R1W  WHITEHALL S-FRY   \n",
       " 9450190  R001      BMT  REGULAR  A060      R1W  WHITEHALL S-FRY   \n",
       " 9450191  R001      BMT  REGULAR  A060      R1W  WHITEHALL S-FRY   \n",
       " 9450192  R001      BMT  REGULAR  A060      R1W  WHITEHALL S-FRY   \n",
       " 9450193  R001      BMT  REGULAR  A060      R1W  WHITEHALL S-FRY   \n",
       " 9450194  R001      BMT  REGULAR  A060      R1W  WHITEHALL S-FRY   \n",
       " 9450195  R001      BMT  REGULAR  A060      R1W  WHITEHALL S-FRY   \n",
       " 9450196  R001      BMT  REGULAR  A060      R1W  WHITEHALL S-FRY   \n",
       " 9450197  R001      BMT  REGULAR  A060      R1W  WHITEHALL S-FRY   \n",
       " \n",
       "                    datetime  ENTRIES    EXITS       SCP  \n",
       " 10633   2018-12-22 00:00:00  3944472  2500445  00-00-00  \n",
       " 10634   2018-12-22 04:00:00  3944553  2500478  00-00-00  \n",
       " 10635   2018-12-22 08:00:00  3944719  2500518  00-00-00  \n",
       " 10636   2018-12-22 12:00:00  3945072  2500659  00-00-00  \n",
       " 10637   2018-12-22 16:00:00  3945628  2500892  00-00-00  \n",
       " 10638   2018-12-22 20:00:00  3946139  2501087  00-00-00  \n",
       " 10639   2018-12-23 00:00:00  3946370  2501212  00-00-00  \n",
       " 10640   2018-12-23 04:00:00  3946451  2501256  00-00-00  \n",
       " 10641   2018-12-23 08:00:00  3946575  2501278  00-00-00  \n",
       " 10642   2018-12-23 12:00:00  3946880  2501363  00-00-00  \n",
       " 10643   2018-12-23 16:00:00  3947423  2501585  00-00-00  \n",
       " 10644   2018-12-23 20:00:00  3947948  2501731  00-00-00  \n",
       " 10645   2018-12-24 00:00:00  3948170  2501860  00-00-00  \n",
       " 10646   2018-12-24 04:00:00  3948232  2501893  00-00-00  \n",
       " 10647   2018-12-24 08:00:00  3948552  2501939  00-00-00  \n",
       " 10648   2018-12-24 12:00:00  3949034  2502093  00-00-00  \n",
       " 10649   2018-12-24 16:00:00  3949781  2502270  00-00-00  \n",
       " 10650   2018-12-24 20:00:00  3950355  2502436  00-00-00  \n",
       " 10651   2018-12-25 00:00:00  3950507  2502527  00-00-00  \n",
       " 10652   2018-12-25 04:00:00  3950550  2502555  00-00-00  \n",
       " 10653   2018-12-25 08:00:00  3950644  2502567  00-00-00  \n",
       " 10654   2018-12-25 12:00:00  3950861  2502656  00-00-00  \n",
       " 10655   2018-12-25 16:00:00  3951285  2502769  00-00-00  \n",
       " 10656   2018-12-25 20:00:00  3951803  2502885  00-00-00  \n",
       " 10657   2018-12-26 00:00:00  3952021  2502971  00-00-00  \n",
       " 10658   2018-12-26 04:00:00  3952069  2503004  00-00-00  \n",
       " 10659   2018-12-26 08:00:00  3952421  2503078  00-00-00  \n",
       " 10660   2018-12-26 12:00:00  3953125  2503286  00-00-00  \n",
       " 10661   2018-12-26 16:00:00  3953925  2503507  00-00-00  \n",
       " 10662   2018-12-26 20:00:00  3955011  2503803  00-00-00  \n",
       " ...                     ...      ...      ...       ...  \n",
       " 9450168 2018-12-31 00:00:00  3966374  2507470  00-00-00  \n",
       " 9450169 2018-12-31 04:00:00  3966439  2507498  00-00-00  \n",
       " 9450170 2018-12-31 08:00:00  3966779  2507542  00-00-00  \n",
       " 9450171 2018-12-31 12:00:00  3967332  2507734  00-00-00  \n",
       " 9450172 2018-12-31 16:00:00  3968183  2507913  00-00-00  \n",
       " 9450173 2018-12-31 20:00:00  3968902  2508110  00-00-00  \n",
       " 9450174 2019-01-01 00:00:00  3969136  2508177  00-00-00  \n",
       " 9450175 2019-01-01 04:00:00  3969238  2508240  00-00-00  \n",
       " 9450176 2019-01-01 08:00:00  3969334  2508265  00-00-00  \n",
       " 9450177 2019-01-01 12:00:00  3969594  2508359  00-00-00  \n",
       " 9450178 2019-01-01 16:00:00  3970134  2508486  00-00-00  \n",
       " 9450179 2019-01-01 20:00:00  3970736  2508581  00-00-00  \n",
       " 9450180 2019-01-02 00:00:00  3970895  2508653  00-00-00  \n",
       " 9450181 2019-01-02 04:00:00  3970943  2508683  00-00-00  \n",
       " 9450182 2019-01-02 08:00:00  3971459  2508763  00-00-00  \n",
       " 9450183 2019-01-02 12:00:00  3972301  2509193  00-00-00  \n",
       " 9450184 2019-01-02 16:00:00  3973085  2509365  00-00-00  \n",
       " 9450185 2019-01-02 20:00:00  3974530  2509710  00-00-00  \n",
       " 9450186 2019-01-03 00:00:00  3974814  2509828  00-00-00  \n",
       " 9450187 2019-01-03 04:00:00  3974882  2509870  00-00-00  \n",
       " 9450188 2019-01-03 08:00:00  3975368  2510002  00-00-00  \n",
       " 9450189 2019-01-03 12:00:00  3976255  2510394  00-00-00  \n",
       " 9450190 2019-01-03 16:00:00  3977031  2510601  00-00-00  \n",
       " 9450191 2019-01-03 20:00:00  3978557  2510863  00-00-00  \n",
       " 9450192 2019-01-04 00:00:00  3978849  2511004  00-00-00  \n",
       " 9450193 2019-01-04 04:00:00  3978934  2511031  00-00-00  \n",
       " 9450194 2019-01-04 08:00:00  3979478  2511123  00-00-00  \n",
       " 9450195 2019-01-04 12:00:00  3980293  2511470  00-00-00  \n",
       " 9450196 2019-01-04 16:00:00  3981051  2511668  00-00-00  \n",
       " 9450197 2019-01-04 20:00:00  3982468  2511892  00-00-00  \n",
       " \n",
       " [4232 rows x 10 columns])"
      ]
     },
     "execution_count": 12,
     "metadata": {},
     "output_type": "execute_result"
    }
   ],
   "source": [
    "list(turnstile.groupby(['UNIT','SCP']))[0]"
   ]
  },
  {
   "cell_type": "code",
   "execution_count": null,
   "metadata": {},
   "outputs": [],
   "source": [
    "turnstile =turnstile.set_index('datetime').sort_index()"
   ]
  },
  {
   "cell_type": "code",
   "execution_count": 38,
   "metadata": {},
   "outputs": [],
   "source": [
    "entry_diffs = turnstile.groupby(['UNIT','SCP'],as_index=False)['ENTRIES'].transform(pd.Series.diff)[\"ENTRIES\"]\n",
    "exit_diffs = turnstile.groupby(['UNIT','SCP'],as_index=False)['EXITS'].transform(pd.Series.diff)[\"EXITS\"]\n",
    "turnstile = turnstile.assign(entry_diff= entry_diffs, exit_diff = exit_diffs)"
   ]
  },
  {
   "cell_type": "code",
   "execution_count": 51,
   "metadata": {},
   "outputs": [],
   "source": [
    "diffs =  turnstile.groupby(['UNIT','SCP'],as_index=False)[['ENTRIES', 'EXITS']].transform(pd.Series.diff)"
   ]
  },
  {
   "cell_type": "code",
   "execution_count": 60,
   "metadata": {},
   "outputs": [],
   "source": [
    "turnstile = turnstile.assign(entry_diff = diffs.ENTRIES, exit_diff=diffs.EXITS).reset_index()"
   ]
  },
  {
   "cell_type": "code",
   "execution_count": null,
   "metadata": {},
   "outputs": [],
   "source": [
    "turnstile.to_pickle(DATA_DIR+\"turnstile.pkl.gz\")"
   ]
  },
  {
   "cell_type": "code",
   "execution_count": 62,
   "metadata": {},
   "outputs": [
    {
     "data": {
      "text/plain": [
       "3"
      ]
     },
     "execution_count": 62,
     "metadata": {},
     "output_type": "execute_result"
    }
   ],
   "source": [
    "3"
   ]
  },
  {
   "cell_type": "code",
   "execution_count": null,
   "metadata": {},
   "outputs": [],
   "source": []
  }
 ],
 "metadata": {
  "alphastudio": {
   "as_jupyter_image_name": "gcr.io/ts-quantsource/as-jupyter-v6",
   "as_jupyter_image_tag": "d5a24e10cdf2"
  },
  "kernelspec": {
   "display_name": "Python 3",
   "language": "python",
   "name": "python3"
  },
  "language_info": {
   "codemirror_mode": {
    "name": "ipython",
    "version": 3
   },
   "file_extension": ".py",
   "mimetype": "text/x-python",
   "name": "python",
   "nbconvert_exporter": "python",
   "pygments_lexer": "ipython3",
   "version": "3.6.9"
  },
  "toc": {
   "base_numbering": 1,
   "nav_menu": {},
   "number_sections": false,
   "sideBar": false,
   "skip_h1_title": false,
   "title_cell": "Table of Contents",
   "title_sidebar": "Contents",
   "toc_cell": false,
   "toc_position": {},
   "toc_section_display": false,
   "toc_window_display": false
  }
 },
 "nbformat": 4,
 "nbformat_minor": 2
}
