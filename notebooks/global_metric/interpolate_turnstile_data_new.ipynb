{
 "cells": [
  {
   "cell_type": "code",
   "execution_count": 1,
   "metadata": {},
   "outputs": [],
   "source": [
    "import pandas as pd \n",
    "#import geopandas as gp\n",
    "import numpy as np\n",
    "#import altair as alt \n",
    "#import gpdvega \n",
    "import json\n",
    "import matplotlib.pyplot as plt\n",
    "from ast import literal_eval\n",
    "#alt.renderers.enable('notebook') # render for Jupyter Notebook"
   ]
  },
  {
   "cell_type": "markdown",
   "metadata": {},
   "source": [
    "## Replace following variables with appropriate inputs"
   ]
  },
  {
   "cell_type": "code",
   "execution_count": 2,
   "metadata": {},
   "outputs": [],
   "source": [
    "TURNSTILE_TO_OUTAGE_DATA = '/nas/dft/ire/susanw/out/turnstile_to_outage_elevations.csv'\n",
    "TURNSTILE_RAW_DATA = '/nas/dft/ire/kmohan/hackday_2019_q4_mta_accessibility/data/turnstile_new.pkl.gz'\n",
    "START_DATE = '20190101'\n",
    "OUTPUT = '/nas/dft/ire/jujiang/DataClinic2019Q4HackDay/hourly_turnstile.csv.gz'\n",
    "OLD_DATA= None # if exists"
   ]
  },
  {
   "cell_type": "markdown",
   "metadata": {},
   "source": [
    "## Read the data for turnstiles with equipments"
   ]
  },
  {
   "cell_type": "code",
   "execution_count": 3,
   "metadata": {},
   "outputs": [],
   "source": [
    "turnstile_to_outage = pd.read_csv(TURNSTILE_TO_OUTAGE_DATA)\n",
    "stations_with_equipments = turnstile_to_outage.Turnstile_station.unique()"
   ]
  },
  {
   "cell_type": "markdown",
   "metadata": {},
   "source": [
    "## Read all turnstile data and filter"
   ]
  },
  {
   "cell_type": "code",
   "execution_count": 4,
   "metadata": {},
   "outputs": [],
   "source": [
    "turnstile = pd.read_pickle(TURNSTILE_RAW_DATA)\n",
    "filtered_turnstile = turnstile.loc[(turnstile.entry_diff > 0)\n",
    "                                    & (turnstile.exit_diff > 0)\n",
    "                                    & (turnstile.STATION.isin(stations_with_equipments))]\n",
    "filtered_turnstile.reset_index(inplace=True)\n",
    "filtered_turnstile = filtered_turnstile.loc[filtered_turnstile['datetime'] > pd.to_datetime(START_DATE, format='%Y%m%d', errors='ignore')]"
   ]
  },
  {
   "cell_type": "markdown",
   "metadata": {},
   "source": [
    "## Aggregate turnstile data by LINENAME, STATION and datetime"
   ]
  },
  {
   "cell_type": "code",
   "execution_count": 13,
   "metadata": {},
   "outputs": [],
   "source": [
    "def interpolate(data):\n",
    "    augmented = data.resample('1H').asfreq()\n",
    "    augmented.entry_diff.interpolate(method='linear', inplace=True)\n",
    "    augmented.exit_diff.interpolate(method='linear', inplace=True)\n",
    "    augmented.fillna(method='ffill', inplace=True)\n",
    "    return augmented"
   ]
  },
  {
   "cell_type": "code",
   "execution_count": 6,
   "metadata": {},
   "outputs": [],
   "source": [
    "filtered_turnstile = filtered_turnstile.groupby(['LINENAME', 'STATION', 'UNIT', 'SCP', 'datetime']).sum().reset_index()"
   ]
  },
  {
   "cell_type": "code",
   "execution_count": 19,
   "metadata": {},
   "outputs": [],
   "source": [
    "filtered_turnstile.set_index(pd.DatetimeIndex(filtered_turnstile.datetime), inplace=True)"
   ]
  },
  {
   "cell_type": "code",
   "execution_count": 27,
   "metadata": {},
   "outputs": [
    {
     "name": "stdout",
     "output_type": "stream",
     "text": [
      "2020-01-06 02:31:36.756296\n",
      "2020-01-06 02:32:26.255091\n"
     ]
    }
   ],
   "source": [
    "dfs = []\n",
    "filtered_turnstile.groupby(['LINENAME', 'STATION', 'UNIT', 'SCP']).apply(lambda g: dfs.append(interpolate(g)))\n",
    "interpolated = pd.concat(dfs)"
   ]
  },
  {
   "cell_type": "markdown",
   "metadata": {},
   "source": [
    "## Concatenate with existed data"
   ]
  },
  {
   "cell_type": "code",
   "execution_count": null,
   "metadata": {},
   "outputs": [],
   "source": [
    "if OLD_DATA:\n",
    "    interpolated = pd.concat(pd.read_pickle(OLD_DATA), interpolated)"
   ]
  },
  {
   "cell_type": "markdown",
   "metadata": {},
   "source": [
    "## Save the data"
   ]
  },
  {
   "cell_type": "code",
   "execution_count": null,
   "metadata": {},
   "outputs": [],
   "source": [
    "interpolated.to_csv(OUTPUT, compression='gzip')"
   ]
  }
 ],
 "metadata": {
  "celltoolbar": "Raw Cell Format",
  "kernelspec": {
   "display_name": "Python 3",
   "language": "python",
   "name": "python3"
  },
  "language_info": {
   "codemirror_mode": {
    "name": "ipython",
    "version": 3
   },
   "file_extension": ".py",
   "mimetype": "text/x-python",
   "name": "python",
   "nbconvert_exporter": "python",
   "pygments_lexer": "ipython3",
   "version": "3.6.9"
  },
  "toc": {
   "base_numbering": 1,
   "nav_menu": {},
   "number_sections": false,
   "sideBar": false,
   "skip_h1_title": false,
   "title_cell": "Table of Contents",
   "title_sidebar": "Contents",
   "toc_cell": false,
   "toc_position": {},
   "toc_section_display": false,
   "toc_window_display": false
  }
 },
 "nbformat": 4,
 "nbformat_minor": 2
}
