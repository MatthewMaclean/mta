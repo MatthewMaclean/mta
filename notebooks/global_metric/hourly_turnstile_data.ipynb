{
 "cells": [
  {
   "cell_type": "code",
   "execution_count": 1,
   "metadata": {},
   "outputs": [
    {
     "data": {
      "text/plain": [
       "RendererRegistry.enable('notebook')"
      ]
     },
     "execution_count": 1,
     "metadata": {},
     "output_type": "execute_result"
    }
   ],
   "source": [
    "import pandas as pd \n",
    "import geopandas as gp\n",
    "import altair as alt \n",
    "import gpdvega \n",
    "import json\n",
    "import matplotlib.pyplot as plt\n",
    "alt.renderers.enable('notebook') # render for Jupyter Notebook"
   ]
  },
  {
   "cell_type": "markdown",
   "metadata": {},
   "source": [
    "Read the data for turnstiles with equipments"
   ]
  },
  {
   "cell_type": "code",
   "execution_count": 2,
   "metadata": {},
   "outputs": [],
   "source": [
    "turnstile_to_outage = pd.read_csv('/nas/dft/ire/susanw/out/turnstile_to_outage_elevations.csv')\n",
    "stations_with_equipments = turnstile_to_outage.Turnstile_station.unique()"
   ]
  },
  {
   "cell_type": "markdown",
   "metadata": {},
   "source": [
    "Read all turnstile data and filter"
   ]
  },
  {
   "cell_type": "code",
   "execution_count": 96,
   "metadata": {},
   "outputs": [],
   "source": [
    "turnstile = pd.read_pickle('/nas/dft/ire/kmohan/hackday_2019_q4_mta_accessibility/data/turnstile_new.pkl.gz')\n",
    "filtered_turnstile = turnstile.loc[(turnstile.entry_diff > 0)\n",
    "                                    & (turnstile.exit_diff > 0)\n",
    "                                    & (turnstile.STATION.isin(stations_with_equipments))]\n",
    "filtered_turnstile.reset_index(inplace=True)\n",
    "filtered_turnstile = filtered_turnstile.loc[filtered_turnstile['datetime'] > pd.to_datetime('20190101', format='%Y%m%d', errors='ignore')]"
   ]
  },
  {
   "cell_type": "markdown",
   "metadata": {},
   "source": [
    "Aggregate turnstile data by LINENAME, STATION and datetime"
   ]
  },
  {
   "cell_type": "code",
   "execution_count": 97,
   "metadata": {},
   "outputs": [],
   "source": [
    "filtered_turnstile = filtered_turnstile.groupby(['LINENAME', 'STATION', 'datetime']).sum().reset_index()"
   ]
  },
  {
   "cell_type": "code",
   "execution_count": 98,
   "metadata": {},
   "outputs": [],
   "source": [
    "def interpolate(data):\n",
    "    data = data.set_index(pd.DatetimeIndex(data.datetime))\n",
    "    augmented = data.resample('1H').asfreq()\n",
    "    augmented.entry_diff = augmented.entry_diff.interpolate(method='linear')\n",
    "    augmented.exit_diff = augmented.exit_diff.interpolate(method='linear')\n",
    "    augmented = augmented.fillna(method='ffill')\n",
    "    return augmented"
   ]
  },
  {
   "cell_type": "code",
   "execution_count": 108,
   "metadata": {},
   "outputs": [],
   "source": [
    "results = pd.DataFrame()\n",
    "for ids,group in filtered_turnstile.groupby(['LINENAME', 'STATION']):\n",
    "    try:    \n",
    "        results = results.append(interpolate(group))\n",
    "    except:\n",
    "        print('issues with ', ids)"
   ]
  },
  {
   "cell_type": "code",
   "execution_count": 109,
   "metadata": {},
   "outputs": [
    {
     "data": {
      "application/vnd.jupyter.widget-view+json": {
       "model_id": "9f2743f3f1f247ffb67f57d855282ef5",
       "version_major": 2,
       "version_minor": 0
      }
     },
     "metadata": {},
     "output_type": "display_data"
    }
   ],
   "source": [
    "results.head()"
   ]
  },
  {
   "cell_type": "code",
   "execution_count": 110,
   "metadata": {},
   "outputs": [],
   "source": [
    "DATA_DIR = '/nas/dft/ire/jujiang/DataClinic2019Q4HackDay'\n",
    "results.to_csv(DATA_DIR + \"/hourly_turnstile_aggregated_by_station.csv\")"
   ]
  }
 ],
 "metadata": {
  "celltoolbar": "Raw Cell Format",
  "kernelspec": {
   "display_name": "Python [conda env:data-clinic]",
   "language": "python",
   "name": "conda-env-data-clinic-py"
  },
  "language_info": {
   "codemirror_mode": {
    "name": "ipython",
    "version": 3
   },
   "file_extension": ".py",
   "mimetype": "text/x-python",
   "name": "python",
   "nbconvert_exporter": "python",
   "pygments_lexer": "ipython3",
   "version": "3.6.6"
  },
  "toc": {
   "base_numbering": 1,
   "nav_menu": {},
   "number_sections": false,
   "sideBar": false,
   "skip_h1_title": false,
   "title_cell": "Table of Contents",
   "title_sidebar": "Contents",
   "toc_cell": false,
   "toc_position": {},
   "toc_section_display": false,
   "toc_window_display": false
  }
 },
 "nbformat": 4,
 "nbformat_minor": 2
}
